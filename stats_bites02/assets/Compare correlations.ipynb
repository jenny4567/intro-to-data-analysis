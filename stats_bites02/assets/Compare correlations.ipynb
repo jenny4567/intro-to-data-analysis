{
 "cells": [
  {
   "cell_type": "code",
   "execution_count": 63,
   "id": "90ebdcce-2078-47ea-b775-6961bd6cc6ab",
   "metadata": {},
   "outputs": [],
   "source": [
    "import pandas as pd\n",
    "import numpy as np\n",
    "import matplotlib.pyplot as plt\n",
    "\n",
    "# set random seed for reproducibility\n",
    "np.random.seed(123)\n",
    "\n",
    "# generate random data for two variables with a correlation of 0.95\n",
    "mean = [0, 0]\n",
    "cov = [[1, 0.95], [0.95, 1.0]]\n",
    "data = np.random.multivariate_normal(mean, cov, 50)\n",
    "\n",
    "# create the dataframe\n",
    "df = pd.DataFrame(data, columns=['Var1', 'Var2'])\n",
    "\n"
   ]
  },
  {
   "cell_type": "code",
   "execution_count": 65,
   "id": "26a2e2f2-fb0a-4784-860c-7a9bde7d2a1a",
   "metadata": {},
   "outputs": [
    {
     "data": {
      "image/png": "[encoded data removed]",
      "text/plain": [
       "<Figure size 432x288 with 1 Axes>"
      ]
     },
     "metadata": {
      "needs_background": "light"
     },
     "output_type": "display_data"
    }
   ],
   "source": [
    "x = df[\"Var1\"]\n",
    "y = df[\"Var2\"]\n",
    "m, c = np.polyfit(x, y, 1)\n",
    "# Plot the line of best fit\n",
    "plt.scatter(x, y)\n",
    "#plt.plot(x, m*x+c, color='green')\n",
    "\n",
    "# Add labels and a title\n",
    "plt.xlabel('x')\n",
    "plt.ylabel('y')\n",
    "plt.axis('off')\n",
    "\n",
    "plt.title('95% positive correlation')\n",
    "\n",
    "\n",
    "# Show the plot\n",
    "plt.show()\n"
   ]
  },
  {
   "cell_type": "code",
   "execution_count": null,
   "id": "b0736fbe-2f5b-4831-92a8-936d55e07e8a",
   "metadata": {},
   "outputs": [],
   "source": [
    "# set random seed for reproducibility\n",
    "np.random.seed(123)\n",
    "\n",
    "# generate random data for two variables with a correlation of 0.89\n",
    "mean = [0, 0]\n",
    "cov = [[1, 0.01], [0.01, 1.0]]\n",
    "data = np.random.multivariate_normal(mean, cov, 50)\n",
    "\n",
    "# create the dataframe\n",
    "df = pd.DataFrame(data, columns=['Var1', 'Var2'])\n",
    "\n",
    "x = df[\"Var1\"]\n",
    "y = df[\"Var2\"]\n",
    "m, c = np.polyfit(x, y, 1)\n",
    "# Plot the line of best fit\n",
    "plt.scatter(x, y)\n",
    "#plt.plot(x, m*x+c, color='green')\n",
    "\n",
    "# Add labels and a title\n",
    "plt.xlabel('x')\n",
    "plt.ylabel('y')\n",
    "plt.axis('off')\n",
    "\n",
    "plt.title('0% correlation')\n",
    "\n",
    "\n",
    "# Show the plot\n",
    "plt.show()\n",
    "df.to_csv('no_correlation.csv')"
   ]
  },
  {
   "cell_type": "code",
   "execution_count": 71,
   "id": "cdbf346a-f9b3-4f8f-8190-e9cf13093058",
   "metadata": {},
   "outputs": [
    {
     "data": {
      "image/png": "[encoded data removed]",
      "text/plain": [
       "<Figure size 432x288 with 1 Axes>"
      ]
     },
     "metadata": {
      "needs_background": "light"
     },
     "output_type": "display_data"
    }
   ],
   "source": [
    "# set random seed for reproducibility\n",
    "np.random.seed(1)\n",
    "\n",
    "# generate random data for two variables with a correlation of -0.99\n",
    "mean = [0, 0]\n",
    "cov = [[1, -0.99], [-0.99, 1.0]]\n",
    "data = np.random.multivariate_normal(mean, cov, 50)\n",
    "\n",
    "# create the dataframe\n",
    "df = pd.DataFrame(data, columns=['Var1', 'Var2'])\n",
    "\n",
    "x = df[\"Var1\"]\n",
    "y = df[\"Var2\"]\n",
    "m, c = np.polyfit(x, y, 1)\n",
    "# Plot the line of best fit\n",
    "plt.scatter(x, y)\n",
    "#plt.plot(x, m*x+c, color='green')\n",
    "\n",
    "# Add labels and a title\n",
    "plt.xlabel('x')\n",
    "plt.ylabel('y')\n",
    "plt.axis('off')\n",
    "\n",
    "plt.title('99% negative correlation')\n",
    "\n",
    "\n",
    "# Show the plot\n",
    "plt.show()"
   ]
  },
  {
   "cell_type": "code",
   "execution_count": null,
   "id": "7a1889a4-a8c7-4562-993b-0ccd02bfa0f9",
   "metadata": {},
   "outputs": [],
   "source": []
  }
 ],
 "metadata": {
  "kernelspec": {
   "display_name": "Python 3 (ipykernel)",
   "language": "python",
   "name": "python3"
  },
  "language_info": {
   "codemirror_mode": {
    "name": "ipython",
    "version": 3
   },
   "file_extension": ".py",
   "mimetype": "text/x-python",
   "name": "python",
   "nbconvert_exporter": "python",
   "pygments_lexer": "ipython3",
   "version": "3.9.7"
  }
 },
 "nbformat": 4,
 "nbformat_minor": 5
}
