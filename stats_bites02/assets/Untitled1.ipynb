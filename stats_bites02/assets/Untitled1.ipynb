{
 "cells": [
  {
   "cell_type": "code",
   "execution_count": 11,
   "id": "f57fe761-39fa-4db7-9fa1-24131838890e",
   "metadata": {},
   "outputs": [
    {
     "name": "stdout",
     "output_type": "stream",
     "text": [
      "        Var1      Var2\n",
      "0   0.821455  1.289252\n",
      "1   0.078171 -0.628344\n",
      "2   0.175168  0.949760\n",
      "3   2.459591  2.258413\n",
      "4  -1.027362 -1.433899\n",
      "5   0.682164  0.637742\n",
      "6  -1.299961 -1.599632\n",
      "7   0.533464  0.329735\n",
      "8  -2.657256 -1.631562\n",
      "9  -1.066621 -0.885483\n",
      "10 -1.066412 -0.367197\n",
      "11  0.633978  1.185491\n",
      "12  1.368477  1.069345\n",
      "13 -0.546752 -1.216862\n",
      "14  0.338262 -0.065937\n",
      "15  0.904818 -0.407837\n",
      "16  1.886263  1.557991\n",
      "17 -0.860875 -0.942318\n",
      "18 -0.164169  0.158636\n",
      "19  0.788491  0.921524\n",
      "20  1.188080  0.377731\n",
      "21  0.245429  0.514567\n",
      "22 -0.326372 -0.331921\n",
      "23 -2.422481 -2.228808\n",
      "24 -1.476331 -0.426549\n",
      "25  1.501612  1.014377\n",
      "26 -1.507920 -1.882244\n",
      "27 -0.279632  0.221921\n",
      "28 -1.277423 -0.454308\n",
      "29 -1.704727 -1.203137\n"
     ]
    }
   ],
   "source": [
    "import pandas as pd\n",
    "import numpy as np\n",
    "import matplotlib.pyplot as plt\n",
    "\n",
    "# set random seed for reproducibility\n",
    "np.random.seed(123)\n",
    "\n",
    "# generate random data for two variables with a correlation of 0.89\n",
    "mean = [0, 0]\n",
    "cov = [[1.0, 0.89], [0.89, 1.0]]\n",
    "data = np.random.multivariate_normal(mean, cov, 30)\n",
    "\n",
    "# create the dataframe\n",
    "df = pd.DataFrame(data, columns=['Var1', 'Var2'])\n",
    "\n",
    "# print the dataframe\n",
    "print(df)\n"
   ]
  },
  {
   "cell_type": "code",
   "execution_count": 12,
   "id": "0023857d-fc82-41f5-8535-12a5b91cc4c0",
   "metadata": {},
   "outputs": [
    {
     "data": {
      "text/html": [
       "<div>\n",
       "<style scoped>\n",
       "    .dataframe tbody tr th:only-of-type {\n",
       "        vertical-align: middle;\n",
       "    }\n",
       "\n",
       "    .dataframe tbody tr th {\n",
       "        vertical-align: top;\n",
       "    }\n",
       "\n",
       "    .dataframe thead th {\n",
       "        text-align: right;\n",
       "    }\n",
       "</style>\n",
       "<table border=\"1\" class=\"dataframe\">\n",
       "  <thead>\n",
       "    <tr style=\"text-align: right;\">\n",
       "      <th></th>\n",
       "      <th>Var1</th>\n",
       "      <th>Var2</th>\n",
       "    </tr>\n",
       "  </thead>\n",
       "  <tbody>\n",
       "    <tr>\n",
       "      <th>Var1</th>\n",
       "      <td>1.00000</td>\n",
       "      <td>0.89024</td>\n",
       "    </tr>\n",
       "    <tr>\n",
       "      <th>Var2</th>\n",
       "      <td>0.89024</td>\n",
       "      <td>1.00000</td>\n",
       "    </tr>\n",
       "  </tbody>\n",
       "</table>\n",
       "</div>"
      ],
      "text/plain": [
       "         Var1     Var2\n",
       "Var1  1.00000  0.89024\n",
       "Var2  0.89024  1.00000"
      ]
     },
     "execution_count": 12,
     "metadata": {},
     "output_type": "execute_result"
    }
   ],
   "source": [
    "df.corr()"
   ]
  },
  {
   "cell_type": "code",
   "execution_count": 13,
   "id": "06d58b3b-16ba-4526-85c0-3176aaa0d2a9",
   "metadata": {},
   "outputs": [
    {
     "data": {
      "text/plain": [
       "<matplotlib.collections.PathCollection at 0x2aa48c627f0>"
      ]
     },
     "execution_count": 13,
     "metadata": {},
     "output_type": "execute_result"
    },
    {
     "data": {
      "image/png": "[encoded data removed]",
      "text/plain": [
       "<Figure size 432x288 with 1 Axes>"
      ]
     },
     "metadata": {
      "needs_background": "light"
     },
     "output_type": "display_data"
    }
   ],
   "source": [
    "x = df[\"Var1\"]\n",
    "y = df[\"Var2\"]\n",
    "plt.scatter(x, y)"
   ]
  },
  {
   "cell_type": "code",
   "execution_count": 30,
   "id": "693c721e-c3c1-469f-9a15-665b67a12eef",
   "metadata": {},
   "outputs": [
    {
     "data": {
      "image/png": "[encoded data removed]",
      "text/plain": [
       "<Figure size 432x288 with 1 Axes>"
      ]
     },
     "metadata": {
      "needs_background": "light"
     },
     "output_type": "display_data"
    }
   ],
   "source": [
    "m, c = np.polyfit(x, y, 1)\n",
    "# Plot the line of best fit\n",
    "plt.scatter(x, y)\n",
    "plt.plot(x, m*x+c, color='g')\n",
    "\n",
    "# Add labels and a title\n",
    "plt.xlabel('x')\n",
    "plt.ylabel('y')\n",
    "\n",
    "\n",
    "# Show the plot\n",
    "plt.show()"
   ]
  },
  {
   "cell_type": "code",
   "execution_count": null,
   "id": "25162621-463c-410f-8459-c73acbf1936e",
   "metadata": {},
   "outputs": [],
   "source": []
  }
 ],
 "metadata": {
  "kernelspec": {
   "display_name": "Python 3 (ipykernel)",
   "language": "python",
   "name": "python3"
  },
  "language_info": {
   "codemirror_mode": {
    "name": "ipython",
    "version": 3
   },
   "file_extension": ".py",
   "mimetype": "text/x-python",
   "name": "python",
   "nbconvert_exporter": "python",
   "pygments_lexer": "ipython3",
   "version": "3.9.7"
  }
 },
 "nbformat": 4,
 "nbformat_minor": 5
}
