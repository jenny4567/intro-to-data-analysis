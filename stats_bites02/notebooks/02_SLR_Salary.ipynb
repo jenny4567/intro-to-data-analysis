{
 "cells": [
  {
   "cell_type": "markdown",
   "id": "47821d94-21fd-49e5-963a-e6af1d624366",
   "metadata": {},
   "source": [
    "# Simple Linear Regression - Salary Data #\n",
    "Use the dataset ***SLR_Data.csv*** for this exercise.\n"
   ]
  },
  {
   "cell_type": "markdown",
   "id": "d2031968-b814-465c-8753-8f0c5802d0d2",
   "metadata": {},
   "source": [
    "## Import relevant packages and read the data ##"
   ]
  },
  {
   "cell_type": "code",
   "execution_count": null,
   "id": "970aab18-7302-46df-8769-0f438484b722",
   "metadata": {},
   "outputs": [],
   "source": []
  },
  {
   "cell_type": "markdown",
   "id": "a7e42136-9410-4052-a6c7-b715d44097e6",
   "metadata": {},
   "source": [
    "## Explore the data ##\n"
   ]
  },
  {
   "cell_type": "code",
   "execution_count": null,
   "id": "dcf6b5eb-035f-4902-8859-239f71b80e49",
   "metadata": {},
   "outputs": [],
   "source": []
  },
  {
   "cell_type": "markdown",
   "id": "2957f13d-0028-49d1-bcf6-791886ed81fb",
   "metadata": {},
   "source": [
    "## Plot a Scatter graph ##"
   ]
  },
  {
   "cell_type": "code",
   "execution_count": null,
   "id": "b624f475-6f6c-4609-a1c4-9e592b5c5ea4",
   "metadata": {},
   "outputs": [],
   "source": []
  },
  {
   "cell_type": "markdown",
   "id": "3a5f6122-01ba-4c51-841e-0d5246e627b0",
   "metadata": {},
   "source": [
    "## Split the DataFrame into train and test data ##"
   ]
  },
  {
   "cell_type": "code",
   "execution_count": null,
   "id": "6e0ac9ec-cba9-4173-b868-e8bf34403791",
   "metadata": {},
   "outputs": [],
   "source": []
  },
  {
   "cell_type": "markdown",
   "id": "ce492798-5569-4848-8461-df0975850134",
   "metadata": {},
   "source": [
    "\n",
    " ## Train the model\n",
    "\n"
   ]
  },
  {
   "cell_type": "code",
   "execution_count": null,
   "id": "00986b40-d8dc-4218-931a-67ec0ba2d7fe",
   "metadata": {},
   "outputs": [],
   "source": [
    "\n"
   ]
  },
  {
   "cell_type": "markdown",
   "id": "4f3a810b-d2fb-41de-8c9b-ae192067f3e8",
   "metadata": {},
   "source": [
    "## Interpret the model results\n"
   ]
  },
  {
   "cell_type": "code",
   "execution_count": null,
   "id": "64f57263-c844-42cf-acfe-e61f343d656c",
   "metadata": {},
   "outputs": [],
   "source": []
  },
  {
   "cell_type": "markdown",
   "id": "d8386cd6-cdee-4be7-a741-5e6937226a7a",
   "metadata": {},
   "source": [
    "## Predict data in the test set ##\n",
    "\n"
   ]
  },
  {
   "cell_type": "code",
   "execution_count": null,
   "id": "4109705e-5608-4a0a-9865-0558a2f3a307",
   "metadata": {},
   "outputs": [],
   "source": []
  },
  {
   "cell_type": "markdown",
   "id": "d2dec081-ffc8-4184-bf5b-6afa84491182",
   "metadata": {},
   "source": [
    "## Is the model also 'a good fit' for our test data? ##\n"
   ]
  },
  {
   "cell_type": "code",
   "execution_count": null,
   "id": "63fe49ff-be8a-4222-97ce-b58389b0712f",
   "metadata": {},
   "outputs": [],
   "source": []
  },
  {
   "cell_type": "markdown",
   "id": "3b2e09fb-12e5-4e51-8c36-be482a7bc77e",
   "metadata": {},
   "source": [
    "## Rebuild the model for the whole data set ##"
   ]
  },
  {
   "cell_type": "code",
   "execution_count": null,
   "id": "d6917d09-04ec-476b-9c23-0987fefcadea",
   "metadata": {},
   "outputs": [],
   "source": []
  },
  {
   "cell_type": "markdown",
   "id": "edcffd11-9b5d-4b6d-8b1e-2ade03514ea1",
   "metadata": {},
   "source": [
    "## Make a prediction ##"
   ]
  },
  {
   "cell_type": "code",
   "execution_count": null,
   "id": "d6a5ce87-a2a6-45f0-a6b5-3698d8692ab8",
   "metadata": {},
   "outputs": [],
   "source": []
  }
 ],
 "metadata": {
  "kernelspec": {
   "display_name": "Python 3 (ipykernel)",
   "language": "python",
   "name": "python3"
  },
  "language_info": {
   "codemirror_mode": {
    "name": "ipython",
    "version": 3
   },
   "file_extension": ".py",
   "mimetype": "text/x-python",
   "name": "python",
   "nbconvert_exporter": "python",
   "pygments_lexer": "ipython3",
   "version": "3.9.7"
  }
 },
 "nbformat": 4,
 "nbformat_minor": 5
}
