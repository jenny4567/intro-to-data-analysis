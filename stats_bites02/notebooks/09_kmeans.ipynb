{
 "cells": [
  {
   "cell_type": "markdown",
   "metadata": {},
   "source": [
    "# Clustering - K-means\n",
    "\n"
   ]
  },
  {
   "cell_type": "markdown",
   "metadata": {},
   "source": [
    "## Import libraries\n",
    "---"
   ]
  },
  {
   "cell_type": "code",
   "execution_count": null,
   "metadata": {},
   "outputs": [],
   "source": [
    "import pandas as pd                               # For dataframes\n",
    "import matplotlib.pyplot as plt                   # For plotting data\n",
    "import seaborn as sns                             # For plotting data\n",
    "from sklearn.cluster import KMeans                # For k-Means\n",
    "from sklearn.model_selection import GridSearchCV  # For grid search\n",
    "from sklearn.metrics import silhouette_score      # For metrics and scores\n",
    "from sklearn.preprocessing import StandardScaler  # For standardizing data\n",
    "import numpy as np"
   ]
  },
  {
   "cell_type": "markdown",
   "metadata": {},
   "source": [
    "# Load and prepare data\n",
    "Read the `penguins.csv` file from the `data` directory in variable `df`. Keep all features in variable `df` and store the class variable in `y`. Also, standardize the data so each variable has a mean of zero and unit variance (i.e., variance and standard deviation of one)."
   ]
  },
  {
   "cell_type": "code",
   "execution_count": null,
   "metadata": {},
   "outputs": [
    {
     "data": {
      "text/html": [
       "<div>\n",
       "<style scoped>\n",
       "    .dataframe tbody tr th:only-of-type {\n",
       "        vertical-align: middle;\n",
       "    }\n",
       "\n",
       "    .dataframe tbody tr th {\n",
       "        vertical-align: top;\n",
       "    }\n",
       "\n",
       "    .dataframe thead th {\n",
       "        text-align: right;\n",
       "    }\n",
       "</style>\n",
       "<table border=\"1\" class=\"dataframe\">\n",
       "  <thead>\n",
       "    <tr style=\"text-align: right;\">\n",
       "      <th></th>\n",
       "      <th>bill_length_mm</th>\n",
       "      <th>bill_depth_mm</th>\n",
       "      <th>flipper_length_mm</th>\n",
       "      <th>body_mass_g</th>\n",
       "    </tr>\n",
       "  </thead>\n",
       "  <tbody>\n",
       "    <tr>\n",
       "      <th>0</th>\n",
       "      <td>-0.884499</td>\n",
       "      <td>0.785449</td>\n",
       "      <td>-1.418347</td>\n",
       "      <td>-0.564142</td>\n",
       "    </tr>\n",
       "    <tr>\n",
       "      <th>1</th>\n",
       "      <td>-0.811126</td>\n",
       "      <td>0.126188</td>\n",
       "      <td>-1.062250</td>\n",
       "      <td>-0.501703</td>\n",
       "    </tr>\n",
       "    <tr>\n",
       "      <th>2</th>\n",
       "      <td>-0.664380</td>\n",
       "      <td>0.430462</td>\n",
       "      <td>-0.421277</td>\n",
       "      <td>-1.188532</td>\n",
       "    </tr>\n",
       "    <tr>\n",
       "      <th>3</th>\n",
       "      <td>-1.324737</td>\n",
       "      <td>1.089724</td>\n",
       "      <td>-0.563715</td>\n",
       "      <td>-0.938776</td>\n",
       "    </tr>\n",
       "    <tr>\n",
       "      <th>4</th>\n",
       "      <td>-0.847812</td>\n",
       "      <td>1.748985</td>\n",
       "      <td>-0.777373</td>\n",
       "      <td>-0.689020</td>\n",
       "    </tr>\n",
       "  </tbody>\n",
       "</table>\n",
       "</div>"
      ],
      "text/plain": [
       "   bill_length_mm  bill_depth_mm  flipper_length_mm  body_mass_g\n",
       "0       -0.884499       0.785449          -1.418347    -0.564142\n",
       "1       -0.811126       0.126188          -1.062250    -0.501703\n",
       "2       -0.664380       0.430462          -0.421277    -1.188532\n",
       "3       -1.324737       1.089724          -0.563715    -0.938776\n",
       "4       -0.847812       1.748985          -0.777373    -0.689020"
      ]
     },
     "execution_count": 22,
     "metadata": {},
     "output_type": "execute_result"
    }
   ],
   "source": [
    "# Reads the .csv file into variable df\n",
    "df = pd.read_csv('../datasets/penguins.csv')\n",
    "\n",
    "# Separates the class variable in y\n",
    "y = df.y\n",
    "\n",
    "# Removes the y column from df\n",
    "df = df.drop('y', axis=1)\n",
    "\n",
    "# Standardizes df\n",
    "df = pd.DataFrame(\n",
    "    StandardScaler().fit_transform(df),\n",
    "    columns=df.columns)\n",
    "\n",
    "# Displays the first 5 rows of df\n",
    "df.head()"
   ]
  },
  {
   "cell_type": "markdown",
   "metadata": {},
   "source": [
    "## Running k-means\n",
    "---\n",
    "\n",
    "### k-Means: Train the Model\n",
    "We'll set up a `KMeans` object with the following parameters:\n",
    "\n",
    "- `n_clusters`: Total number of clusters to make.\n",
    "- `random_state`: Set to one to reproduce these results.\n",
    "- `init`: How to initialize the k-means centers; we'll use `k-means++`.\n",
    "- `n_init`: Number of times k-means would be run; the model returned would have the minimum value of `inertia`.\n",
    "\n",
    "A few attributes of the `KMeans` object, which are also used in this demo are:\n",
    "- `cluster_centers_`: Stores the discovered cluster centers.\n",
    "- `labels_`: Label of each instance.\n",
    "- `inertia`: Sum of square of distances of each instance from its corresponding center.\n",
    "- `n_iter`: Number of iterations run to find the centers."
   ]
  },
  {
   "cell_type": "code",
   "execution_count": null,
   "metadata": {},
   "outputs": [
    {
     "data": {
      "text/plain": [
       "{'algorithm': 'auto',\n",
       " 'copy_x': True,\n",
       " 'init': 'k-means++',\n",
       " 'max_iter': 300,\n",
       " 'n_clusters': 3,\n",
       " 'n_init': 10,\n",
       " 'n_jobs': 'deprecated',\n",
       " 'precompute_distances': 'deprecated',\n",
       " 'random_state': 1,\n",
       " 'tol': 0.0001,\n",
       " 'verbose': 0}"
      ]
     },
     "execution_count": 23,
     "metadata": {},
     "output_type": "execute_result"
    }
   ],
   "source": [
    "# Sets up the kMeans object\n",
    "km = KMeans(\n",
    "    n_clusters=3,\n",
    "    random_state=1,\n",
    "    init='k-means++',\n",
    "    n_init=10)\n",
    "\n",
    "# Fits the model to the data\n",
    "km.fit(df)\n",
    "\n",
    "# Displays the parameters of the fitted model\n",
    "km.get_params()"
   ]
  },
  {
   "cell_type": "markdown",
   "metadata": {},
   "source": [
    "### k-Means: Visualize the Clusters\n",
    "\n",
    "The code below creates a scatterplot of the first two features. Each point is colored according to its actual label. For comparison, each instance is drawn with a marker according to the label found by the clustering algorithm."
   ]
  },
  {
   "cell_type": "code",
   "execution_count": 25,
   "metadata": {},
   "outputs": [
    {
     "data": {
      "text/plain": [
       "<matplotlib.collections.PathCollection at 0x1b6c7c0c7f0>"
      ]
     },
     "execution_count": 25,
     "metadata": {},
     "output_type": "execute_result"
    },
    {
     "data": {
      "image/png": "[encoded data removed]",
      "text/plain": [
       "<Figure size 432x288 with 1 Axes>"
      ]
     },
     "metadata": {
      "needs_background": "light"
     },
     "output_type": "display_data"
    }
   ],
   "source": [
    "# Creates a scatter plot\n",
    "sns.scatterplot(\n",
    "    x='bill_length_mm', \n",
    "    y='bill_depth_mm',\n",
    "    data=df, \n",
    "    hue=y,\n",
    "    style=km.labels_,\n",
    "    palette=[\"green\", \"orange\", \"blue\"])\n",
    "# Adds cluster centers to the same plot\n",
    "plt.scatter(\n",
    "    km.cluster_centers_[:,0],\n",
    "    km.cluster_centers_[:,1],\n",
    "    marker='o',\n",
    "    s=100,\n",
    "    c='red')\n"
   ]
  },
  {
   "cell_type": "markdown",
   "metadata": {},
   "source": [
    "## k-means: Optimize via silhouette scores\n",
    "---\n",
    "The main challenge in k-means is to find the optimal number of clusters. We can set up a `GridSearchCV` object to search for the optimal parameters. For k-Mmeans, we require a custom scorer that computes the silhouette value for different number of clusters specified by `n_clusters`. The custom scorer is called `s2()` in the code below, where it uses `silhouette_score()` from the `sklearn.metrics` library to compute a score for an instance `X`. \n",
    "\n",
    "A silhouette score is a value in [-1,+1]. It is a means for comparing how similar an instance is to its corresponding cluster compared to its similarity with other clusters. Formally, it takes into account `cohesion` and `separation` to compute a silhouette value. A +1 or close to this score value indicates better clusters."
   ]
  },
  {
   "cell_type": "code",
   "execution_count": 5,
   "metadata": {},
   "outputs": [
    {
     "data": {
      "text/plain": [
       "{'algorithm': 'auto',\n",
       " 'copy_x': True,\n",
       " 'init': 'k-means++',\n",
       " 'max_iter': 300,\n",
       " 'n_clusters': 2,\n",
       " 'n_init': 10,\n",
       " 'n_jobs': 'deprecated',\n",
       " 'precompute_distances': 'deprecated',\n",
       " 'random_state': 0,\n",
       " 'tol': 0.0001,\n",
       " 'verbose': 0}"
      ]
     },
     "execution_count": 5,
     "metadata": {},
     "output_type": "execute_result"
    }
   ],
   "source": [
    "# Sets up the custom scorer\n",
    "def s2(estimator,X):\n",
    "    return silhouette_score(X, estimator.predict(X))\n",
    "\n",
    "# List of values for the parameter `n_clusters`\n",
    "param = range(2,10)\n",
    "\n",
    "# KMeans object\n",
    "km = KMeans(random_state=0, init='k-means++')\n",
    "\n",
    "# Sets up GridSearchCV object and stores in grid variable\n",
    "grid = GridSearchCV(\n",
    "    km,\n",
    "    {'n_clusters': param},\n",
    "    scoring=s2,\n",
    "    cv=2)\n",
    "\n",
    "# Fits the grid object to data\n",
    "grid.fit(df)\n",
    "\n",
    "# Accesses the optimum model\n",
    "best_km = grid.best_estimator_\n",
    "\n",
    "# Displays the optimum model\n",
    "best_km.get_params()"
   ]
  },
  {
   "cell_type": "markdown",
   "metadata": {},
   "source": [
    "## Plot of Scores for Different Number of Clusters\n",
    "The `grid` object has an attribute `cv_results_` through which the scores for different `n_clusters` can be accessed."
   ]
  },
  {
   "cell_type": "code",
   "execution_count": 6,
   "metadata": {},
   "outputs": [
    {
     "data": {
      "text/plain": [
       "Text(0, 0.5, 'Silhouette Score')"
      ]
     },
     "execution_count": 6,
     "metadata": {},
     "output_type": "execute_result"
    },
    {
     "data": {
      "image/png": "[encoded data removed]",
      "text/plain": [
       "<Figure size 432x288 with 1 Axes>"
      ]
     },
     "metadata": {
      "needs_background": "light"
     },
     "output_type": "display_data"
    }
   ],
   "source": [
    "# Plot mean_test_scores vs. n_clusters\n",
    "plt.plot(\n",
    "    param,\n",
    "    grid.cv_results_['mean_test_score'])\n",
    "\n",
    "# Draw a vertical line, where the best model is\n",
    "plt.axvline(\n",
    "    x=best_km.n_clusters, \n",
    "    color='red',\n",
    "    ls='--')\n",
    "\n",
    "# Adds labels to the plot\n",
    "plt.xlabel('Total Centers')\n",
    "plt.ylabel('Silhouette Score')"
   ]
  },
  {
   "cell_type": "markdown",
   "metadata": {},
   "source": [
    "## Visualize the Best Model\n",
    "Code below creates a visualization of the clusters stored in the optimum model `best_km`."
   ]
  },
  {
   "cell_type": "code",
   "execution_count": 12,
   "metadata": {},
   "outputs": [
    {
     "data": {
      "text/plain": [
       "<matplotlib.collections.PathCollection at 0x1b6c6972040>"
      ]
     },
     "execution_count": 12,
     "metadata": {},
     "output_type": "execute_result"
    },
    {
     "data": {
      "image/png": "[encoded data removed]",
      "text/plain": [
       "<Figure size 432x288 with 1 Axes>"
      ]
     },
     "metadata": {
      "needs_background": "light"
     },
     "output_type": "display_data"
    }
   ],
   "source": [
    "# Creates a scatter plot\n",
    "sns.scatterplot(\n",
    "    x='bill_length_mm', \n",
    "    y='bill_depth_mm',\n",
    "    data=df, \n",
    "    hue = y,\n",
    "    style=best_km.labels_,\n",
    "    palette=['orange', 'green', 'blue'])\n",
    "\n",
    "# Adds cluster centers to the same plot\n",
    "plt.scatter(\n",
    "    best_km.cluster_centers_[:, 0],\n",
    "    best_km.cluster_centers_[:, 1],\n",
    "    marker='o',\n",
    "    s=100,\n",
    "    c='red')"
   ]
  },
  {
   "cell_type": "code",
   "execution_count": 16,
   "metadata": {},
   "outputs": [
    {
     "data": {
      "text/plain": [
       "array([1, 1, 1, 1, 1, 1, 1, 1, 1, 1, 1, 1, 1, 1, 1, 1, 1, 1, 1, 1, 1, 1,\n",
       "       1, 1, 1, 1, 1, 1, 1, 1, 1, 1, 1, 1, 1, 1, 1, 1, 1, 1, 1, 1, 1, 1,\n",
       "       1, 1, 1, 1, 1, 1, 1, 1, 1, 1, 1, 1, 1, 1, 1, 1, 1, 1, 1, 1, 1, 1,\n",
       "       1, 1, 1, 1, 1, 1, 1, 1, 1, 1, 1, 1, 1, 1, 1, 1, 1, 1, 1, 1, 1, 1,\n",
       "       1, 1, 1, 1, 1, 1, 1, 1, 1, 1, 1, 1, 1, 1, 1, 1, 1, 1, 1, 1, 1, 1,\n",
       "       1, 1, 1, 1, 1, 1, 1, 1, 1, 1, 1, 1, 1, 1, 1, 1, 1, 1, 1, 1, 1, 1,\n",
       "       1, 1, 1, 1, 1, 1, 1, 1, 1, 1, 1, 1, 1, 1, 1, 1, 1, 1, 1, 0, 0, 0,\n",
       "       0, 0, 0, 0, 0, 0, 0, 0, 0, 0, 0, 0, 0, 0, 0, 0, 0, 0, 0, 0, 0, 0,\n",
       "       0, 0, 0, 0, 0, 0, 0, 0, 0, 0, 0, 0, 0, 0, 0, 0, 0, 0, 0, 0, 0, 0,\n",
       "       0, 0, 0, 0, 0, 0, 0, 0, 0, 0, 0, 0, 0, 0, 0, 0, 0, 0, 0, 0, 0, 0,\n",
       "       0, 0, 0, 0, 0, 0, 0, 0, 0, 0, 0, 0, 0, 0, 0, 0, 0, 0, 0, 0, 0, 0,\n",
       "       0, 0, 0, 0, 0, 0, 0, 0, 0, 0, 0, 0, 0, 0, 0, 0, 0, 0, 0, 0, 0, 0,\n",
       "       0, 0, 0, 0, 0, 0, 0, 0, 0, 0, 1, 1, 1, 1, 1, 1, 1, 1, 1, 1, 1, 1,\n",
       "       1, 1, 1, 1, 1, 1, 1, 1, 1, 1, 1, 1, 1, 1, 1, 1, 1, 1, 1, 1, 1, 1,\n",
       "       1, 1, 1, 1, 1, 1, 1, 1, 1, 1, 1, 1, 1, 1, 1, 1, 1, 1, 1, 1, 1, 1,\n",
       "       1, 1, 1, 1, 1, 1, 1, 1, 1, 1, 1, 1])"
      ]
     },
     "execution_count": 16,
     "metadata": {},
     "output_type": "execute_result"
    }
   ],
   "source": [
    "km = KMeans(n_clusters=2)\n",
    "y_predicted = km.fit_predict(df[['bill_length_mm','bill_depth_mm','flipper_length_mm','body_mass_g']])\n",
    "y_predicted"
   ]
  },
  {
   "cell_type": "code",
   "execution_count": 17,
   "metadata": {},
   "outputs": [],
   "source": [
    "df[\"cluster\"]=y_predicted"
   ]
  },
  {
   "cell_type": "code",
   "execution_count": 18,
   "metadata": {},
   "outputs": [
    {
     "data": {
      "text/html": [
       "<div>\n",
       "<style scoped>\n",
       "    .dataframe tbody tr th:only-of-type {\n",
       "        vertical-align: middle;\n",
       "    }\n",
       "\n",
       "    .dataframe tbody tr th {\n",
       "        vertical-align: top;\n",
       "    }\n",
       "\n",
       "    .dataframe thead th {\n",
       "        text-align: right;\n",
       "    }\n",
       "</style>\n",
       "<table border=\"1\" class=\"dataframe\">\n",
       "  <thead>\n",
       "    <tr style=\"text-align: right;\">\n",
       "      <th></th>\n",
       "      <th>bill_length_mm</th>\n",
       "      <th>bill_depth_mm</th>\n",
       "      <th>flipper_length_mm</th>\n",
       "      <th>body_mass_g</th>\n",
       "      <th>cluster</th>\n",
       "    </tr>\n",
       "  </thead>\n",
       "  <tbody>\n",
       "    <tr>\n",
       "      <th>0</th>\n",
       "      <td>-0.884499</td>\n",
       "      <td>0.785449</td>\n",
       "      <td>-1.418347</td>\n",
       "      <td>-0.564142</td>\n",
       "      <td>1</td>\n",
       "    </tr>\n",
       "    <tr>\n",
       "      <th>1</th>\n",
       "      <td>-0.811126</td>\n",
       "      <td>0.126188</td>\n",
       "      <td>-1.062250</td>\n",
       "      <td>-0.501703</td>\n",
       "      <td>1</td>\n",
       "    </tr>\n",
       "    <tr>\n",
       "      <th>2</th>\n",
       "      <td>-0.664380</td>\n",
       "      <td>0.430462</td>\n",
       "      <td>-0.421277</td>\n",
       "      <td>-1.188532</td>\n",
       "      <td>1</td>\n",
       "    </tr>\n",
       "    <tr>\n",
       "      <th>3</th>\n",
       "      <td>-1.324737</td>\n",
       "      <td>1.089724</td>\n",
       "      <td>-0.563715</td>\n",
       "      <td>-0.938776</td>\n",
       "      <td>1</td>\n",
       "    </tr>\n",
       "    <tr>\n",
       "      <th>4</th>\n",
       "      <td>-0.847812</td>\n",
       "      <td>1.748985</td>\n",
       "      <td>-0.777373</td>\n",
       "      <td>-0.689020</td>\n",
       "      <td>1</td>\n",
       "    </tr>\n",
       "    <tr>\n",
       "      <th>...</th>\n",
       "      <td>...</td>\n",
       "      <td>...</td>\n",
       "      <td>...</td>\n",
       "      <td>...</td>\n",
       "      <td>...</td>\n",
       "    </tr>\n",
       "    <tr>\n",
       "      <th>337</th>\n",
       "      <td>2.178824</td>\n",
       "      <td>1.343286</td>\n",
       "      <td>0.433355</td>\n",
       "      <td>-0.251947</td>\n",
       "      <td>1</td>\n",
       "    </tr>\n",
       "    <tr>\n",
       "      <th>338</th>\n",
       "      <td>-0.077396</td>\n",
       "      <td>0.481175</td>\n",
       "      <td>0.077258</td>\n",
       "      <td>-1.001215</td>\n",
       "      <td>1</td>\n",
       "    </tr>\n",
       "    <tr>\n",
       "      <th>339</th>\n",
       "      <td>1.041543</td>\n",
       "      <td>0.531887</td>\n",
       "      <td>-0.563715</td>\n",
       "      <td>-0.532923</td>\n",
       "      <td>1</td>\n",
       "    </tr>\n",
       "    <tr>\n",
       "      <th>340</th>\n",
       "      <td>1.261662</td>\n",
       "      <td>0.937586</td>\n",
       "      <td>0.647013</td>\n",
       "      <td>-0.127069</td>\n",
       "      <td>1</td>\n",
       "    </tr>\n",
       "    <tr>\n",
       "      <th>341</th>\n",
       "      <td>1.151602</td>\n",
       "      <td>0.785449</td>\n",
       "      <td>-0.207619</td>\n",
       "      <td>-0.532923</td>\n",
       "      <td>1</td>\n",
       "    </tr>\n",
       "  </tbody>\n",
       "</table>\n",
       "<p>342 rows × 5 columns</p>\n",
       "</div>"
      ],
      "text/plain": [
       "     bill_length_mm  bill_depth_mm  flipper_length_mm  body_mass_g  cluster\n",
       "0         -0.884499       0.785449          -1.418347    -0.564142        1\n",
       "1         -0.811126       0.126188          -1.062250    -0.501703        1\n",
       "2         -0.664380       0.430462          -0.421277    -1.188532        1\n",
       "3         -1.324737       1.089724          -0.563715    -0.938776        1\n",
       "4         -0.847812       1.748985          -0.777373    -0.689020        1\n",
       "..              ...            ...                ...          ...      ...\n",
       "337        2.178824       1.343286           0.433355    -0.251947        1\n",
       "338       -0.077396       0.481175           0.077258    -1.001215        1\n",
       "339        1.041543       0.531887          -0.563715    -0.532923        1\n",
       "340        1.261662       0.937586           0.647013    -0.127069        1\n",
       "341        1.151602       0.785449          -0.207619    -0.532923        1\n",
       "\n",
       "[342 rows x 5 columns]"
      ]
     },
     "execution_count": 18,
     "metadata": {},
     "output_type": "execute_result"
    }
   ],
   "source": [
    "df"
   ]
  },
  {
   "cell_type": "code",
   "execution_count": null,
   "metadata": {},
   "outputs": [],
   "source": []
  }
 ],
 "metadata": {
  "kernelspec": {
   "display_name": "Python 3 (ipykernel)",
   "language": "python",
   "name": "python3"
  },
  "language_info": {
   "codemirror_mode": {
    "name": "ipython",
    "version": 3
   },
   "file_extension": ".py",
   "mimetype": "text/x-python",
   "name": "python",
   "nbconvert_exporter": "python",
   "pygments_lexer": "ipython3",
   "version": "3.9.7"
  }
 },
 "nbformat": 4,
 "nbformat_minor": 4
}
