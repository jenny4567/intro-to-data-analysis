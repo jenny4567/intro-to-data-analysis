{
 "cells": [
  {
   "attachments": {},
   "cell_type": "markdown",
   "id": "47821d94-21fd-49e5-963a-e6af1d624366",
   "metadata": {},
   "source": [
    "# Simple Linear Regression - Model Validation #\n",
    "Work through the code in the cells, run them and then look at the relevant output and interpret the model."
   ]
  },
  {
   "attachments": {},
   "cell_type": "markdown",
   "id": "84417147-c5eb-423e-8522-1495671d808c",
   "metadata": {},
   "source": [
    "<hr>\n",
    "\n",
    "## Importing packages and reading the data ##\n",
    "\n"
   ]
  },
  {
   "attachments": {},
   "cell_type": "markdown",
   "id": "ab136a06",
   "metadata": {},
   "source": [
    "If you haven't already, you may need to download the relevent packages to your virtual environment.\n",
    "\n",
    "(If you haven't set up a virtual environment already, now's the time to do so!)\n",
    "\n",
    "``` shell\n",
    "python3 -m venv my-venv-name\n",
    "source my-venv-name/bin/activate\n",
    "```\n",
    "\n",
    "You can call your virtual environment whatever you like, not just `my-venv-name`.\n",
    "\n",
    "``` shell \n",
    "(my-venv-name) pip install -U scikit-learn \n",
    "``` \n",
    "It then downloads ...\n",
    "``` shell\n",
    "(my-venv-name) pip install -U statsmodels\n",
    "```\n",
    "It also downloads...\n",
    "\n",
    "``` shell\n",
    "(my-venv-name) pip install -U pandas matplotlib\n",
    "```\n",
    "Make sure you have pandas & matplotlib in this venv\n",
    "You can always check by running:\n",
    "``` shell\n",
    "(my-venv-name) pip freeze > requirements.txt\n",
    "```\n",
    "And then open up `requirements.txt` and check the module/library has downloaded."
   ]
  },
  {
   "cell_type": "code",
   "execution_count": 2,
   "id": "466c0eeb-d187-4642-a702-f017b1788d8a",
   "metadata": {},
   "outputs": [],
   "source": [
    "# Import the required packages\n",
    "\n",
    "import pandas as pd\n",
    "import matplotlib.pyplot as plt\n",
    "from sklearn.model_selection import train_test_split\n",
    "import statsmodels.api as sm\n",
    "import sklearn.metrics as metrics\n",
    "import warnings\n",
    "warnings.simplefilter(action='ignore', category=FutureWarning)\n",
    "\n",
    "df = pd.read_csv(\"../datasets/SLR_advertising_budget.csv\")\n",
    "\n"
   ]
  },
  {
   "attachments": {},
   "cell_type": "markdown",
   "id": "a7e42136-9410-4052-a6c7-b715d44097e6",
   "metadata": {},
   "source": [
    "<HR>"
   ]
  },
  {
   "attachments": {},
   "cell_type": "markdown",
   "id": "3a5f6122-01ba-4c51-841e-0d5246e627b0",
   "metadata": {},
   "source": [
    "## Split the DataFrame into train and test data ##"
   ]
  },
  {
   "cell_type": "code",
   "execution_count": 3,
   "id": "0844d8a5-a3d6-4b45-86a6-c6c5116e05f4",
   "metadata": {},
   "outputs": [
    {
     "name": "stdout",
     "output_type": "stream",
     "text": [
      "150\n",
      "50\n",
      "0.25\n"
     ]
    }
   ],
   "source": [
    "train, test = train_test_split(\n",
    "    df,\n",
    "    random_state = 13 # this ensures that we get the same answer each time\n",
    ")\n",
    "\n",
    "print(len(train))\n",
    "print(len(test))\n",
    "print(len(test)/(len(train)+len(test)))"
   ]
  },
  {
   "attachments": {},
   "cell_type": "markdown",
   "id": "ce492798-5569-4848-8461-df0975850134",
   "metadata": {},
   "source": [
    "<hr>\n",
    " \n",
    " ## Train the model\n",
    "\n",
    "\n",
    "The syntax for building a regression model is:\n",
    "> model = sm.OLS(<br>\n",
    "&nbsp;&nbsp;&nbsp;&nbsp;DataFrame['dependent variable'],<br>\n",
    "&nbsp;&nbsp;&nbsp;&nbsp;DataFrame[['independent variable 1','independent variable 2',...]]<br>\n",
    ").fit()\n"
   ]
  },
  {
   "cell_type": "code",
   "execution_count": 4,
   "id": "00986b40-d8dc-4218-931a-67ec0ba2d7fe",
   "metadata": {},
   "outputs": [],
   "source": [
    "# Identify dependent and independent variables\n",
    "\n",
    "dependent_var = train['Sales']\n",
    "independent_var = train['Advertising']\n",
    "independent_var = sm.add_constant(independent_var)\n",
    "\n",
    "# Build the model \n",
    "model = sm.OLS(\n",
    "    dependent_var,\n",
    "    independent_var\n",
    ").fit()\n"
   ]
  },
  {
   "attachments": {},
   "cell_type": "markdown",
   "id": "4f3a810b-d2fb-41de-8c9b-ae192067f3e8",
   "metadata": {},
   "source": [
    "<hr>\n",
    "\n",
    "## Interpret the model results\n",
    "In this section, we will interpret the model results. The summary statistics printed below give us the line of best fit. However, it also provides us with information if the model is 'a good fit’ for our data, meaning how accurately it can predict outcomes or trends seen in the data."
   ]
  },
  {
   "cell_type": "code",
   "execution_count": 5,
   "id": "64f57263-c844-42cf-acfe-e61f343d656c",
   "metadata": {},
   "outputs": [
    {
     "data": {
      "text/html": [
       "<table class=\"simpletable\">\n",
       "<caption>OLS Regression Results</caption>\n",
       "<tr>\n",
       "  <th>Dep. Variable:</th>          <td>Sales</td>      <th>  R-squared:         </th> <td>   0.738</td>\n",
       "</tr>\n",
       "<tr>\n",
       "  <th>Model:</th>                   <td>OLS</td>       <th>  Adj. R-squared:    </th> <td>   0.736</td>\n",
       "</tr>\n",
       "<tr>\n",
       "  <th>Method:</th>             <td>Least Squares</td>  <th>  F-statistic:       </th> <td>   416.8</td>\n",
       "</tr>\n",
       "<tr>\n",
       "  <th>Date:</th>             <td>Wed, 14 Jun 2023</td> <th>  Prob (F-statistic):</th> <td>6.94e-45</td>\n",
       "</tr>\n",
       "<tr>\n",
       "  <th>Time:</th>                 <td>12:16:32</td>     <th>  Log-Likelihood:    </th> <td> -355.26</td>\n",
       "</tr>\n",
       "<tr>\n",
       "  <th>No. Observations:</th>      <td>   150</td>      <th>  AIC:               </th> <td>   714.5</td>\n",
       "</tr>\n",
       "<tr>\n",
       "  <th>Df Residuals:</th>          <td>   148</td>      <th>  BIC:               </th> <td>   720.6</td>\n",
       "</tr>\n",
       "<tr>\n",
       "  <th>Df Model:</th>              <td>     1</td>      <th>                     </th>     <td> </td>   \n",
       "</tr>\n",
       "<tr>\n",
       "  <th>Covariance Type:</th>      <td>nonrobust</td>    <th>                     </th>     <td> </td>   \n",
       "</tr>\n",
       "</table>\n",
       "<table class=\"simpletable\">\n",
       "<tr>\n",
       "       <td></td>          <th>coef</th>     <th>std err</th>      <th>t</th>      <th>P>|t|</th>  <th>[0.025</th>    <th>0.975]</th>  \n",
       "</tr>\n",
       "<tr>\n",
       "  <th>const</th>       <td>    4.2263</td> <td>    0.515</td> <td>    8.211</td> <td> 0.000</td> <td>    3.209</td> <td>    5.243</td>\n",
       "</tr>\n",
       "<tr>\n",
       "  <th>Advertising</th> <td>    0.0489</td> <td>    0.002</td> <td>   20.415</td> <td> 0.000</td> <td>    0.044</td> <td>    0.054</td>\n",
       "</tr>\n",
       "</table>\n",
       "<table class=\"simpletable\">\n",
       "<tr>\n",
       "  <th>Omnibus:</th>       <td> 3.786</td> <th>  Durbin-Watson:     </th> <td>   2.157</td>\n",
       "</tr>\n",
       "<tr>\n",
       "  <th>Prob(Omnibus):</th> <td> 0.151</td> <th>  Jarque-Bera (JB):  </th> <td>   3.542</td>\n",
       "</tr>\n",
       "<tr>\n",
       "  <th>Skew:</th>          <td>-0.376</td> <th>  Prob(JB):          </th> <td>   0.170</td>\n",
       "</tr>\n",
       "<tr>\n",
       "  <th>Kurtosis:</th>      <td> 3.042</td> <th>  Cond. No.          </th> <td>    520.</td>\n",
       "</tr>\n",
       "</table><br/><br/>Notes:<br/>[1] Standard Errors assume that the covariance matrix of the errors is correctly specified."
      ],
      "text/latex": [
       "\\begin{center}\n",
       "\\begin{tabular}{lclc}\n",
       "\\toprule\n",
       "\\textbf{Dep. Variable:}    &      Sales       & \\textbf{  R-squared:         } &     0.738   \\\\\n",
       "\\textbf{Model:}            &       OLS        & \\textbf{  Adj. R-squared:    } &     0.736   \\\\\n",
       "\\textbf{Method:}           &  Least Squares   & \\textbf{  F-statistic:       } &     416.8   \\\\\n",
       "\\textbf{Date:}             & Wed, 14 Jun 2023 & \\textbf{  Prob (F-statistic):} &  6.94e-45   \\\\\n",
       "\\textbf{Time:}             &     12:16:32     & \\textbf{  Log-Likelihood:    } &   -355.26   \\\\\n",
       "\\textbf{No. Observations:} &         150      & \\textbf{  AIC:               } &     714.5   \\\\\n",
       "\\textbf{Df Residuals:}     &         148      & \\textbf{  BIC:               } &     720.6   \\\\\n",
       "\\textbf{Df Model:}         &           1      & \\textbf{                     } &             \\\\\n",
       "\\textbf{Covariance Type:}  &    nonrobust     & \\textbf{                     } &             \\\\\n",
       "\\bottomrule\n",
       "\\end{tabular}\n",
       "\\begin{tabular}{lcccccc}\n",
       "                     & \\textbf{coef} & \\textbf{std err} & \\textbf{t} & \\textbf{P$> |$t$|$} & \\textbf{[0.025} & \\textbf{0.975]}  \\\\\n",
       "\\midrule\n",
       "\\textbf{const}       &       4.2263  &        0.515     &     8.211  &         0.000        &        3.209    &        5.243     \\\\\n",
       "\\textbf{Advertising} &       0.0489  &        0.002     &    20.415  &         0.000        &        0.044    &        0.054     \\\\\n",
       "\\bottomrule\n",
       "\\end{tabular}\n",
       "\\begin{tabular}{lclc}\n",
       "\\textbf{Omnibus:}       &  3.786 & \\textbf{  Durbin-Watson:     } &    2.157  \\\\\n",
       "\\textbf{Prob(Omnibus):} &  0.151 & \\textbf{  Jarque-Bera (JB):  } &    3.542  \\\\\n",
       "\\textbf{Skew:}          & -0.376 & \\textbf{  Prob(JB):          } &    0.170  \\\\\n",
       "\\textbf{Kurtosis:}      &  3.042 & \\textbf{  Cond. No.          } &     520.  \\\\\n",
       "\\bottomrule\n",
       "\\end{tabular}\n",
       "%\\caption{OLS Regression Results}\n",
       "\\end{center}\n",
       "\n",
       "Notes: \\newline\n",
       " [1] Standard Errors assume that the covariance matrix of the errors is correctly specified."
      ],
      "text/plain": [
       "<class 'statsmodels.iolib.summary.Summary'>\n",
       "\"\"\"\n",
       "                            OLS Regression Results                            \n",
       "==============================================================================\n",
       "Dep. Variable:                  Sales   R-squared:                       0.738\n",
       "Model:                            OLS   Adj. R-squared:                  0.736\n",
       "Method:                 Least Squares   F-statistic:                     416.8\n",
       "Date:                Wed, 14 Jun 2023   Prob (F-statistic):           6.94e-45\n",
       "Time:                        12:16:32   Log-Likelihood:                -355.26\n",
       "No. Observations:                 150   AIC:                             714.5\n",
       "Df Residuals:                     148   BIC:                             720.6\n",
       "Df Model:                           1                                         \n",
       "Covariance Type:            nonrobust                                         \n",
       "===============================================================================\n",
       "                  coef    std err          t      P>|t|      [0.025      0.975]\n",
       "-------------------------------------------------------------------------------\n",
       "const           4.2263      0.515      8.211      0.000       3.209       5.243\n",
       "Advertising     0.0489      0.002     20.415      0.000       0.044       0.054\n",
       "==============================================================================\n",
       "Omnibus:                        3.786   Durbin-Watson:                   2.157\n",
       "Prob(Omnibus):                  0.151   Jarque-Bera (JB):                3.542\n",
       "Skew:                          -0.376   Prob(JB):                        0.170\n",
       "Kurtosis:                       3.042   Cond. No.                         520.\n",
       "==============================================================================\n",
       "\n",
       "Notes:\n",
       "[1] Standard Errors assume that the covariance matrix of the errors is correctly specified.\n",
       "\"\"\""
      ]
     },
     "execution_count": 5,
     "metadata": {},
     "output_type": "execute_result"
    }
   ],
   "source": [
    "model.summary()"
   ]
  },
  {
   "attachments": {},
   "cell_type": "markdown",
   "id": "a6b35e83-837a-42e3-acd9-7451114516f6",
   "metadata": {
    "tags": []
   },
   "source": [
    " \n",
    "### Equation of the line ###\n",
    "\n",
    "y = m*x + b\n",
    "\n",
    "y = **0.0489**x + **4.2263**\n",
    "\n",
    "y = 0.0489 * \\[advertsing] + 4.2263\n",
    "\n",
    "So for every £ spend on advertising, the sales number will increase by 0.048.\n",
    "<br>\n",
    " \n",
    "### Is the model 'a good fit'? ###\n",
    "To understand if a model can be used to make a prediction we need to look at additional elements of the OLS Regression results: <br>\n",
    "\n",
    "- **p-value**\\\n",
    "A p-value < 0.05 suggests that our data is statistically significant and that the values for our variable cannot be explained by mere coincidence. It helps us to identify which independent variables have a significant effect on the dependent variable. \n",
    "\n",
    "\n",
    "- **R-squared**\\\n",
    "R-squared tells us how closely the data fits the model between 0 (terrible fit) and 1 (perfect fit). In our case, 75.2\\% is high.\\\n",
    "In good real world examples - you can expect to achieve closer to 30\\%. \\\n",
    "\\\n",
    "30\\% is usually sufficient because we are not trying to describe exactly the dependent variable (since we don’t have all the data), we just want to give an estimate as to what might happen under small changes. Despite not describing everything, the model still has practical use!\n",
    "\n",
    "- **Adjusted R-squared**\\\n",
    "Adjusted R-squared is similar to the R-squared but is for models with more than 1 independent variable. \n",
    "\n",
    "- **F-Statistic**\\\n",
    "F-statistic is a test to compare two models. In this case, it is comparing our regression model to the base model (taking the mean).\\\n",
    "A high F value (> 1) means that the new model is better. A low F value (< 1) means that the old model is better.\n",
    "\n",
    "- **Prob F-Statistic**\\\n",
    "Prob (F-Statistic) tells us how statistically significant this value is. The lower the probability, the more significant the difference between models. In our case, our regression model is MUCH better than the base model in a statistically significant way."
   ]
  },
  {
   "attachments": {},
   "cell_type": "markdown",
   "id": "d8386cd6-cdee-4be7-a741-5e6937226a7a",
   "metadata": {},
   "source": [
    "<HR>\n",
    " \n",
    "## Predict data in the test set ##\n",
    "\n",
    "First, we use the model to predict the test data. Then we compare it to the actual test data.\n",
    "\n",
    "The syntax for predicting using the model is:\n",
    "> model.predict(TestDataFrame)\n"
   ]
  },
  {
   "cell_type": "code",
   "execution_count": 6,
   "id": "4109705e-5608-4a0a-9865-0558a2f3a307",
   "metadata": {},
   "outputs": [],
   "source": [
    "# Predict the model results on the test data\n",
    "\n",
    "predicted = model.predict(\n",
    "    sm.add_constant(test['Advertising'])\n",
    "  \n",
    ")"
   ]
  },
  {
   "attachments": {},
   "cell_type": "markdown",
   "id": "d2dec081-ffc8-4184-bf5b-6afa84491182",
   "metadata": {},
   "source": [
    "## Is the model also 'a good fit' for our test data? ##\n",
    "We can check this by looking at the R squared score for our prediction."
   ]
  },
  {
   "cell_type": "code",
   "execution_count": 7,
   "id": "63fe49ff-be8a-4222-97ce-b58389b0712f",
   "metadata": {},
   "outputs": [
    {
     "data": {
      "text/plain": [
       "0.7845437198872972"
      ]
     },
     "execution_count": 7,
     "metadata": {},
     "output_type": "execute_result"
    }
   ],
   "source": [
    "# Measure the test R squared\n",
    "\n",
    "metrics.r2_score(test['Sales'],predicted)"
   ]
  },
  {
   "attachments": {},
   "cell_type": "markdown",
   "id": "f77a9603-1a67-497a-81bc-56ca4d96218c",
   "metadata": {},
   "source": [
    "Our R squared is over 78%!\\ \n",
    "In a good real-world example, you want your ***test R squared*** to be *roughly* similar to your ***train R squared*** $\\pm 10\\%$.\n",
    "\n",
    "Once we're confident that the model can be applied to new data, we usually rebuild the model using *all* the data (test + train)."
   ]
  },
  {
   "attachments": {},
   "cell_type": "markdown",
   "id": "3b2e09fb-12e5-4e51-8c36-be482a7bc77e",
   "metadata": {},
   "source": [
    "## Rebuilding the model for the whole data set ##"
   ]
  },
  {
   "cell_type": "code",
   "execution_count": 8,
   "id": "8a230d31-0b50-41f5-afc4-59cc6963de26",
   "metadata": {},
   "outputs": [
    {
     "data": {
      "text/html": [
       "<table class=\"simpletable\">\n",
       "<caption>OLS Regression Results</caption>\n",
       "<tr>\n",
       "  <th>Dep. Variable:</th>          <td>Sales</td>      <th>  R-squared:         </th> <td>   0.753</td>\n",
       "</tr>\n",
       "<tr>\n",
       "  <th>Model:</th>                   <td>OLS</td>       <th>  Adj. R-squared:    </th> <td>   0.752</td>\n",
       "</tr>\n",
       "<tr>\n",
       "  <th>Method:</th>             <td>Least Squares</td>  <th>  F-statistic:       </th> <td>   603.4</td>\n",
       "</tr>\n",
       "<tr>\n",
       "  <th>Date:</th>             <td>Wed, 14 Jun 2023</td> <th>  Prob (F-statistic):</th> <td>5.06e-62</td>\n",
       "</tr>\n",
       "<tr>\n",
       "  <th>Time:</th>                 <td>12:16:32</td>     <th>  Log-Likelihood:    </th> <td> -473.88</td>\n",
       "</tr>\n",
       "<tr>\n",
       "  <th>No. Observations:</th>      <td>   200</td>      <th>  AIC:               </th> <td>   951.8</td>\n",
       "</tr>\n",
       "<tr>\n",
       "  <th>Df Residuals:</th>          <td>   198</td>      <th>  BIC:               </th> <td>   958.4</td>\n",
       "</tr>\n",
       "<tr>\n",
       "  <th>Df Model:</th>              <td>     1</td>      <th>                     </th>     <td> </td>   \n",
       "</tr>\n",
       "<tr>\n",
       "  <th>Covariance Type:</th>      <td>nonrobust</td>    <th>                     </th>     <td> </td>   \n",
       "</tr>\n",
       "</table>\n",
       "<table class=\"simpletable\">\n",
       "<tr>\n",
       "       <td></td>          <th>coef</th>     <th>std err</th>      <th>t</th>      <th>P>|t|</th>  <th>[0.025</th>    <th>0.975]</th>  \n",
       "</tr>\n",
       "<tr>\n",
       "  <th>const</th>       <td>    4.2430</td> <td>    0.439</td> <td>    9.676</td> <td> 0.000</td> <td>    3.378</td> <td>    5.108</td>\n",
       "</tr>\n",
       "<tr>\n",
       "  <th>Advertising</th> <td>    0.0487</td> <td>    0.002</td> <td>   24.564</td> <td> 0.000</td> <td>    0.045</td> <td>    0.053</td>\n",
       "</tr>\n",
       "</table>\n",
       "<table class=\"simpletable\">\n",
       "<tr>\n",
       "  <th>Omnibus:</th>       <td> 6.851</td> <th>  Durbin-Watson:     </th> <td>   1.967</td>\n",
       "</tr>\n",
       "<tr>\n",
       "  <th>Prob(Omnibus):</th> <td> 0.033</td> <th>  Jarque-Bera (JB):  </th> <td>   6.692</td>\n",
       "</tr>\n",
       "<tr>\n",
       "  <th>Skew:</th>          <td>-0.373</td> <th>  Prob(JB):          </th> <td>  0.0352</td>\n",
       "</tr>\n",
       "<tr>\n",
       "  <th>Kurtosis:</th>      <td> 3.495</td> <th>  Cond. No.          </th> <td>    528.</td>\n",
       "</tr>\n",
       "</table><br/><br/>Notes:<br/>[1] Standard Errors assume that the covariance matrix of the errors is correctly specified."
      ],
      "text/latex": [
       "\\begin{center}\n",
       "\\begin{tabular}{lclc}\n",
       "\\toprule\n",
       "\\textbf{Dep. Variable:}    &      Sales       & \\textbf{  R-squared:         } &     0.753   \\\\\n",
       "\\textbf{Model:}            &       OLS        & \\textbf{  Adj. R-squared:    } &     0.752   \\\\\n",
       "\\textbf{Method:}           &  Least Squares   & \\textbf{  F-statistic:       } &     603.4   \\\\\n",
       "\\textbf{Date:}             & Wed, 14 Jun 2023 & \\textbf{  Prob (F-statistic):} &  5.06e-62   \\\\\n",
       "\\textbf{Time:}             &     12:16:32     & \\textbf{  Log-Likelihood:    } &   -473.88   \\\\\n",
       "\\textbf{No. Observations:} &         200      & \\textbf{  AIC:               } &     951.8   \\\\\n",
       "\\textbf{Df Residuals:}     &         198      & \\textbf{  BIC:               } &     958.4   \\\\\n",
       "\\textbf{Df Model:}         &           1      & \\textbf{                     } &             \\\\\n",
       "\\textbf{Covariance Type:}  &    nonrobust     & \\textbf{                     } &             \\\\\n",
       "\\bottomrule\n",
       "\\end{tabular}\n",
       "\\begin{tabular}{lcccccc}\n",
       "                     & \\textbf{coef} & \\textbf{std err} & \\textbf{t} & \\textbf{P$> |$t$|$} & \\textbf{[0.025} & \\textbf{0.975]}  \\\\\n",
       "\\midrule\n",
       "\\textbf{const}       &       4.2430  &        0.439     &     9.676  &         0.000        &        3.378    &        5.108     \\\\\n",
       "\\textbf{Advertising} &       0.0487  &        0.002     &    24.564  &         0.000        &        0.045    &        0.053     \\\\\n",
       "\\bottomrule\n",
       "\\end{tabular}\n",
       "\\begin{tabular}{lclc}\n",
       "\\textbf{Omnibus:}       &  6.851 & \\textbf{  Durbin-Watson:     } &    1.967  \\\\\n",
       "\\textbf{Prob(Omnibus):} &  0.033 & \\textbf{  Jarque-Bera (JB):  } &    6.692  \\\\\n",
       "\\textbf{Skew:}          & -0.373 & \\textbf{  Prob(JB):          } &   0.0352  \\\\\n",
       "\\textbf{Kurtosis:}      &  3.495 & \\textbf{  Cond. No.          } &     528.  \\\\\n",
       "\\bottomrule\n",
       "\\end{tabular}\n",
       "%\\caption{OLS Regression Results}\n",
       "\\end{center}\n",
       "\n",
       "Notes: \\newline\n",
       " [1] Standard Errors assume that the covariance matrix of the errors is correctly specified."
      ],
      "text/plain": [
       "<class 'statsmodels.iolib.summary.Summary'>\n",
       "\"\"\"\n",
       "                            OLS Regression Results                            \n",
       "==============================================================================\n",
       "Dep. Variable:                  Sales   R-squared:                       0.753\n",
       "Model:                            OLS   Adj. R-squared:                  0.752\n",
       "Method:                 Least Squares   F-statistic:                     603.4\n",
       "Date:                Wed, 14 Jun 2023   Prob (F-statistic):           5.06e-62\n",
       "Time:                        12:16:32   Log-Likelihood:                -473.88\n",
       "No. Observations:                 200   AIC:                             951.8\n",
       "Df Residuals:                     198   BIC:                             958.4\n",
       "Df Model:                           1                                         \n",
       "Covariance Type:            nonrobust                                         \n",
       "===============================================================================\n",
       "                  coef    std err          t      P>|t|      [0.025      0.975]\n",
       "-------------------------------------------------------------------------------\n",
       "const           4.2430      0.439      9.676      0.000       3.378       5.108\n",
       "Advertising     0.0487      0.002     24.564      0.000       0.045       0.053\n",
       "==============================================================================\n",
       "Omnibus:                        6.851   Durbin-Watson:                   1.967\n",
       "Prob(Omnibus):                  0.033   Jarque-Bera (JB):                6.692\n",
       "Skew:                          -0.373   Prob(JB):                       0.0352\n",
       "Kurtosis:                       3.495   Cond. No.                         528.\n",
       "==============================================================================\n",
       "\n",
       "Notes:\n",
       "[1] Standard Errors assume that the covariance matrix of the errors is correctly specified.\n",
       "\"\"\""
      ]
     },
     "execution_count": 8,
     "metadata": {},
     "output_type": "execute_result"
    }
   ],
   "source": [
    "dependent_var = df['Sales']\n",
    "independent_var = df['Advertising']\n",
    "independent_var = sm.add_constant(independent_var)\n",
    "\n",
    "# Build the model \n",
    "model = sm.OLS(\n",
    "    dependent_var,\n",
    "    independent_var\n",
    ").fit()\n",
    "\n",
    "model.summary()\n"
   ]
  },
  {
   "cell_type": "code",
   "execution_count": 10,
   "id": "fa0401d2-3982-426d-bcca-3f5f0746ec46",
   "metadata": {},
   "outputs": [
    {
     "data": {
      "text/plain": [
       "4.729907009226813"
      ]
     },
     "execution_count": 10,
     "metadata": {},
     "output_type": "execute_result"
    }
   ],
   "source": [
    "# make a prediction for sales with an advertising value of 10\n",
    "sales_pred = model.predict([1, 10])  \n",
    "sales_pred[0]"
   ]
  }
 ],
 "metadata": {
  "kernelspec": {
   "display_name": "Python 3 (ipykernel)",
   "language": "python",
   "name": "python3"
  },
  "language_info": {
   "codemirror_mode": {
    "name": "ipython",
    "version": 3
   },
   "file_extension": ".py",
   "mimetype": "text/x-python",
   "name": "python",
   "nbconvert_exporter": "python",
   "pygments_lexer": "ipython3",
   "version": "3.11.3"
  }
 },
 "nbformat": 4,
 "nbformat_minor": 5
}
