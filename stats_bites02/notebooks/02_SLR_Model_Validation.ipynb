{
 "cells": [
  {
   "attachments": {},
   "cell_type": "markdown",
   "id": "47821d94-21fd-49e5-963a-e6af1d624366",
   "metadata": {},
   "source": [
    "# Simple Linear Regression - Model Validation #\n",
    "Work through the code in the cells, run them and then look at the relevant output and interpret the model."
   ]
  },
  {
   "attachments": {},
   "cell_type": "markdown",
   "id": "84417147-c5eb-423e-8522-1495671d808c",
   "metadata": {},
   "source": [
    "<hr>\n",
    "\n",
    "## Importing packages and reading the data ##\n",
    "\n"
   ]
  },
  {
   "attachments": {},
   "cell_type": "markdown",
   "id": "ab136a06",
   "metadata": {},
   "source": [
    "If you haven't already, you may need to download the relevent packages to your virtual environment.\n",
    "\n",
    "(If you haven't set up a virtual environment already, now's the time to do so!)\n",
    "\n",
    "``` shell\n",
    "python3 -m venv my-venv-name\n",
    "source my-venv-name/bin/activate\n",
    "```\n",
    "\n",
    "You can call your virtual environment whatever you like, not just `my-venv-name`.\n",
    "\n",
    "``` shell \n",
    "(my-venv-name) pip install -U scikit-learn \n",
    "``` \n",
    "It then downloads ...\n",
    "``` shell\n",
    "(my-venv-name) pip install -U statsmodels\n",
    "```\n",
    "It also downloads...\n",
    "\n",
    "``` shell\n",
    "(my-venv-name) pip install -U pandas matplotlib\n",
    "```\n",
    "Make sure you have pandas & matplotlib in this venv\n",
    "You can always check by running:\n",
    "``` shell\n",
    "(my-venv-name) pip freeze > requirements.txt\n",
    "```\n",
    "And then open up `requirements.txt` and check the module/library has downloaded."
   ]
  },
  {
   "cell_type": "code",
   "execution_count": null,
   "id": "466c0eeb-d187-4642-a702-f017b1788d8a",
   "metadata": {},
   "outputs": [],
   "source": [
    "# Import the required packages\n",
    "\n",
    "import pandas as pd\n",
    "import matplotlib.pyplot as plt\n",
    "from sklearn.model_selection import train_test_split\n",
    "import statsmodels.api as sm\n",
    "import sklearn.metrics as metrics\n",
    "import warnings\n",
    "warnings.simplefilter(action='ignore', category=FutureWarning)\n",
    "\n",
    "df = pd.read_csv(\"../datasets/SLR_advertising_budget.csv\")\n",
    "\n"
   ]
  },
  {
   "attachments": {},
   "cell_type": "markdown",
   "id": "a7e42136-9410-4052-a6c7-b715d44097e6",
   "metadata": {},
   "source": [
    "<HR>"
   ]
  },
  {
   "attachments": {},
   "cell_type": "markdown",
   "id": "3a5f6122-01ba-4c51-841e-0d5246e627b0",
   "metadata": {},
   "source": [
    "## Split the DataFrame into train and test data ##"
   ]
  },
  {
   "cell_type": "code",
   "execution_count": null,
   "id": "0844d8a5-a3d6-4b45-86a6-c6c5116e05f4",
   "metadata": {},
   "outputs": [],
   "source": [
    "train, test = train_test_split(\n",
    "    df,\n",
    "    random_state = 13 # this ensures that we get the same answer each time\n",
    ")"
   ]
  },
  {
   "attachments": {},
   "cell_type": "markdown",
   "id": "ce492798-5569-4848-8461-df0975850134",
   "metadata": {},
   "source": [
    "<hr>\n",
    " \n",
    " ## Train the model\n",
    "\n",
    "\n",
    "The syntax for building a regression model is:\n",
    "> model = sm.OLS(<br>\n",
    "&nbsp;&nbsp;&nbsp;&nbsp;DataFrame['dependent variable'],<br>\n",
    "&nbsp;&nbsp;&nbsp;&nbsp;DataFrame[['independent variable 1','independent variable 2',...]]<br>\n",
    ").fit()\n"
   ]
  },
  {
   "cell_type": "code",
   "execution_count": null,
   "id": "00986b40-d8dc-4218-931a-67ec0ba2d7fe",
   "metadata": {},
   "outputs": [],
   "source": [
    "# Identify dependent and independent variables\n",
    "\n",
    "dependent_var = train['Sales']\n",
    "independent_var = train['Advertising']\n",
    "independent_var = sm.add_constant(independent_var)\n",
    "\n",
    "# Build the model \n",
    "model = sm.OLS(\n",
    "    dependent_var,\n",
    "    independent_var\n",
    ").fit()\n"
   ]
  },
  {
   "attachments": {},
   "cell_type": "markdown",
   "id": "4f3a810b-d2fb-41de-8c9b-ae192067f3e8",
   "metadata": {},
   "source": [
    "<hr>\n",
    "\n",
    "## Interpret the model results\n",
    "In this section, we will interpret the model results. The summary statistics printed below give us the line of best fit. However, it also provides us with information if the model is 'a good fit’ for our data, meaning how accurately it can predict outcomes or trends seen in the data."
   ]
  },
  {
   "cell_type": "code",
   "execution_count": null,
   "id": "64f57263-c844-42cf-acfe-e61f343d656c",
   "metadata": {},
   "outputs": [],
   "source": [
    "model.summary()"
   ]
  },
  {
   "attachments": {},
   "cell_type": "markdown",
   "id": "a6b35e83-837a-42e3-acd9-7451114516f6",
   "metadata": {
    "tags": []
   },
   "source": [
    " \n",
    "### Equation of the line ###\n",
    "\n",
    "y = m*x + b\n",
    "\n",
    "y = **0.0489**x + **4.2263**\n",
    "\n",
    "y = 0.0489 * \\[advertsing] + 4.2263\n",
    "\n",
    "So for every £ spend on advertising, the sales number will increase by 0.048.\n",
    "<br>\n",
    " \n",
    "### Is the model 'a good fit'? ###\n",
    "To understand if a model can be used to make a prediction we need to look at additional elements of the OLS Regression results: <br>\n",
    "\n",
    "- **p-value**\\\n",
    "A p-value < 0.05 suggests that our data is statistically significant and that the values for our variable cannot be explained by mere coincidence. It helps us to identify which independent variables have a significant effect on the dependent variable. \n",
    "\n",
    "\n",
    "- **R-squared**\\\n",
    "R-squared tells us how closely the data fits the model between 0 (terrible fit) and 1 (perfect fit). In our case, 75.2\\% is high.\\\n",
    "In good real world examples - you can expect to achieve closer to 30\\%. \\\n",
    "\\\n",
    "30\\% is usually sufficient because we are not trying to describe exactly the dependent variable (since we don’t have all the data), we just want to give an estimate as to what might happen under small changes. Despite not describing everything, the model still has practical use!\n",
    "\n",
    "- **Adjusted R-squared**\\\n",
    "Adjusted R-squared is similar to the R-squared but is for models with more than 1 independent variable. \n",
    "\n",
    "- **F-Statistic**\\\n",
    "F-statistic is a test to compare two models. In this case, it is comparing our regression model to the base model (taking the mean).\\\n",
    "A high F value (> 1) means that the new model is better. A low F value (< 1) means that the old model is better.\n",
    "\n",
    "- **Prob F-Statistic**\\\n",
    "Prob (F-Statistic) tells us how statistically significant this value is. The lower the probability, the more significant the difference between models. In our case, our regression model is MUCH better than the base model in a statistically significant way."
   ]
  },
  {
   "attachments": {},
   "cell_type": "markdown",
   "id": "d8386cd6-cdee-4be7-a741-5e6937226a7a",
   "metadata": {},
   "source": [
    "<HR>\n",
    " \n",
    "## Predict data in the test set ##\n",
    "\n",
    "First, we use the model to predict the test data. Then we compare it to the actual test data.\n",
    "\n",
    "The syntax for predicting using the model is:\n",
    "> model.predict(TestDataFrame)\n"
   ]
  },
  {
   "cell_type": "code",
   "execution_count": null,
   "id": "4109705e-5608-4a0a-9865-0558a2f3a307",
   "metadata": {},
   "outputs": [],
   "source": [
    "# Predict the model results on the test data\n",
    "\n",
    "predicted = model.predict(\n",
    "    sm.add_constant(test['Advertising'])\n",
    "  \n",
    ")"
   ]
  },
  {
   "attachments": {},
   "cell_type": "markdown",
   "id": "d2dec081-ffc8-4184-bf5b-6afa84491182",
   "metadata": {},
   "source": [
    "## Is the model also 'a good fit' for our test data? ##\n",
    "We can check this by looking at the R squared score for our prediction."
   ]
  },
  {
   "cell_type": "code",
   "execution_count": null,
   "id": "63fe49ff-be8a-4222-97ce-b58389b0712f",
   "metadata": {},
   "outputs": [],
   "source": [
    "# Measure the test R squared\n",
    "\n",
    "metrics.r2_score(test['Sales'],predicted)"
   ]
  },
  {
   "attachments": {},
   "cell_type": "markdown",
   "id": "f77a9603-1a67-497a-81bc-56ca4d96218c",
   "metadata": {},
   "source": [
    "Our R squared is over 78%!\\ \n",
    "In a good real-world example, you want your ***test R squared*** to be *roughly* similar to your ***train R squared*** $\\pm 10\\%$.\n",
    "\n",
    "Once we're confident that the model can be applied to new data, we usually rebuild the model using *all* the data (test + train)."
   ]
  },
  {
   "attachments": {},
   "cell_type": "markdown",
   "id": "3b2e09fb-12e5-4e51-8c36-be482a7bc77e",
   "metadata": {},
   "source": [
    "## Rebuilding the model for the whole data set ##"
   ]
  },
  {
   "cell_type": "code",
   "execution_count": null,
   "id": "8a230d31-0b50-41f5-afc4-59cc6963de26",
   "metadata": {},
   "outputs": [],
   "source": [
    "dependent_var = df['Sales']\n",
    "independent_var = df['Advertising']\n",
    "independent_var = sm.add_constant(independent_var)\n",
    "\n",
    "# Build the model \n",
    "model = sm.OLS(\n",
    "    dependent_var,\n",
    "    independent_var\n",
    ").fit()\n",
    "\n",
    "model.summary()\n"
   ]
  },
  {
   "cell_type": "code",
   "execution_count": null,
   "id": "fa0401d2-3982-426d-bcca-3f5f0746ec46",
   "metadata": {},
   "outputs": [],
   "source": [
    "# make a prediction for sales with an advertising value of 10\n",
    "sales_pred = model.predict([1, 200])  # predict the sales value for an advertising budget of 200\n",
    "sales_pred[0]"
   ]
  }
 ],
 "metadata": {
  "kernelspec": {
   "display_name": "Python 3 (ipykernel)",
   "language": "python",
   "name": "python3"
  },
  "language_info": {
   "codemirror_mode": {
    "name": "ipython",
    "version": 3
   },
   "file_extension": ".py",
   "mimetype": "text/x-python",
   "name": "python",
   "nbconvert_exporter": "python",
   "pygments_lexer": "ipython3",
   "version": "3.9.7"
  }
 },
 "nbformat": 4,
 "nbformat_minor": 5
}
