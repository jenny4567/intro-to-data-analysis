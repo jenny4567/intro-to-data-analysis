{
 "cells": [
  {
   "cell_type": "markdown",
   "id": "91f7345a-a190-4e2d-b30c-4fca3b101421",
   "metadata": {},
   "source": [
    "# Multiple Linear Regression - Multicollinearity"
   ]
  },
  {
   "cell_type": "markdown",
   "id": "4b42aa72-2bdf-4812-a2fb-a2382c303559",
   "metadata": {},
   "source": [
    "<hr>\n",
    "\n",
    "## Importing packages and reading the data ##"
   ]
  },
  {
   "cell_type": "code",
   "execution_count": 15,
   "id": "64084ed7-44a5-447b-972b-dd7ad0d4e80a",
   "metadata": {},
   "outputs": [],
   "source": [
    "import pandas as pd\n",
    "import matplotlib.pyplot as plt\n",
    "from sklearn.model_selection import train_test_split\n",
    "import statsmodels.api as sm\n",
    "import sklearn.metrics as metrics\n",
    "import seaborn as sns\n",
    "import warnings\n",
    "warnings.simplefilter(action='ignore', category=FutureWarning)\n",
    "\n",
    "df = pd.read_csv(\"../datasets/MLR_advertising_budget.csv\")"
   ]
  },
  {
   "cell_type": "code",
   "execution_count": 16,
   "id": "db7313b5-1ada-4cbd-8d9f-d3c9109f0579",
   "metadata": {},
   "outputs": [
    {
     "name": "stdout",
     "output_type": "stream",
     "text": [
      "<class 'pandas.core.frame.DataFrame'>\n",
      "RangeIndex: 200 entries, 0 to 199\n",
      "Data columns (total 5 columns):\n",
      " #   Column                    Non-Null Count  Dtype  \n",
      "---  ------                    --------------  -----  \n",
      " 0   TV Ad Budget              200 non-null    float64\n",
      " 1   Radio Ad Budget           200 non-null    float64\n",
      " 2   Newspaper Ad Budget       200 non-null    float64\n",
      " 3   Advertising Budget total  200 non-null    float64\n",
      " 4   Sales                     200 non-null    float64\n",
      "dtypes: float64(5)\n",
      "memory usage: 7.9 KB\n"
     ]
    }
   ],
   "source": [
    "df.info()"
   ]
  },
  {
   "cell_type": "code",
   "execution_count": 17,
   "id": "feb63c96-3400-4bfb-a375-88ba7b598b85",
   "metadata": {},
   "outputs": [
    {
     "data": {
      "text/html": [
       "<div>\n",
       "<style scoped>\n",
       "    .dataframe tbody tr th:only-of-type {\n",
       "        vertical-align: middle;\n",
       "    }\n",
       "\n",
       "    .dataframe tbody tr th {\n",
       "        vertical-align: top;\n",
       "    }\n",
       "\n",
       "    .dataframe thead th {\n",
       "        text-align: right;\n",
       "    }\n",
       "</style>\n",
       "<table border=\"1\" class=\"dataframe\">\n",
       "  <thead>\n",
       "    <tr style=\"text-align: right;\">\n",
       "      <th></th>\n",
       "      <th>TV Ad Budget</th>\n",
       "      <th>Radio Ad Budget</th>\n",
       "      <th>Newspaper Ad Budget</th>\n",
       "      <th>Advertising Budget total</th>\n",
       "      <th>Sales</th>\n",
       "    </tr>\n",
       "  </thead>\n",
       "  <tbody>\n",
       "    <tr>\n",
       "      <th>TV Ad Budget</th>\n",
       "      <td>1.000000</td>\n",
       "      <td>0.054809</td>\n",
       "      <td>0.056648</td>\n",
       "      <td>0.945330</td>\n",
       "      <td>0.782224</td>\n",
       "    </tr>\n",
       "    <tr>\n",
       "      <th>Radio Ad Budget</th>\n",
       "      <td>0.054809</td>\n",
       "      <td>1.000000</td>\n",
       "      <td>0.354104</td>\n",
       "      <td>0.293211</td>\n",
       "      <td>0.576223</td>\n",
       "    </tr>\n",
       "    <tr>\n",
       "      <th>Newspaper Ad Budget</th>\n",
       "      <td>0.056648</td>\n",
       "      <td>0.354104</td>\n",
       "      <td>1.000000</td>\n",
       "      <td>0.343059</td>\n",
       "      <td>0.228299</td>\n",
       "    </tr>\n",
       "    <tr>\n",
       "      <th>Advertising Budget total</th>\n",
       "      <td>0.945330</td>\n",
       "      <td>0.293211</td>\n",
       "      <td>0.343059</td>\n",
       "      <td>1.000000</td>\n",
       "      <td>0.867712</td>\n",
       "    </tr>\n",
       "    <tr>\n",
       "      <th>Sales</th>\n",
       "      <td>0.782224</td>\n",
       "      <td>0.576223</td>\n",
       "      <td>0.228299</td>\n",
       "      <td>0.867712</td>\n",
       "      <td>1.000000</td>\n",
       "    </tr>\n",
       "  </tbody>\n",
       "</table>\n",
       "</div>"
      ],
      "text/plain": [
       "                          TV Ad Budget  Radio Ad Budget  Newspaper Ad Budget  \\\n",
       "TV Ad Budget                  1.000000         0.054809             0.056648   \n",
       "Radio Ad Budget               0.054809         1.000000             0.354104   \n",
       "Newspaper Ad Budget           0.056648         0.354104             1.000000   \n",
       "Advertising Budget total      0.945330         0.293211             0.343059   \n",
       "Sales                         0.782224         0.576223             0.228299   \n",
       "\n",
       "                          Advertising Budget total     Sales  \n",
       "TV Ad Budget                              0.945330  0.782224  \n",
       "Radio Ad Budget                           0.293211  0.576223  \n",
       "Newspaper Ad Budget                       0.343059  0.228299  \n",
       "Advertising Budget total                  1.000000  0.867712  \n",
       "Sales                                     0.867712  1.000000  "
      ]
     },
     "execution_count": 17,
     "metadata": {},
     "output_type": "execute_result"
    }
   ],
   "source": [
    "df.corr().abs()"
   ]
  },
  {
   "cell_type": "code",
   "execution_count": 4,
   "id": "67c14c9f-c78d-429c-8316-f85ab049287e",
   "metadata": {},
   "outputs": [
    {
     "data": {
      "text/plain": [
       "Index(['TV Ad Budget', 'Radio Ad Budget', 'Newspaper Ad Budget',\n",
       "       'Advertising Budget total', 'Sales'],\n",
       "      dtype='object')"
      ]
     },
     "execution_count": 4,
     "metadata": {},
     "output_type": "execute_result"
    }
   ],
   "source": [
    "df.columns"
   ]
  },
  {
   "cell_type": "markdown",
   "id": "eac09009-8165-4702-a0a4-50cf8d73d824",
   "metadata": {},
   "source": [
    "## Split the DataFrame into train and test data"
   ]
  },
  {
   "cell_type": "code",
   "execution_count": 5,
   "id": "4444cad5-1d0e-4cfa-b808-2c6d59b28e00",
   "metadata": {},
   "outputs": [],
   "source": [
    "train, test = train_test_split(\n",
    "    df,\n",
    "    random_state = 13 # this ensures that we get the same answer each time\n",
    ")"
   ]
  },
  {
   "cell_type": "markdown",
   "id": "d5f43da5-9525-4a3a-9bbb-519e029994ff",
   "metadata": {},
   "source": [
    "## Train the model"
   ]
  },
  {
   "cell_type": "code",
   "execution_count": 19,
   "id": "35c82a72-6c72-4976-8909-1dc83748be46",
   "metadata": {},
   "outputs": [
    {
     "data": {
      "text/html": [
       "<table class=\"simpletable\">\n",
       "<caption>OLS Regression Results</caption>\n",
       "<tr>\n",
       "  <th>Dep. Variable:</th>          <td>Sales</td>      <th>  R-squared:         </th> <td>   0.881</td>\n",
       "</tr>\n",
       "<tr>\n",
       "  <th>Model:</th>                   <td>OLS</td>       <th>  Adj. R-squared:    </th> <td>   0.879</td>\n",
       "</tr>\n",
       "<tr>\n",
       "  <th>Method:</th>             <td>Least Squares</td>  <th>  F-statistic:       </th> <td>   361.1</td>\n",
       "</tr>\n",
       "<tr>\n",
       "  <th>Date:</th>             <td>Fri, 14 Apr 2023</td> <th>  Prob (F-statistic):</th> <td>2.56e-67</td>\n",
       "</tr>\n",
       "<tr>\n",
       "  <th>Time:</th>                 <td>22:18:18</td>     <th>  Log-Likelihood:    </th> <td> -295.90</td>\n",
       "</tr>\n",
       "<tr>\n",
       "  <th>No. Observations:</th>      <td>   150</td>      <th>  AIC:               </th> <td>   599.8</td>\n",
       "</tr>\n",
       "<tr>\n",
       "  <th>Df Residuals:</th>          <td>   146</td>      <th>  BIC:               </th> <td>   611.9</td>\n",
       "</tr>\n",
       "<tr>\n",
       "  <th>Df Model:</th>              <td>     3</td>      <th>                     </th>     <td> </td>   \n",
       "</tr>\n",
       "<tr>\n",
       "  <th>Covariance Type:</th>      <td>nonrobust</td>    <th>                     </th>     <td> </td>   \n",
       "</tr>\n",
       "</table>\n",
       "<table class=\"simpletable\">\n",
       "<tr>\n",
       "              <td></td>                <th>coef</th>     <th>std err</th>      <th>t</th>      <th>P>|t|</th>  <th>[0.025</th>    <th>0.975]</th>  \n",
       "</tr>\n",
       "<tr>\n",
       "  <th>const</th>                    <td>    2.9395</td> <td>    0.394</td> <td>    7.464</td> <td> 0.000</td> <td>    2.161</td> <td>    3.718</td>\n",
       "</tr>\n",
       "<tr>\n",
       "  <th>TV Ad Budget</th>             <td>   -0.0109</td> <td>    0.003</td> <td>   -3.808</td> <td> 0.000</td> <td>   -0.017</td> <td>   -0.005</td>\n",
       "</tr>\n",
       "<tr>\n",
       "  <th>Radio Ad Budget</th>          <td>    0.1270</td> <td>    0.009</td> <td>   14.646</td> <td> 0.000</td> <td>    0.110</td> <td>    0.144</td>\n",
       "</tr>\n",
       "<tr>\n",
       "  <th>Newspaper Ad Budget</th>      <td>   -0.0589</td> <td>    0.007</td> <td>   -8.368</td> <td> 0.000</td> <td>   -0.073</td> <td>   -0.045</td>\n",
       "</tr>\n",
       "<tr>\n",
       "  <th>Advertising Budget total</th> <td>    0.0571</td> <td>    0.003</td> <td>   21.485</td> <td> 0.000</td> <td>    0.052</td> <td>    0.062</td>\n",
       "</tr>\n",
       "</table>\n",
       "<table class=\"simpletable\">\n",
       "<tr>\n",
       "  <th>Omnibus:</th>       <td>47.653</td> <th>  Durbin-Watson:     </th> <td>   2.259</td>\n",
       "</tr>\n",
       "<tr>\n",
       "  <th>Prob(Omnibus):</th> <td> 0.000</td> <th>  Jarque-Bera (JB):  </th> <td> 112.309</td>\n",
       "</tr>\n",
       "<tr>\n",
       "  <th>Skew:</th>          <td>-1.334</td> <th>  Prob(JB):          </th> <td>4.10e-25</td>\n",
       "</tr>\n",
       "<tr>\n",
       "  <th>Kurtosis:</th>      <td> 6.293</td> <th>  Cond. No.          </th> <td>1.33e+16</td>\n",
       "</tr>\n",
       "</table><br/><br/>Notes:<br/>[1] Standard Errors assume that the covariance matrix of the errors is correctly specified.<br/>[2] The smallest eigenvalue is 6.31e-26. This might indicate that there are<br/>strong multicollinearity problems or that the design matrix is singular."
      ],
      "text/plain": [
       "<class 'statsmodels.iolib.summary.Summary'>\n",
       "\"\"\"\n",
       "                            OLS Regression Results                            \n",
       "==============================================================================\n",
       "Dep. Variable:                  Sales   R-squared:                       0.881\n",
       "Model:                            OLS   Adj. R-squared:                  0.879\n",
       "Method:                 Least Squares   F-statistic:                     361.1\n",
       "Date:                Fri, 14 Apr 2023   Prob (F-statistic):           2.56e-67\n",
       "Time:                        22:18:18   Log-Likelihood:                -295.90\n",
       "No. Observations:                 150   AIC:                             599.8\n",
       "Df Residuals:                     146   BIC:                             611.9\n",
       "Df Model:                           3                                         \n",
       "Covariance Type:            nonrobust                                         \n",
       "============================================================================================\n",
       "                               coef    std err          t      P>|t|      [0.025      0.975]\n",
       "--------------------------------------------------------------------------------------------\n",
       "const                        2.9395      0.394      7.464      0.000       2.161       3.718\n",
       "TV Ad Budget                -0.0109      0.003     -3.808      0.000      -0.017      -0.005\n",
       "Radio Ad Budget              0.1270      0.009     14.646      0.000       0.110       0.144\n",
       "Newspaper Ad Budget         -0.0589      0.007     -8.368      0.000      -0.073      -0.045\n",
       "Advertising Budget total     0.0571      0.003     21.485      0.000       0.052       0.062\n",
       "==============================================================================\n",
       "Omnibus:                       47.653   Durbin-Watson:                   2.259\n",
       "Prob(Omnibus):                  0.000   Jarque-Bera (JB):              112.309\n",
       "Skew:                          -1.334   Prob(JB):                     4.10e-25\n",
       "Kurtosis:                       6.293   Cond. No.                     1.33e+16\n",
       "==============================================================================\n",
       "\n",
       "Notes:\n",
       "[1] Standard Errors assume that the covariance matrix of the errors is correctly specified.\n",
       "[2] The smallest eigenvalue is 6.31e-26. This might indicate that there are\n",
       "strong multicollinearity problems or that the design matrix is singular.\n",
       "\"\"\""
      ]
     },
     "execution_count": 19,
     "metadata": {},
     "output_type": "execute_result"
    }
   ],
   "source": [
    "# Identify dependent and independent variables\n",
    "\n",
    "dependent_var = train['Sales']\n",
    "independent_var = train[['TV Ad Budget', 'Radio Ad Budget', 'Newspaper Ad Budget',\n",
    "       'Advertising Budget total']]\n",
    "independent_var = sm.add_constant(independent_var)\n",
    "\n",
    "# Build the model \n",
    "model = sm.OLS(\n",
    "    dependent_var,\n",
    "    independent_var\n",
    ").fit()\n",
    "\n",
    "model.summary()"
   ]
  },
  {
   "cell_type": "code",
   "execution_count": 20,
   "id": "0271351b-b190-41ef-b03f-5ec70f066ac0",
   "metadata": {},
   "outputs": [],
   "source": [
    "predicted = model.predict(\n",
    "    sm.add_constant(test[['TV Ad Budget', 'Radio Ad Budget', 'Newspaper Ad Budget',\n",
    "       'Advertising Budget total']])\n",
    ")"
   ]
  },
  {
   "cell_type": "code",
   "execution_count": 21,
   "id": "54db239a-f5c8-4d3b-8945-dc4f99df74d2",
   "metadata": {},
   "outputs": [
    {
     "data": {
      "text/plain": [
       "0.9329679186406997"
      ]
     },
     "execution_count": 21,
     "metadata": {},
     "output_type": "execute_result"
    }
   ],
   "source": [
    "metrics.r2_score(test['Sales'],predicted)"
   ]
  },
  {
   "cell_type": "markdown",
   "id": "bce8455c-e1ef-479a-80da-57edbbbbe8f7",
   "metadata": {},
   "source": [
    "## Train the model - Second attempt"
   ]
  },
  {
   "cell_type": "code",
   "execution_count": 22,
   "id": "3a1b8724-d5a9-4069-b19c-3df35e14e14d",
   "metadata": {},
   "outputs": [
    {
     "data": {
      "text/html": [
       "<table class=\"simpletable\">\n",
       "<caption>OLS Regression Results</caption>\n",
       "<tr>\n",
       "  <th>Dep. Variable:</th>          <td>Sales</td>      <th>  R-squared:         </th> <td>   0.881</td>\n",
       "</tr>\n",
       "<tr>\n",
       "  <th>Model:</th>                   <td>OLS</td>       <th>  Adj. R-squared:    </th> <td>   0.879</td>\n",
       "</tr>\n",
       "<tr>\n",
       "  <th>Method:</th>             <td>Least Squares</td>  <th>  F-statistic:       </th> <td>   361.1</td>\n",
       "</tr>\n",
       "<tr>\n",
       "  <th>Date:</th>             <td>Fri, 14 Apr 2023</td> <th>  Prob (F-statistic):</th> <td>2.56e-67</td>\n",
       "</tr>\n",
       "<tr>\n",
       "  <th>Time:</th>                 <td>22:18:55</td>     <th>  Log-Likelihood:    </th> <td> -295.90</td>\n",
       "</tr>\n",
       "<tr>\n",
       "  <th>No. Observations:</th>      <td>   150</td>      <th>  AIC:               </th> <td>   599.8</td>\n",
       "</tr>\n",
       "<tr>\n",
       "  <th>Df Residuals:</th>          <td>   146</td>      <th>  BIC:               </th> <td>   611.9</td>\n",
       "</tr>\n",
       "<tr>\n",
       "  <th>Df Model:</th>              <td>     3</td>      <th>                     </th>     <td> </td>   \n",
       "</tr>\n",
       "<tr>\n",
       "  <th>Covariance Type:</th>      <td>nonrobust</td>    <th>                     </th>     <td> </td>   \n",
       "</tr>\n",
       "</table>\n",
       "<table class=\"simpletable\">\n",
       "<tr>\n",
       "           <td></td>              <th>coef</th>     <th>std err</th>      <th>t</th>      <th>P>|t|</th>  <th>[0.025</th>    <th>0.975]</th>  \n",
       "</tr>\n",
       "<tr>\n",
       "  <th>const</th>               <td>    2.9395</td> <td>    0.394</td> <td>    7.464</td> <td> 0.000</td> <td>    2.161</td> <td>    3.718</td>\n",
       "</tr>\n",
       "<tr>\n",
       "  <th>TV Ad Budget</th>        <td>    0.0462</td> <td>    0.002</td> <td>   27.242</td> <td> 0.000</td> <td>    0.043</td> <td>    0.050</td>\n",
       "</tr>\n",
       "<tr>\n",
       "  <th>Radio Ad Budget</th>     <td>    0.1841</td> <td>    0.010</td> <td>   17.718</td> <td> 0.000</td> <td>    0.164</td> <td>    0.205</td>\n",
       "</tr>\n",
       "<tr>\n",
       "  <th>Newspaper Ad Budget</th> <td>   -0.0018</td> <td>    0.008</td> <td>   -0.237</td> <td> 0.813</td> <td>   -0.017</td> <td>    0.013</td>\n",
       "</tr>\n",
       "</table>\n",
       "<table class=\"simpletable\">\n",
       "<tr>\n",
       "  <th>Omnibus:</th>       <td>47.653</td> <th>  Durbin-Watson:     </th> <td>   2.259</td>\n",
       "</tr>\n",
       "<tr>\n",
       "  <th>Prob(Omnibus):</th> <td> 0.000</td> <th>  Jarque-Bera (JB):  </th> <td> 112.309</td>\n",
       "</tr>\n",
       "<tr>\n",
       "  <th>Skew:</th>          <td>-1.334</td> <th>  Prob(JB):          </th> <td>4.10e-25</td>\n",
       "</tr>\n",
       "<tr>\n",
       "  <th>Kurtosis:</th>      <td> 6.293</td> <th>  Cond. No.          </th> <td>    462.</td>\n",
       "</tr>\n",
       "</table><br/><br/>Notes:<br/>[1] Standard Errors assume that the covariance matrix of the errors is correctly specified."
      ],
      "text/plain": [
       "<class 'statsmodels.iolib.summary.Summary'>\n",
       "\"\"\"\n",
       "                            OLS Regression Results                            \n",
       "==============================================================================\n",
       "Dep. Variable:                  Sales   R-squared:                       0.881\n",
       "Model:                            OLS   Adj. R-squared:                  0.879\n",
       "Method:                 Least Squares   F-statistic:                     361.1\n",
       "Date:                Fri, 14 Apr 2023   Prob (F-statistic):           2.56e-67\n",
       "Time:                        22:18:55   Log-Likelihood:                -295.90\n",
       "No. Observations:                 150   AIC:                             599.8\n",
       "Df Residuals:                     146   BIC:                             611.9\n",
       "Df Model:                           3                                         \n",
       "Covariance Type:            nonrobust                                         \n",
       "=======================================================================================\n",
       "                          coef    std err          t      P>|t|      [0.025      0.975]\n",
       "---------------------------------------------------------------------------------------\n",
       "const                   2.9395      0.394      7.464      0.000       2.161       3.718\n",
       "TV Ad Budget            0.0462      0.002     27.242      0.000       0.043       0.050\n",
       "Radio Ad Budget         0.1841      0.010     17.718      0.000       0.164       0.205\n",
       "Newspaper Ad Budget    -0.0018      0.008     -0.237      0.813      -0.017       0.013\n",
       "==============================================================================\n",
       "Omnibus:                       47.653   Durbin-Watson:                   2.259\n",
       "Prob(Omnibus):                  0.000   Jarque-Bera (JB):              112.309\n",
       "Skew:                          -1.334   Prob(JB):                     4.10e-25\n",
       "Kurtosis:                       6.293   Cond. No.                         462.\n",
       "==============================================================================\n",
       "\n",
       "Notes:\n",
       "[1] Standard Errors assume that the covariance matrix of the errors is correctly specified.\n",
       "\"\"\""
      ]
     },
     "execution_count": 22,
     "metadata": {},
     "output_type": "execute_result"
    }
   ],
   "source": [
    "dependent_var = train['Sales']\n",
    "independent_var = train[['TV Ad Budget', 'Radio Ad Budget', 'Newspaper Ad Budget']]\n",
    "independent_var = sm.add_constant(independent_var)\n",
    "\n",
    "# Build the model \n",
    "model = sm.OLS(\n",
    "    dependent_var,\n",
    "    independent_var\n",
    ").fit()\n",
    "\n",
    "model.summary()"
   ]
  },
  {
   "cell_type": "code",
   "execution_count": 23,
   "id": "add39500-3db7-4a0b-a53b-966b587a33ff",
   "metadata": {},
   "outputs": [
    {
     "data": {
      "text/plain": [
       "0.9329679186406996"
      ]
     },
     "execution_count": 23,
     "metadata": {},
     "output_type": "execute_result"
    }
   ],
   "source": [
    "predicted = model.predict(\n",
    "    sm.add_constant(test[['TV Ad Budget', 'Radio Ad Budget', 'Newspaper Ad Budget']])\n",
    ")\n",
    "metrics.r2_score(test['Sales'],predicted)"
   ]
  },
  {
   "cell_type": "markdown",
   "id": "20628c06-acf5-4e6b-a4ad-12057492b0d5",
   "metadata": {},
   "source": [
    "## Train the model - Third attempt"
   ]
  },
  {
   "cell_type": "code",
   "execution_count": 24,
   "id": "49df103b-c887-4536-b548-2adf2cd8be5c",
   "metadata": {},
   "outputs": [
    {
     "data": {
      "text/html": [
       "<table class=\"simpletable\">\n",
       "<caption>OLS Regression Results</caption>\n",
       "<tr>\n",
       "  <th>Dep. Variable:</th>          <td>Sales</td>      <th>  R-squared:         </th> <td>   0.881</td>\n",
       "</tr>\n",
       "<tr>\n",
       "  <th>Model:</th>                   <td>OLS</td>       <th>  Adj. R-squared:    </th> <td>   0.880</td>\n",
       "</tr>\n",
       "<tr>\n",
       "  <th>Method:</th>             <td>Least Squares</td>  <th>  F-statistic:       </th> <td>   545.2</td>\n",
       "</tr>\n",
       "<tr>\n",
       "  <th>Date:</th>             <td>Fri, 14 Apr 2023</td> <th>  Prob (F-statistic):</th> <td>9.98e-69</td>\n",
       "</tr>\n",
       "<tr>\n",
       "  <th>Time:</th>                 <td>22:21:32</td>     <th>  Log-Likelihood:    </th> <td> -295.93</td>\n",
       "</tr>\n",
       "<tr>\n",
       "  <th>No. Observations:</th>      <td>   150</td>      <th>  AIC:               </th> <td>   597.9</td>\n",
       "</tr>\n",
       "<tr>\n",
       "  <th>Df Residuals:</th>          <td>   147</td>      <th>  BIC:               </th> <td>   606.9</td>\n",
       "</tr>\n",
       "<tr>\n",
       "  <th>Df Model:</th>              <td>     2</td>      <th>                     </th>     <td> </td>   \n",
       "</tr>\n",
       "<tr>\n",
       "  <th>Covariance Type:</th>      <td>nonrobust</td>    <th>                     </th>     <td> </td>   \n",
       "</tr>\n",
       "</table>\n",
       "<table class=\"simpletable\">\n",
       "<tr>\n",
       "         <td></td>            <th>coef</th>     <th>std err</th>      <th>t</th>      <th>P>|t|</th>  <th>[0.025</th>    <th>0.975]</th>  \n",
       "</tr>\n",
       "<tr>\n",
       "  <th>const</th>           <td>    2.9042</td> <td>    0.363</td> <td>    7.990</td> <td> 0.000</td> <td>    2.186</td> <td>    3.622</td>\n",
       "</tr>\n",
       "<tr>\n",
       "  <th>TV Ad Budget</th>    <td>    0.0462</td> <td>    0.002</td> <td>   27.373</td> <td> 0.000</td> <td>    0.043</td> <td>    0.050</td>\n",
       "</tr>\n",
       "<tr>\n",
       "  <th>Radio Ad Budget</th> <td>    0.1832</td> <td>    0.010</td> <td>   18.945</td> <td> 0.000</td> <td>    0.164</td> <td>    0.202</td>\n",
       "</tr>\n",
       "</table>\n",
       "<table class=\"simpletable\">\n",
       "<tr>\n",
       "  <th>Omnibus:</th>       <td>47.081</td> <th>  Durbin-Watson:     </th> <td>   2.257</td>\n",
       "</tr>\n",
       "<tr>\n",
       "  <th>Prob(Omnibus):</th> <td> 0.000</td> <th>  Jarque-Bera (JB):  </th> <td> 108.623</td>\n",
       "</tr>\n",
       "<tr>\n",
       "  <th>Skew:</th>          <td>-1.329</td> <th>  Prob(JB):          </th> <td>2.59e-24</td>\n",
       "</tr>\n",
       "<tr>\n",
       "  <th>Kurtosis:</th>      <td> 6.212</td> <th>  Cond. No.          </th> <td>    423.</td>\n",
       "</tr>\n",
       "</table><br/><br/>Notes:<br/>[1] Standard Errors assume that the covariance matrix of the errors is correctly specified."
      ],
      "text/plain": [
       "<class 'statsmodels.iolib.summary.Summary'>\n",
       "\"\"\"\n",
       "                            OLS Regression Results                            \n",
       "==============================================================================\n",
       "Dep. Variable:                  Sales   R-squared:                       0.881\n",
       "Model:                            OLS   Adj. R-squared:                  0.880\n",
       "Method:                 Least Squares   F-statistic:                     545.2\n",
       "Date:                Fri, 14 Apr 2023   Prob (F-statistic):           9.98e-69\n",
       "Time:                        22:21:32   Log-Likelihood:                -295.93\n",
       "No. Observations:                 150   AIC:                             597.9\n",
       "Df Residuals:                     147   BIC:                             606.9\n",
       "Df Model:                           2                                         \n",
       "Covariance Type:            nonrobust                                         \n",
       "===================================================================================\n",
       "                      coef    std err          t      P>|t|      [0.025      0.975]\n",
       "-----------------------------------------------------------------------------------\n",
       "const               2.9042      0.363      7.990      0.000       2.186       3.622\n",
       "TV Ad Budget        0.0462      0.002     27.373      0.000       0.043       0.050\n",
       "Radio Ad Budget     0.1832      0.010     18.945      0.000       0.164       0.202\n",
       "==============================================================================\n",
       "Omnibus:                       47.081   Durbin-Watson:                   2.257\n",
       "Prob(Omnibus):                  0.000   Jarque-Bera (JB):              108.623\n",
       "Skew:                          -1.329   Prob(JB):                     2.59e-24\n",
       "Kurtosis:                       6.212   Cond. No.                         423.\n",
       "==============================================================================\n",
       "\n",
       "Notes:\n",
       "[1] Standard Errors assume that the covariance matrix of the errors is correctly specified.\n",
       "\"\"\""
      ]
     },
     "execution_count": 24,
     "metadata": {},
     "output_type": "execute_result"
    }
   ],
   "source": [
    "dependent_var = train['Sales']\n",
    "independent_var = train[['TV Ad Budget', 'Radio Ad Budget']]\n",
    "independent_var = sm.add_constant(independent_var)\n",
    "\n",
    "# Build the model \n",
    "model = sm.OLS(\n",
    "    dependent_var,\n",
    "    independent_var\n",
    ").fit()\n",
    "\n",
    "model.summary()"
   ]
  },
  {
   "cell_type": "code",
   "execution_count": 25,
   "id": "05805707-9c20-4e4a-81ad-1ed0656aba00",
   "metadata": {},
   "outputs": [
    {
     "data": {
      "text/plain": [
       "0.9330669780312202"
      ]
     },
     "execution_count": 25,
     "metadata": {},
     "output_type": "execute_result"
    }
   ],
   "source": [
    "predicted = model.predict(\n",
    "    sm.add_constant(test[['TV Ad Budget', 'Radio Ad Budget']])\n",
    ")\n",
    "metrics.r2_score(test['Sales'],predicted)"
   ]
  }
 ],
 "metadata": {
  "kernelspec": {
   "display_name": "Python 3 (ipykernel)",
   "language": "python",
   "name": "python3"
  },
  "language_info": {
   "codemirror_mode": {
    "name": "ipython",
    "version": 3
   },
   "file_extension": ".py",
   "mimetype": "text/x-python",
   "name": "python",
   "nbconvert_exporter": "python",
   "pygments_lexer": "ipython3",
   "version": "3.9.7"
  }
 },
 "nbformat": 4,
 "nbformat_minor": 5
}
