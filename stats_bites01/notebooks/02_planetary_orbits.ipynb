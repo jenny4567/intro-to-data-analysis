{
 "cells": [
  {
   "attachments": {},
   "cell_type": "markdown",
   "metadata": {},
   "source": [
    "# Kepler's third law of planetary motion\n",
    "\n",
    "If we try to follow Johannes Kepler and plot the orbital period of the planets against their average distance from the sun, we don't get a straight line. We get a curve."
   ]
  },
  {
   "cell_type": "code",
   "execution_count": null,
   "metadata": {},
   "outputs": [],
   "source": [
    "import pandas as pd\n",
    "\n",
    "planets = pd.read_csv(\"../../data/smaller-datasets/planets.csv\")\n",
    "df = pd.DataFrame({\"orbital_period\": planets[\"Orbital Period (days)\"], \"distance from Sun\": planets[\"Distance from Sun (10^6 km)\"]})\n",
    "df.plot.scatter(x=\"distance from Sun\", y=\"orbital_period\")"
   ]
  },
  {
   "attachments": {},
   "cell_type": "markdown",
   "metadata": {},
   "source": [
    "A modern way to \"iron out\" this curve is to take `logarithms` of the data. `Logarithms`, or `logs`, is a fairly large topic. As a brief summary...\n",
    "\n",
    "We can calculate that  `10**4 = 10000`\n",
    "\n",
    "Given the number `10000`, someone may ask \"What power of 10 makes 10000?\" \n",
    "\n",
    "With a calculator, we can answer that by doing `log(10000)` to get the answer `4`\n",
    "\n",
    "So, in a sense, `logarithms` undo powers. There is more to know, such as which base we are working in. The above was in base `10`, but a common alternative is the `natural logarithm` which is in a different base. Most calculators will mean base `10` when they say `log`, and `natural logarithm` when they say `ln`. But python means `natural logarithm` when it says `log` (although you can add a base parameter - read the documentation).\n",
    "\n",
    "\n",
    "# Impact on interpreting data\n",
    "\n",
    "Well let's take a look at it first. We promised to \"iron out\" the curve."
   ]
  },
  {
   "cell_type": "code",
   "execution_count": null,
   "metadata": {},
   "outputs": [],
   "source": [
    "import math\n",
    "import seaborn as sns\n",
    "import numpy as np\n",
    "\n",
    "dists = pd.Series(planets[\"Distance from Sun (10^6 km)\"])\n",
    "log_dists = [math.log(float(d)) for d in dists]\n",
    "\n",
    "periods = pd.Series(planets[\"Orbital Period (days)\"])\n",
    "log_periods = [math.log(float(p)) for p in periods]\n",
    "\n",
    "a, b = np.polyfit(log_dists, log_periods, 1)\n",
    "print(\"log(period) = {}log(distance) + {}\".format(a, b))\n",
    "\n",
    "df = pd.DataFrame({\"log_orbital_period\": log_periods, \"log_distance_from_Sun\": log_dists})\n",
    "df.plot.scatter(x = \"log_distance_from_Sun\", y = \"log_orbital_period\", title=\"log of planet's distance against log of length of orbit\")\n",
    "sns.regplot(x=log_dists, y=log_periods)"
   ]
  },
  {
   "attachments": {},
   "cell_type": "markdown",
   "metadata": {},
   "source": [
    "Yes, that looks like a straight line. \n",
    "\n",
    "And it can lead us to the conclusion that some powers or other of our data is proportional (meaning, they would also produce a straight line). The maths involved in making use of this to work out the powers requires knowing a bit more about `logarithms`. But there is a clue in the gradient of our line, with is about `1.5 = 3/2`\n",
    "\n",
    "I'm going to cube the distances and square the periods. Call it magic for now."
   ]
  },
  {
   "cell_type": "code",
   "execution_count": null,
   "metadata": {},
   "outputs": [],
   "source": [
    "# Use if you want distances in astronomical units\n",
    "# dist_earth2sun = dists[2]\n",
    "# print(\"dist earth to sun\", dist_earth2sun)\n",
    "# dists2 = [d/dist_earth2sun for d in dists]\n",
    "\n",
    "\n",
    "cube_dists = pd.Series([d**3 for d in dists])\n",
    "square_periods = pd.Series([p**2 for p in periods])\n",
    "\n",
    "print(\"correlation coefficient: \", cube_dists.corr(square_periods))\n",
    "\n",
    "df = pd.DataFrame({\"Square of orbital period\": square_periods, \"cube of distance to sun\": cube_dists})\n",
    "df.plot.scatter(x = \"cube of distance to sun\", y = \"Square of orbital period\", title=\"cube of planet's distance against square of length of orbit\")\n",
    "sns.regplot(x=cube_dists, y=square_periods, )"
   ]
  },
  {
   "attachments": {},
   "cell_type": "markdown",
   "metadata": {},
   "source": [
    "We get another straight line and have gone some way to show the data follows [Kepler's third law on planetary motion](https://en.wikipedia.org/wiki/Kepler%27s_laws_of_planetary_motion). (There does still seem to be a problem, if you consider what the formula for line of best fit gives for the orbital period of a plant at distance 0. But this article was intended as an introduction to why we use logarithms)."
   ]
  }
 ],
 "metadata": {
  "kernelspec": {
   "display_name": "Python 3",
   "language": "python",
   "name": "python3"
  },
  "language_info": {
   "codemirror_mode": {
    "name": "ipython",
    "version": 3
   },
   "file_extension": ".py",
   "mimetype": "text/x-python",
   "name": "python",
   "nbconvert_exporter": "python",
   "pygments_lexer": "ipython3",
   "version": "3.10.8"
  },
  "orig_nbformat": 4
 },
 "nbformat": 4,
 "nbformat_minor": 2
}
