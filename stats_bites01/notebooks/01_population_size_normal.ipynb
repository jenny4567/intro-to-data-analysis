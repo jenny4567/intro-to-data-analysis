{
 "cells": [
  {
   "attachments": {},
   "cell_type": "markdown",
   "metadata": {},
   "source": [
    "# Sample Size\n",
    "In this investigation, our population will be numbers in an array. And we will take samples from that. Since we have the whole data, why are we going to take samples? \n",
    "\n",
    "There will be situations where having the complete data is not practical. We will only be able to sample the population and use our measurements of that _sample_ to talk about the _whole_ _population_. How should sample size affect our confidence when we use only the sample to reach conclusions? For instance: how accurate would the estimate of the mean be? \n",
    "\n",
    "(Don't worry too much about what the mean is. It's the 'everyday average'. We'll look into it in more detail later in the course. For now: just think of it as something we can use to describe a list of numbers.)\n",
    "\n",
    "For our investigation: \n",
    "- start off by keeping the population size the same\n",
    "- vary the sample size (as a percentage of the population) and compare the sample mean to the real mean of the population. The program actually picks 100 samples and reports on the biggest error.\n",
    "- how big does the sample need to be so that the percentage error is about 2%\n"
   ]
  },
  {
   "cell_type": "code",
   "execution_count": 1,
   "metadata": {},
   "outputs": [
    {
     "data": {
      "application/vnd.jupyter.widget-view+json": {
       "model_id": "a107cfa3132e41e19e8ba9b2ff5940a0",
       "version_major": 2,
       "version_minor": 0
      },
      "text/plain": [
       "interactive(children=(FloatLogSlider(value=100.0, continuous_update=False, description='pop_size', max=6.0, mi…"
      ]
     },
     "metadata": {},
     "output_type": "display_data"
    }
   ],
   "source": [
    "import pandas as pd\n",
    "from numpy import random\n",
    "from ipywidgets import interact, FloatLogSlider, FloatSlider\n",
    "from math import floor\n",
    "\n",
    "sd = 15\n",
    "\n",
    "\n",
    "@interact(\n",
    "    pop_size=FloatLogSlider(base=10, min=2, value=100, max=6,step=1, continuous_update=False, readout_format=\".8\"),\n",
    "    sample_size=FloatSlider(min=0.1, value=0.2, max=1, step=0.1, continuous_update=False, readout_format=\".0%\")\n",
    ")\n",
    "def take_samples(pop_size, sample_size):\n",
    "    # the computer will pick numbers from a normal distribution to put into a data series (a list)\n",
    "    pop_size = floor(pop_size)\n",
    "    population = pd.Series(random.normal(loc=100, scale=sd, size=pop_size))\n",
    "    mean_of_population = population.mean()\n",
    "    print(\"mean of the population:\", mean_of_population)\n",
    "\n",
    "    max_diff_in_means = 0\n",
    "    sample_size = floor(sample_size * pop_size)\n",
    "    print(\"sample size is\", sample_size, \"out of population of \", pop_size)\n",
    "    for i in range(100):\n",
    "        sample = population.sample(sample_size)\n",
    "        mean_of_sample = sample.mean()\n",
    "        diff = abs(mean_of_population - mean_of_sample)\n",
    "        if diff > max_diff_in_means:\n",
    "            max_diff_in_means = diff\n",
    "\n",
    "    print(\"maximum error as percent of real value\",\n",
    "            100*max_diff_in_means/mean_of_population)\n"
   ]
  },
  {
   "attachments": {},
   "cell_type": "markdown",
   "metadata": {},
   "source": [
    "How does the sample size compare with the results of the [previous investigation](./01_population_size_flat.ipynb)? "
   ]
  }
 ],
 "metadata": {
  "kernelspec": {
   "display_name": "Python 3",
   "language": "python",
   "name": "python3"
  },
  "language_info": {
   "codemirror_mode": {
    "name": "ipython",
    "version": 3
   },
   "file_extension": ".py",
   "mimetype": "text/x-python",
   "name": "python",
   "nbconvert_exporter": "python",
   "pygments_lexer": "ipython3",
   "version": "3.10.8"
  },
  "orig_nbformat": 4,
  "vscode": {
   "interpreter": {
    "hash": "b0fa6594d8f4cbf19f97940f81e996739fb7646882a419484c72d19e05852a7e"
   }
  }
 },
 "nbformat": 4,
 "nbformat_minor": 2
}
