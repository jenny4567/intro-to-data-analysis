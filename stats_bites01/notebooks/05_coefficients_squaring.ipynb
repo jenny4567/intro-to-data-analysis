{
 "cells": [
  {
   "attachments": {},
   "cell_type": "markdown",
   "metadata": {},
   "source": [
    "# Aiming for a correlation coefficient of zero\n",
    "\n",
    "## Using a squaring function\n",
    "\n",
    "We are going to hardwire a relationship between two lists of numbers, by squaring the first list. The below code is set up to start with a list of random numbers. Then to make another list by squaring the first.\n",
    "\n",
    "The slider shifts the graph around. It starts with an offset of 15, which gets us a nice parabola. If you change the offset, then you will see a different part of the parabola -- a part that looks a bit straighter. So the `correlation coefficient` shifts towards plus or minus one."
   ]
  },
  {
   "cell_type": "code",
   "execution_count": null,
   "metadata": {},
   "outputs": [],
   "source": [
    "from random import uniform\n",
    "import pandas as pd\n",
    "from ipywidgets import interact, IntSlider\n",
    "\n",
    "def square(n):\n",
    "    return n*n\n",
    "\n",
    "@interact(\n",
    "    offset = IntSlider(min=1, max=30, value=15, step=2, continuous_update=False)\n",
    ")\n",
    "def make_data(offset):\n",
    "    def random_nums(n):\n",
    "        out = []\n",
    "        while n > 0:\n",
    "            n -= 1\n",
    "            out.append(uniform(10, 20) - offset)\n",
    "        return out\n",
    "\n",
    "    list_a = pd.Series(random_nums(200))\n",
    "    list_b = pd.Series(map(square, list_a))\n",
    "\n",
    "    data = pd.DataFrame({\n",
    "        \"random_nums_a\": list_a,\n",
    "        \"square_of_list_a\": list_b,\n",
    "    })\n",
    "\n",
    "    data.plot.scatter(x = \"random_nums_a\", y = \"square_of_list_a\", title=\"random numbers vs their square\")\n",
    "    print(\"This data set has correlation coefficient: \", list_a.corr(list_b))\n"
   ]
  },
  {
   "attachments": {},
   "cell_type": "markdown",
   "metadata": {},
   "source": [
    "## Getting the elusive zero\n",
    "\n",
    "This data starts with [-100, -99, ..., 99, 100]\n",
    "\n",
    "And the corresponding squares. \n",
    "\n",
    "The correlation coefficient is zero"
   ]
  },
  {
   "cell_type": "code",
   "execution_count": null,
   "metadata": {},
   "outputs": [],
   "source": [
    "list_a = pd.Series(range(-100, 101))\n",
    "list_b = pd.Series(map(square, list_a))\n",
    "\n",
    "data = pd.DataFrame({\n",
    "    \"random_nums_a\": list_a,\n",
    "    \"square_of_list_a\": list_b,\n",
    "})\n",
    "\n",
    "data.plot.scatter(x=\"random_nums_a\", y=\"square_of_list_a\",\n",
    "                  title=\"symmetrical range of numbers vs their square\")\n",
    "print(\"This data set has correlation coefficient: \", list_a.corr(list_b))\n"
   ]
  }
 ],
 "metadata": {
  "kernelspec": {
   "display_name": "Python 3",
   "language": "python",
   "name": "python3"
  },
  "language_info": {
   "codemirror_mode": {
    "name": "ipython",
    "version": 3
   },
   "file_extension": ".py",
   "mimetype": "text/x-python",
   "name": "python",
   "nbconvert_exporter": "python",
   "pygments_lexer": "ipython3",
   "version": "3.10.8"
  },
  "orig_nbformat": 4,
  "vscode": {
   "interpreter": {
    "hash": "b0fa6594d8f4cbf19f97940f81e996739fb7646882a419484c72d19e05852a7e"
   }
  }
 },
 "nbformat": 4,
 "nbformat_minor": 2
}
