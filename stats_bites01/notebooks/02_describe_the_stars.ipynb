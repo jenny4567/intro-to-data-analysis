{
 "cells": [
  {
   "attachments": {},
   "cell_type": "markdown",
   "metadata": {},
   "source": [
    "# Describe The Stars\n",
    "\n",
    "For this exercise, our population will be the [240 stars selected by NASA](https://www.kaggle.com/datasets/brsdincer/star-type-classification) for their examples of star classification. The aim is to use scatter diagrams to look for anything 'interesting' in the data.\n",
    "\n",
    "The first thing to do is to look at the data. So run this code block to see a summary of it."
   ]
  },
  {
   "cell_type": "code",
   "execution_count": null,
   "metadata": {},
   "outputs": [],
   "source": [
    "import pandas as pd\n",
    "\n",
    "stars = pd.read_csv(\"../../data/smaller-datasets/Stars.csv\")\n",
    "print(stars.info())\n",
    "print(stars.head())\n"
   ]
  },
  {
   "attachments": {},
   "cell_type": "markdown",
   "metadata": {},
   "source": [
    "So we can see that we have 7 columns. \n",
    "\n",
    "```\n",
    "Temperature, Luminosity, Radius, Abs_magnitude, Color, Spectral_Class, Type\n",
    "```\n",
    "\n",
    "You can google some of these terms if you want to learn more about them. Or you can continue with the next part of the investigation.\n",
    "\n",
    "We are going to pick two of the numerical columns and plot a scatter diagram. (There is a reason why the x-axis is reversed. It has to do with a famous diagram I hope to get to later in the course.)"
   ]
  },
  {
   "cell_type": "code",
   "execution_count": null,
   "metadata": {},
   "outputs": [],
   "source": [
    "import matplotlib.pyplot as plt\n",
    "import numpy as np\n",
    "from ipywidgets import interact, Dropdown, SelectionSlider\n",
    "\n",
    "@interact(\n",
    "        x = Dropdown(\n",
    "            options=[\"Temperature\", \"Luminosity\", \"Radius\", \"Abs_magnitude\"],\n",
    "            value=\"Temperature\",\n",
    "            description=\"x-axis\",\n",
    "            continuous_update=False\n",
    "        ),\n",
    "        y = Dropdown(\n",
    "            options=[\"Temperature\", \"Luminosity\", \"Radius\", \"Abs_magnitude\"],\n",
    "            value=\"Abs_magnitude\",\n",
    "            description=\"y-axis\",\n",
    "            continuous_update=False\n",
    "        ),\n",
    "        use_log = SelectionSlider(\n",
    "            options = [\"given values\", \"logarithmic\"],\n",
    "            value = \"given values\",\n",
    "            description= \"mode\"\n",
    "        )\n",
    ")\n",
    "def pick_xy(x, y, use_log):\n",
    "    x_vals = stars[x]\n",
    "    y_vals = stars[y]\n",
    "\n",
    "    fig, ax = plt.subplots()\n",
    "    if use_log == \"logarithmic\":\n",
    "        if y == \"Color\":\n",
    "            ax.scatter(np.log(x_vals), y_vals)\n",
    "        else:\n",
    "            ax.scatter(np.log(x_vals), np.log(y_vals))\n",
    "        x = \"log of \" + x\n",
    "        y = \"log of \" + y\n",
    "    else:\n",
    "        ax.scatter(x_vals, y_vals)\n",
    "    plt.gca().invert_xaxis()\n",
    "    plt.xlabel(x)\n",
    "    plt.ylabel(y)\n",
    "    plt.title(\"Scatter graph of \"+x+\" vs \"+ y)\n",
    "    plt.show()\n"
   ]
  },
  {
   "attachments": {},
   "cell_type": "markdown",
   "metadata": {},
   "source": [
    "There are a few selections which indicate a pattern to the data. Bear in mind: we aren't even using all the data yet. We have ignored 3 of the columns. \n",
    "\n",
    "Combinations I found interesting:\n",
    "- `Abs_magnitude` vs `Temperature`\n",
    "- `Temperature` vs `Luminosity` (especially in logarithmic mode)\n",
    "\n",
    "## Exercise\n",
    "\n",
    "Can you add `Color` to the y-axis so we can see if there is a relationship between colour and temperature?\n",
    "\n",
    "<details>\n",
    "<summary>Reveal suggested answer</summary>\n",
    "\n",
    "Add the string \"Color\" to the list of options for the vaiable `y`:\n",
    "\n",
    "```python\n",
    "options=[\"Temperature\", \"Luminosity\", \"Radius\", \"Abs_magnitude\", \"Color\"],\n",
    "```\n",
    "</details>\n",
    "\n",
    "The blue stars seem to have a wide range of temperatures. It's hard to see how many reds we have, because they are bunched together. Try turning on logarithmic mode. It stretches out the reds and squashes the blues. "
   ]
  }
 ],
 "metadata": {
  "kernelspec": {
   "display_name": "Python 3",
   "language": "python",
   "name": "python3"
  },
  "language_info": {
   "codemirror_mode": {
    "name": "ipython",
    "version": 3
   },
   "file_extension": ".py",
   "mimetype": "text/x-python",
   "name": "python",
   "nbconvert_exporter": "python",
   "pygments_lexer": "ipython3",
   "version": "3.10.8"
  },
  "orig_nbformat": 4,
  "vscode": {
   "interpreter": {
    "hash": "b0fa6594d8f4cbf19f97940f81e996739fb7646882a419484c72d19e05852a7e"
   }
  }
 },
 "nbformat": 4,
 "nbformat_minor": 2
}
