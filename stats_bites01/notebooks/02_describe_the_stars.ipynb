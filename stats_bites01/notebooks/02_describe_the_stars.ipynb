{
 "cells": [
  {
   "attachments": {},
   "cell_type": "markdown",
   "metadata": {},
   "source": [
    "# Describe The Stars\n",
    "\n",
    "For this exercise, our population will be the [240 stars selected by NASA](https://www.kaggle.com/datasets/brsdincer/star-type-classification) for their examples of star classification. The aim is to use scatter diagrams to look for anything 'interesting' in the data.\n",
    "\n",
    "The first thing to do is to look at the data. So run this code block to see a summary of it."
   ]
  },
  {
   "cell_type": "code",
   "execution_count": 1,
   "metadata": {},
   "outputs": [
    {
     "name": "stdout",
     "output_type": "stream",
     "text": [
      "<class 'pandas.core.frame.DataFrame'>\n",
      "RangeIndex: 240 entries, 0 to 239\n",
      "Data columns (total 7 columns):\n",
      " #   Column          Non-Null Count  Dtype  \n",
      "---  ------          --------------  -----  \n",
      " 0   Temperature     240 non-null    int64  \n",
      " 1   Luminosity      240 non-null    float64\n",
      " 2   Radius          240 non-null    float64\n",
      " 3   Abs_magnitude   240 non-null    float64\n",
      " 4   Color           240 non-null    object \n",
      " 5   Spectral_Class  240 non-null    object \n",
      " 6   Type            240 non-null    int64  \n",
      "dtypes: float64(3), int64(2), object(2)\n",
      "memory usage: 13.3+ KB\n",
      "None\n",
      "   Temperature  Luminosity  Radius  Abs_magnitude Color Spectral_Class  Type\n",
      "0         3068    0.002400  0.1700          16.12   Red              M     0\n",
      "1         3042    0.000500  0.1542          16.60   Red              M     0\n",
      "2         2600    0.000300  0.1020          18.70   Red              M     0\n",
      "3         2800    0.000200  0.1600          16.65   Red              M     0\n",
      "4         1939    0.000138  0.1030          20.06   Red              M     0\n"
     ]
    }
   ],
   "source": [
    "import pandas as pd\n",
    "\n",
    "stars = pd.read_csv(\"../../data/smaller-datasets/Stars.csv\")\n",
    "print(stars.info())\n",
    "print(stars.head())\n"
   ]
  },
  {
   "attachments": {},
   "cell_type": "markdown",
   "metadata": {},
   "source": [
    "So we can see that we have 7 columns. \n",
    "\n",
    "```\n",
    "Temperature, Luminosity, Radius, Abs_magnitude, Color, Spectral_Class, Type\n",
    "```\n",
    "\n",
    "You can google some of these terms if you want to learn more about them. Or you can continue with the next part of the investigation.\n",
    "\n",
    "We are going to pick two of the numerical columns and plot a scatter diagram. (There is a reason why the x-axis is reversed. It has to do with a famous diagram I hope to get to later in the course.)"
   ]
  },
  {
   "cell_type": "code",
   "execution_count": 3,
   "metadata": {},
   "outputs": [
    {
     "data": {
      "application/vnd.jupyter.widget-view+json": {
       "model_id": "35fbf683b1c840f9a9a6c474dfeb0d4c",
       "version_major": 2,
       "version_minor": 0
      },
      "text/plain": [
       "interactive(children=(Dropdown(description='x-axis', options=('Temperature', 'Luminosity', 'Radius', 'Abs_magn…"
      ]
     },
     "metadata": {},
     "output_type": "display_data"
    }
   ],
   "source": [
    "import matplotlib.pyplot as plt\n",
    "import numpy as np\n",
    "from ipywidgets import interact, Dropdown, SelectionSlider\n",
    "\n",
    "@interact(\n",
    "        x = Dropdown(\n",
    "            options=[\"Temperature\", \"Luminosity\", \"Radius\", \"Abs_magnitude\"],\n",
    "            value=\"Temperature\",\n",
    "            description=\"x-axis\",\n",
    "            continuous_update=False\n",
    "        ),\n",
    "        y = Dropdown(\n",
    "            options=[\"Temperature\", \"Luminosity\", \"Radius\", \"Abs_magnitude\", \"Color\"],\n",
    "            value=\"Abs_magnitude\",\n",
    "            description=\"y-axis\",\n",
    "            continuous_update=False\n",
    "        ),\n",
    "        use_log = SelectionSlider(\n",
    "            options = [\"given values\", \"logarithmic\"],\n",
    "            value = \"given values\",\n",
    "            description= \"mode\"\n",
    "        )\n",
    ")\n",
    "def pick_xy(x, y, use_log):\n",
    "    x_vals = stars[x]\n",
    "    y_vals = stars[y]\n",
    "\n",
    "    fig, ax = plt.subplots()\n",
    "    if use_log == \"logarithmic\":\n",
    "        if y == \"Color\":\n",
    "            ax.scatter(np.log(x_vals), y_vals)\n",
    "        else:\n",
    "            ax.scatter(np.log(x_vals), np.log(y_vals))\n",
    "        x = \"log of \" + x\n",
    "        y = \"log of \" + y\n",
    "    else:\n",
    "        ax.scatter(x_vals, y_vals)\n",
    "    plt.gca().invert_xaxis()\n",
    "    plt.xlabel(x)\n",
    "    plt.ylabel(y)\n",
    "    plt.title(\"Scatter graph of \"+x+\" vs \"+ y)\n",
    "    plt.show()\n"
   ]
  },
  {
   "attachments": {},
   "cell_type": "markdown",
   "metadata": {},
   "source": [
    "There are a few selections which indicate a pattern to the data. Bear in mind: we aren't even using all the data yet. We have ignored 3 of the columns. \n",
    "\n",
    "Combinations I found interesting:\n",
    "- `Abs_magnitude` vs `Temperature`\n",
    "- `Temperature` vs `Luminosity` (especially in logarithmic mode)\n",
    "\n",
    "## Exercise\n",
    "\n",
    "Can you add `Color` to the y-axis so we can see if there is a relationship between colour and temperature?\n",
    "\n",
    "<details>\n",
    "<summary>Reveal suggested answer</summary>\n",
    "\n",
    "Add the string \"Color\" to the list of options for the vaiable `y`:\n",
    "\n",
    "```python\n",
    "options=[\"Temperature\", \"Luminosity\", \"Radius\", \"Abs_magnitude\", \"Color\"],\n",
    "```\n",
    "</details>\n",
    "\n",
    "The blue stars seem to have a wide range of temperatures. It's hard to see how many reds we have, because they are bunched together. Try turning on logarithmic mode. It stretches out the reds and squashes the blues. "
   ]
  },
  {
   "cell_type": "code",
   "execution_count": 21,
   "metadata": {},
   "outputs": [
    {
     "data": {
      "image/png": "[encoded data removed]",
      "text/plain": [
       "<Figure size 640x480 with 1 Axes>"
      ]
     },
     "metadata": {},
     "output_type": "display_data"
    }
   ],
   "source": [
    "for color in list(set(list(stars['Color']))):\n",
    "    data = stars.loc[stars['Color'] == color]\n",
    "    temps = data['Temperature']\n",
    "    plt.scatter(temps, len(temps) * [color])"
   ]
  },
  {
   "cell_type": "code",
   "execution_count": 58,
   "metadata": {},
   "outputs": [
    {
     "data": {
      "text/html": [
       "<div>\n",
       "<style scoped>\n",
       "    .dataframe tbody tr th:only-of-type {\n",
       "        vertical-align: middle;\n",
       "    }\n",
       "\n",
       "    .dataframe tbody tr th {\n",
       "        vertical-align: top;\n",
       "    }\n",
       "\n",
       "    .dataframe thead th {\n",
       "        text-align: right;\n",
       "    }\n",
       "</style>\n",
       "<table border=\"1\" class=\"dataframe\">\n",
       "  <thead>\n",
       "    <tr style=\"text-align: right;\">\n",
       "      <th></th>\n",
       "      <th>Color</th>\n",
       "      <th>mean temperature</th>\n",
       "    </tr>\n",
       "  </thead>\n",
       "  <tbody>\n",
       "    <tr>\n",
       "      <th>0</th>\n",
       "      <td>Blue</td>\n",
       "      <td>21918.3</td>\n",
       "    </tr>\n",
       "    <tr>\n",
       "      <th>1</th>\n",
       "      <td>Blue-white</td>\n",
       "      <td>16660.0</td>\n",
       "    </tr>\n",
       "    <tr>\n",
       "      <th>10</th>\n",
       "      <td>Yellowish White</td>\n",
       "      <td>10826.7</td>\n",
       "    </tr>\n",
       "    <tr>\n",
       "      <th>6</th>\n",
       "      <td>White</td>\n",
       "      <td>9720.3</td>\n",
       "    </tr>\n",
       "    <tr>\n",
       "      <th>8</th>\n",
       "      <td>Whitish</td>\n",
       "      <td>8876.0</td>\n",
       "    </tr>\n",
       "    <tr>\n",
       "      <th>4</th>\n",
       "      <td>Pale yellow orange</td>\n",
       "      <td>7230.0</td>\n",
       "    </tr>\n",
       "    <tr>\n",
       "      <th>7</th>\n",
       "      <td>White-Yellow</td>\n",
       "      <td>7100.0</td>\n",
       "    </tr>\n",
       "    <tr>\n",
       "      <th>11</th>\n",
       "      <td>yellow-white</td>\n",
       "      <td>6466.2</td>\n",
       "    </tr>\n",
       "    <tr>\n",
       "      <th>3</th>\n",
       "      <td>Orange-Red</td>\n",
       "      <td>5112.0</td>\n",
       "    </tr>\n",
       "    <tr>\n",
       "      <th>9</th>\n",
       "      <td>Yellowish</td>\n",
       "      <td>4527.7</td>\n",
       "    </tr>\n",
       "    <tr>\n",
       "      <th>2</th>\n",
       "      <td>Orange</td>\n",
       "      <td>4018.0</td>\n",
       "    </tr>\n",
       "    <tr>\n",
       "      <th>5</th>\n",
       "      <td>Red</td>\n",
       "      <td>3291.8</td>\n",
       "    </tr>\n",
       "  </tbody>\n",
       "</table>\n",
       "</div>"
      ],
      "text/plain": [
       "                 Color  mean temperature\n",
       "0                 Blue           21918.3\n",
       "1           Blue-white           16660.0\n",
       "10     Yellowish White           10826.7\n",
       "6                White            9720.3\n",
       "8              Whitish            8876.0\n",
       "4   Pale yellow orange            7230.0\n",
       "7         White-Yellow            7100.0\n",
       "11        yellow-white            6466.2\n",
       "3           Orange-Red            5112.0\n",
       "9            Yellowish            4527.7\n",
       "2               Orange            4018.0\n",
       "5                  Red            3291.8"
      ]
     },
     "execution_count": 58,
     "metadata": {},
     "output_type": "execute_result"
    }
   ],
   "source": [
    "# mean_data = {}\n",
    "\n",
    "# for color in list(set(list(stars['Color']))):\n",
    "#     data = stars.loc[stars['Color'] == color]\n",
    "#     temps = list(data['Temperature'])\n",
    "#     mean_data[color] = round(sum(temps) / len(temps), 1)\n",
    "\n",
    "# mean_data_df = pd.DataFrame(mean_data.items(), columns=['Color', 'Mean Temperature'])\n",
    "# mean_data_df.sort_values('Mean Temperature', ascending=False)\n",
    "\n",
    "stars.groupby(\"Color\")[\"Temperature\"].mean().reset_index(name=\"mean temperature\").sort_values(by=\"mean temperature\", ascending=False).round(1)\n"
   ]
  },
  {
   "cell_type": "code",
   "execution_count": 59,
   "metadata": {},
   "outputs": [
    {
     "data": {
      "text/html": [
       "<div>\n",
       "<style scoped>\n",
       "    .dataframe tbody tr th:only-of-type {\n",
       "        vertical-align: middle;\n",
       "    }\n",
       "\n",
       "    .dataframe tbody tr th {\n",
       "        vertical-align: top;\n",
       "    }\n",
       "\n",
       "    .dataframe thead th {\n",
       "        text-align: right;\n",
       "    }\n",
       "</style>\n",
       "<table border=\"1\" class=\"dataframe\">\n",
       "  <thead>\n",
       "    <tr style=\"text-align: right;\">\n",
       "      <th></th>\n",
       "      <th>Color</th>\n",
       "      <th>median temperature</th>\n",
       "    </tr>\n",
       "  </thead>\n",
       "  <tbody>\n",
       "    <tr>\n",
       "      <th>0</th>\n",
       "      <td>Blue</td>\n",
       "      <td>19921.5</td>\n",
       "    </tr>\n",
       "    <tr>\n",
       "      <th>1</th>\n",
       "      <td>Blue-white</td>\n",
       "      <td>14100.0</td>\n",
       "    </tr>\n",
       "    <tr>\n",
       "      <th>10</th>\n",
       "      <td>Yellowish White</td>\n",
       "      <td>11790.0</td>\n",
       "    </tr>\n",
       "    <tr>\n",
       "      <th>6</th>\n",
       "      <td>White</td>\n",
       "      <td>8879.5</td>\n",
       "    </tr>\n",
       "    <tr>\n",
       "      <th>8</th>\n",
       "      <td>Whitish</td>\n",
       "      <td>8876.0</td>\n",
       "    </tr>\n",
       "    <tr>\n",
       "      <th>4</th>\n",
       "      <td>Pale yellow orange</td>\n",
       "      <td>7230.0</td>\n",
       "    </tr>\n",
       "    <tr>\n",
       "      <th>7</th>\n",
       "      <td>White-Yellow</td>\n",
       "      <td>7100.0</td>\n",
       "    </tr>\n",
       "    <tr>\n",
       "      <th>11</th>\n",
       "      <td>yellow-white</td>\n",
       "      <td>6158.0</td>\n",
       "    </tr>\n",
       "    <tr>\n",
       "      <th>3</th>\n",
       "      <td>Orange-Red</td>\n",
       "      <td>5112.0</td>\n",
       "    </tr>\n",
       "    <tr>\n",
       "      <th>9</th>\n",
       "      <td>Yellowish</td>\n",
       "      <td>4526.0</td>\n",
       "    </tr>\n",
       "    <tr>\n",
       "      <th>2</th>\n",
       "      <td>Orange</td>\n",
       "      <td>4018.0</td>\n",
       "    </tr>\n",
       "    <tr>\n",
       "      <th>5</th>\n",
       "      <td>Red</td>\n",
       "      <td>3324.0</td>\n",
       "    </tr>\n",
       "  </tbody>\n",
       "</table>\n",
       "</div>"
      ],
      "text/plain": [
       "                 Color  median temperature\n",
       "0                 Blue             19921.5\n",
       "1           Blue-white             14100.0\n",
       "10     Yellowish White             11790.0\n",
       "6                White              8879.5\n",
       "8              Whitish              8876.0\n",
       "4   Pale yellow orange              7230.0\n",
       "7         White-Yellow              7100.0\n",
       "11        yellow-white              6158.0\n",
       "3           Orange-Red              5112.0\n",
       "9            Yellowish              4526.0\n",
       "2               Orange              4018.0\n",
       "5                  Red              3324.0"
      ]
     },
     "execution_count": 59,
     "metadata": {},
     "output_type": "execute_result"
    }
   ],
   "source": [
    "stars.groupby(\"Color\")[\"Temperature\"].median().reset_index(name=\"median temperature\").sort_values(by=\"median temperature\", ascending=False).round(1)"
   ]
  },
  {
   "cell_type": "code",
   "execution_count": 62,
   "metadata": {},
   "outputs": [
    {
     "data": {
      "text/plain": [
       "<Axes: >"
      ]
     },
     "execution_count": 62,
     "metadata": {},
     "output_type": "execute_result"
    },
    {
     "data": {
      "image/png": "[encoded data removed]",
      "text/plain": [
       "<Figure size 640x480 with 1 Axes>"
      ]
     },
     "metadata": {},
     "output_type": "display_data"
    }
   ],
   "source": [
    "stars.Temperature.plot.box(vert = False)"
   ]
  },
  {
   "cell_type": "code",
   "execution_count": 70,
   "metadata": {},
   "outputs": [
    {
     "data": {
      "text/plain": [
       "32622.375"
      ]
     },
     "execution_count": 70,
     "metadata": {},
     "output_type": "execute_result"
    }
   ],
   "source": [
    "above_upp_quart = stars.Temperature.quantile(3/4) + 1.5 * (stars.Temperature.quantile(3/4) - stars.Temperature.quantile(1/4)) \n",
    "above_upp_quart"
   ]
  },
  {
   "attachments": {},
   "cell_type": "markdown",
   "metadata": {},
   "source": [
    "There were no outliers to the left of our box-plot of star temperatures, so there were no \"cold\" stars that were found to be outliers. But there are still a group of stars we can regard as the coldest 2% of stars in our dataset. Find them."
   ]
  },
  {
   "cell_type": "code",
   "execution_count": 73,
   "metadata": {},
   "outputs": [
    {
     "data": {
      "text/html": [
       "<div>\n",
       "<style scoped>\n",
       "    .dataframe tbody tr th:only-of-type {\n",
       "        vertical-align: middle;\n",
       "    }\n",
       "\n",
       "    .dataframe tbody tr th {\n",
       "        vertical-align: top;\n",
       "    }\n",
       "\n",
       "    .dataframe thead th {\n",
       "        text-align: right;\n",
       "    }\n",
       "</style>\n",
       "<table border=\"1\" class=\"dataframe\">\n",
       "  <thead>\n",
       "    <tr style=\"text-align: right;\">\n",
       "      <th></th>\n",
       "      <th>Temperature</th>\n",
       "      <th>Luminosity</th>\n",
       "      <th>Radius</th>\n",
       "      <th>Abs_magnitude</th>\n",
       "      <th>Color</th>\n",
       "      <th>Spectral_Class</th>\n",
       "      <th>Type</th>\n",
       "    </tr>\n",
       "  </thead>\n",
       "  <tbody>\n",
       "    <tr>\n",
       "      <th>2</th>\n",
       "      <td>2600</td>\n",
       "      <td>0.000300</td>\n",
       "      <td>0.102</td>\n",
       "      <td>18.70</td>\n",
       "      <td>Red</td>\n",
       "      <td>M</td>\n",
       "      <td>0</td>\n",
       "    </tr>\n",
       "    <tr>\n",
       "      <th>4</th>\n",
       "      <td>1939</td>\n",
       "      <td>0.000138</td>\n",
       "      <td>0.103</td>\n",
       "      <td>20.06</td>\n",
       "      <td>Red</td>\n",
       "      <td>M</td>\n",
       "      <td>0</td>\n",
       "    </tr>\n",
       "    <tr>\n",
       "      <th>6</th>\n",
       "      <td>2637</td>\n",
       "      <td>0.000730</td>\n",
       "      <td>0.127</td>\n",
       "      <td>17.22</td>\n",
       "      <td>Red</td>\n",
       "      <td>M</td>\n",
       "      <td>0</td>\n",
       "    </tr>\n",
       "    <tr>\n",
       "      <th>7</th>\n",
       "      <td>2600</td>\n",
       "      <td>0.000400</td>\n",
       "      <td>0.096</td>\n",
       "      <td>17.40</td>\n",
       "      <td>Red</td>\n",
       "      <td>M</td>\n",
       "      <td>0</td>\n",
       "    </tr>\n",
       "    <tr>\n",
       "      <th>78</th>\n",
       "      <td>2621</td>\n",
       "      <td>0.000600</td>\n",
       "      <td>0.098</td>\n",
       "      <td>12.81</td>\n",
       "      <td>Red</td>\n",
       "      <td>M</td>\n",
       "      <td>1</td>\n",
       "    </tr>\n",
       "  </tbody>\n",
       "</table>\n",
       "</div>"
      ],
      "text/plain": [
       "    Temperature  Luminosity  Radius  Abs_magnitude Color Spectral_Class  Type\n",
       "2          2600    0.000300   0.102          18.70   Red              M     0\n",
       "4          1939    0.000138   0.103          20.06   Red              M     0\n",
       "6          2637    0.000730   0.127          17.22   Red              M     0\n",
       "7          2600    0.000400   0.096          17.40   Red              M     0\n",
       "78         2621    0.000600   0.098          12.81   Red              M     1"
      ]
     },
     "execution_count": 73,
     "metadata": {},
     "output_type": "execute_result"
    }
   ],
   "source": [
    "low_limit = stars.Temperature.quantile(2/100)\n",
    "cold_stars = stars[stars['Temperature'] <= low_limit]\n",
    "cold_stars"
   ]
  },
  {
   "attachments": {},
   "cell_type": "markdown",
   "metadata": {},
   "source": [
    "It may be worth noting that all of the coldest 2% of stars are red and of spectral class M. However, it is worth noting that red stars are by a large margin the most frequent, with twice as many red stars as the second most populous stars. \n",
    "\n",
    "Red stars had the lowest mean and median temperature calculated earlier though so this conclusion about the coldest stars being red stars is backed up by that information.  "
   ]
  }
 ],
 "metadata": {
  "kernelspec": {
   "display_name": "Python 3",
   "language": "python",
   "name": "python3"
  },
  "language_info": {
   "codemirror_mode": {
    "name": "ipython",
    "version": 3
   },
   "file_extension": ".py",
   "mimetype": "text/x-python",
   "name": "python",
   "nbconvert_exporter": "python",
   "pygments_lexer": "ipython3",
   "version": "3.11.3"
  },
  "orig_nbformat": 4,
  "vscode": {
   "interpreter": {
    "hash": "b0fa6594d8f4cbf19f97940f81e996739fb7646882a419484c72d19e05852a7e"
   }
  }
 },
 "nbformat": 4,
 "nbformat_minor": 2
}
