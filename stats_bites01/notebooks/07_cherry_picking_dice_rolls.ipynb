{
 "cells": [
  {
   "attachments": {},
   "cell_type": "markdown",
   "metadata": {},
   "source": [
    "# Cherry picking dice throws\n",
    "\n",
    "Implement the `roll_dice_n_times` function and make sure that you get a `correlation coefficient` that is close to zero."
   ]
  },
  {
   "cell_type": "code",
   "execution_count": null,
   "metadata": {},
   "outputs": [],
   "source": [
    "import pandas as pd\n",
    "\n",
    "def roll_dice_n_times(n):\n",
    "    # return n random numbers from 1 to 6 inclusive\n",
    "    # You code goes here\n",
    "    return \n",
    "\n",
    "total_number_of_rolls = 200\n",
    "\n",
    "dice_throws = pd.DataFrame({\n",
    "   \"scores on red\": roll_dice_n_times(total_number_of_rolls),\n",
    "   \"scores on green\": roll_dice_n_times(total_number_of_rolls)\n",
    "})\n",
    "\n",
    "# confirm that you get a correlation coefficient close to zero"
   ]
  },
  {
   "attachments": {},
   "cell_type": "markdown",
   "metadata": {},
   "source": [
    "Using the data you have, find the \"most correlated\" 10 consecutive throws. That is: compare the rolls with index 0..9, then with index 1..10. Each time you do this, keep track of the subarrays that have the most correlation. (`Correlation coefficient` furthest from zero).\n",
    "\n",
    "Experiment with `total_number_of_rolls`\n",
    "\n",
    "Is it easier to find highly correlated data when there is more data to choose from? Is it harder to find 20 highly correlated consecutive rolls? How would you collect data to support your assertion?"
   ]
  },
  {
   "cell_type": "code",
   "execution_count": null,
   "metadata": {},
   "outputs": [],
   "source": [
    "# Your code goes here"
   ]
  }
 ],
 "metadata": {
  "kernelspec": {
   "display_name": "Python 3",
   "language": "python",
   "name": "python3"
  },
  "language_info": {
   "name": "python",
   "version": "3.10.8"
  },
  "orig_nbformat": 4,
  "vscode": {
   "interpreter": {
    "hash": "b0fa6594d8f4cbf19f97940f81e996739fb7646882a419484c72d19e05852a7e"
   }
  }
 },
 "nbformat": 4,
 "nbformat_minor": 2
}
