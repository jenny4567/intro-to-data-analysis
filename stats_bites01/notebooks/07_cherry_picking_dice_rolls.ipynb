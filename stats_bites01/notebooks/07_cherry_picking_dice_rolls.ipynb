{
 "cells": [
  {
   "attachments": {},
   "cell_type": "markdown",
   "metadata": {},
   "source": [
    "# Cherry picking dice throws\n",
    "\n",
    "Implement the `roll_dice_n_times` function and make sure that you get a `correlation coefficient` that is close to zero."
   ]
  },
  {
   "cell_type": "code",
   "execution_count": 102,
   "metadata": {},
   "outputs": [
    {
     "data": {
      "text/html": [
       "<div>\n",
       "<style scoped>\n",
       "    .dataframe tbody tr th:only-of-type {\n",
       "        vertical-align: middle;\n",
       "    }\n",
       "\n",
       "    .dataframe tbody tr th {\n",
       "        vertical-align: top;\n",
       "    }\n",
       "\n",
       "    .dataframe thead th {\n",
       "        text-align: right;\n",
       "    }\n",
       "</style>\n",
       "<table border=\"1\" class=\"dataframe\">\n",
       "  <thead>\n",
       "    <tr style=\"text-align: right;\">\n",
       "      <th></th>\n",
       "      <th>scores on red</th>\n",
       "      <th>scores on green</th>\n",
       "    </tr>\n",
       "  </thead>\n",
       "  <tbody>\n",
       "    <tr>\n",
       "      <th>scores on red</th>\n",
       "      <td>1.000000</td>\n",
       "      <td>0.070355</td>\n",
       "    </tr>\n",
       "    <tr>\n",
       "      <th>scores on green</th>\n",
       "      <td>0.070355</td>\n",
       "      <td>1.000000</td>\n",
       "    </tr>\n",
       "  </tbody>\n",
       "</table>\n",
       "</div>"
      ],
      "text/plain": [
       "                 scores on red  scores on green\n",
       "scores on red         1.000000         0.070355\n",
       "scores on green       0.070355         1.000000"
      ]
     },
     "execution_count": 102,
     "metadata": {},
     "output_type": "execute_result"
    }
   ],
   "source": [
    "import pandas as pd\n",
    "from random import randint\n",
    "\n",
    "def roll_dice_n_times(n):\n",
    "    data = [randint(1,7) for x in range(0,n)]\n",
    "    return data\n",
    "\n",
    "total_number_of_rolls = 200\n",
    "\n",
    "dice_throws = pd.DataFrame({\n",
    "   \"scores on red\": roll_dice_n_times(total_number_of_rolls),\n",
    "   \"scores on green\": roll_dice_n_times(total_number_of_rolls)\n",
    "})\n",
    "\n",
    "# confirm that you get a correlation coefficient close to zero\n",
    "dice_throws.corr()"
   ]
  },
  {
   "attachments": {},
   "cell_type": "markdown",
   "metadata": {},
   "source": [
    "Using the data you have, find the \"most correlated\" 10 consecutive throws. That is: compare the rolls with index 0..9, then with index 1..10. Each time you do this, keep track of the subarrays that have the most correlation. (`Correlation coefficient` furthest from zero).\n",
    "\n",
    "Experiment with `total_number_of_rolls`\n",
    "\n",
    "Is it easier to find highly correlated data when there is more data to choose from? Is it harder to find 20 highly correlated consecutive rolls? How would you collect data to support your assertion?"
   ]
  },
  {
   "cell_type": "code",
   "execution_count": 103,
   "metadata": {},
   "outputs": [
    {
     "name": "stdout",
     "output_type": "stream",
     "text": [
      "The most corralated 10 consecutive rolls had a corelation coefficient of:  0.8750546926274871\n"
     ]
    },
    {
     "data": {
      "text/plain": [
       "<matplotlib.collections.PathCollection at 0x14d82a250>"
      ]
     },
     "execution_count": 103,
     "metadata": {},
     "output_type": "execute_result"
    },
    {
     "data": {
      "image/png": "[encoded data removed]",
      "text/plain": [
       "<Figure size 640x480 with 1 Axes>"
      ]
     },
     "metadata": {},
     "output_type": "display_data"
    }
   ],
   "source": [
    "import matplotlib.pyplot as plt\n",
    "\n",
    "highest_corr_value = 0\n",
    "i_value = None\n",
    "\n",
    "for i in range(0,total_number_of_rolls-1):\n",
    "    if i > total_number_of_rolls - 11:\n",
    "        pass\n",
    "    else:\n",
    "        corr_value = abs(dice_throws[i:i+10]['scores on red'].corr(dice_throws[i:i+10]['scores on green']))\n",
    "        if  corr_value > highest_corr_value:\n",
    "            highest_corr_value = corr_value\n",
    "            i_value = i\n",
    "\n",
    "print('The most corralated 10 consecutive rolls had a corelation coefficient of: ', highest_corr_value)\n",
    "plt.scatter(dice_throws[i_value:i_value+10]['scores on red'], dice_throws[i_value:i_value+10]['scores on green'])"
   ]
  },
  {
   "attachments": {},
   "cell_type": "markdown",
   "metadata": {},
   "source": [
    "The larger the sample of rolls the easier it is to find consecutive rolls with high correlation coefficients. To collect this data I would record this highest correlation coefficient data and find a mean for different numbers of rolls. I would plot this."
   ]
  }
 ],
 "metadata": {
  "kernelspec": {
   "display_name": "Python 3",
   "language": "python",
   "name": "python3"
  },
  "language_info": {
   "codemirror_mode": {
    "name": "ipython",
    "version": 3
   },
   "file_extension": ".py",
   "mimetype": "text/x-python",
   "name": "python",
   "nbconvert_exporter": "python",
   "pygments_lexer": "ipython3",
   "version": "3.11.3"
  },
  "orig_nbformat": 4,
  "vscode": {
   "interpreter": {
    "hash": "b0fa6594d8f4cbf19f97940f81e996739fb7646882a419484c72d19e05852a7e"
   }
  }
 },
 "nbformat": 4,
 "nbformat_minor": 2
}
