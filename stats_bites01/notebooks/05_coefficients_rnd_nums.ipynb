{
 "cells": [
  {
   "attachments": {},
   "cell_type": "markdown",
   "metadata": {},
   "source": [
    "# Aiming for a correlation coefficient of zero\n",
    "\n",
    "## Using random numbers"
   ]
  },
  {
   "cell_type": "code",
   "execution_count": null,
   "metadata": {},
   "outputs": [],
   "source": [
    "from random import uniform\n",
    "import pandas as pd\n",
    "\n",
    "def random_nums(n):\n",
    "    out = []\n",
    "    while n > 0:\n",
    "        n -= 1\n",
    "        out.append(uniform(10, 20))\n",
    "    return out\n",
    "\n",
    "list_a = pd.Series(random_nums(200))\n",
    "list_b = pd.Series(random_nums(200))\n",
    "\n",
    "data = pd.DataFrame({\n",
    "    \"random_nums_a\": list_a,\n",
    "    \"random_nums_b\": list_b,\n",
    "})\n",
    "\n",
    "data.plot.scatter(x = \"random_nums_a\", y = \"random_nums_b\", title=\"random numbers vs random numbers\")\n",
    "\n",
    "print(\"The random numbers have correlation coefficient: \", list_a.corr(list_b))\n"
   ]
  }
 ],
 "metadata": {
  "kernelspec": {
   "display_name": "Python 3",
   "language": "python",
   "name": "python3"
  },
  "language_info": {
   "codemirror_mode": {
    "name": "ipython",
    "version": 3
   },
   "file_extension": ".py",
   "mimetype": "text/x-python",
   "name": "python",
   "nbconvert_exporter": "python",
   "pygments_lexer": "ipython3",
   "version": "3.11.0"
  },
  "orig_nbformat": 4,
  "vscode": {
   "interpreter": {
    "hash": "c7993c1fa839396250662bb6ffdfeee7de582455e59b2fdcddcec82783fd45a5"
   }
  }
 },
 "nbformat": 4,
 "nbformat_minor": 2
}
