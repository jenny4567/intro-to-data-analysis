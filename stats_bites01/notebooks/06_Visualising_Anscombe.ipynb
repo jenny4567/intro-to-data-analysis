{
 "cells": [
  {
   "cell_type": "code",
   "execution_count": 1,
   "metadata": {},
   "outputs": [
    {
     "data": {
      "application/vnd.jupyter.widget-view+json": {
       "model_id": "a848da47db4d4de885c300c44da1e4f1",
       "version_major": 2,
       "version_minor": 0
      },
      "text/plain": [
       "interactive(children=(Dropdown(description='Set number', options=('Anscombe set 1', 'Anscombe set 2', 'Anscomb…"
      ]
     },
     "metadata": {},
     "output_type": "display_data"
    },
    {
     "ename": "TypeError",
     "evalue": "show_an_anscombe() missing 1 required positional argument: 'set_num'",
     "output_type": "error",
     "traceback": [
      "\u001b[0;31m---------------------------------------------------------------------------\u001b[0m",
      "\u001b[0;31mTypeError\u001b[0m                                 Traceback (most recent call last)",
      "Cell \u001b[0;32mIn[1], line 35\u001b[0m\n\u001b[1;32m     32\u001b[0m     plt\u001b[39m.\u001b[39mtitle(\u001b[39m\"\u001b[39m\u001b[39mAnscombe x\u001b[39m\u001b[39m{}\u001b[39;00m\u001b[39m vs y\u001b[39m\u001b[39m{}\u001b[39;00m\u001b[39m\"\u001b[39m\u001b[39m.\u001b[39mformat(num, num))\n\u001b[1;32m     33\u001b[0m     plt\u001b[39m.\u001b[39mplot(x, a\u001b[39m*\u001b[39mx \u001b[39m+\u001b[39m b)\n\u001b[0;32m---> 35\u001b[0m show_an_anscombe()\n",
      "\u001b[0;31mTypeError\u001b[0m: show_an_anscombe() missing 1 required positional argument: 'set_num'"
     ]
    }
   ],
   "source": [
    "import pandas as pd\n",
    "import numpy as np\n",
    "import matplotlib.pyplot as plt\n",
    "from ipywidgets import interact, Dropdown\n",
    "\n",
    "anscombe = pd.read_csv(\"../../data/smaller-datasets/Anscombe_quartet_data.csv\")\n",
    "\n",
    "\n",
    "@interact(\n",
    "    set_num=Dropdown(\n",
    "        options=[\"Anscombe set 1\", \"Anscombe set 2\",\n",
    "                 \"Anscombe set 3\", \"Anscombe set 4\"],\n",
    "        value=\"Anscombe set 1\",\n",
    "        description=\"Set number\",\n",
    "        continuous_update=False\n",
    "    )\n",
    ")\n",
    "def show_an_anscombe(set_num):\n",
    "    # print(set_num, set_num[-1])\n",
    "    num = set_num[-1]\n",
    "    x = pd.Series(anscombe[\"x\"+num])\n",
    "    y = pd.Series(anscombe[\"y\"+num])\n",
    "\n",
    "    a, b = np.polyfit(x, y, 1)\n",
    "\n",
    "    print(\"Mean of x\"+num, x.mean())\n",
    "    print(\"Mean of y\"+num, y.mean())\n",
    "    print(\"Correlation coefficient of x{} and y{}\".format(num, num), x.corr(y))\n",
    "    print(\"line of best fit given by y = {}x + {}\".format( a, b))\n",
    "    # fig, ax = plt.subplots()\n",
    "    plt.scatter(x, y)\n",
    "    plt.title(\"Anscombe x{} vs y{}\".format(num, num))\n",
    "    plt.plot(x, a*x + b)\n",
    "\n",
    "show_an_anscombe()\n"
   ]
  }
 ],
 "metadata": {
  "kernelspec": {
   "display_name": "Python 3",
   "language": "python",
   "name": "python3"
  },
  "language_info": {
   "codemirror_mode": {
    "name": "ipython",
    "version": 3
   },
   "file_extension": ".py",
   "mimetype": "text/x-python",
   "name": "python",
   "nbconvert_exporter": "python",
   "pygments_lexer": "ipython3",
   "version": "3.10.8"
  },
  "orig_nbformat": 4
 },
 "nbformat": 4,
 "nbformat_minor": 2
}
