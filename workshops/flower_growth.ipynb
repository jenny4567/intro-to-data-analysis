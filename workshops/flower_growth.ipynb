{
 "cells": [
  {
   "attachments": {},
   "cell_type": "markdown",
   "metadata": {},
   "source": [
    "# Flower Growth Introductory Workshop\n",
    "\n",
    "## Introduction\n",
    "\n",
    "Predictive Statistics can be a challenging topic initially. Partly due to the conceptual nature that is inherent in taking lots of data and maniplulating it to predict outcomes, and partly due to the many factors, models, and terminology that is required to understand how to wield Predictive Statistical Analaysis to answer questions put to us.\n",
    "\n",
    "However, at it's very core, we can break down the objective of Predictive Statistical Analaysis into and exploration of relationships between Data, and the inferences we can make from the knowledge of that relationship.\n",
    "\n",
    "## Sunflower Power\n",
    "\n",
    "Let's start with a really simple idea, and apply some of the Predictive Statistical Analaysis concepts.\n",
    "\n",
    "Let us imagine we have planted a Sunflower in a garden. With all this water and sunshine, it's growing so fast I can't quite believe it.\n",
    "\n",
    "I want to chart it's growth.\n",
    "\n"
   ]
  },
  {
   "cell_type": "code",
   "execution_count": 30,
   "metadata": {},
   "outputs": [],
   "source": [
    "import pandas as pd\n",
    "import matplotlib.pyplot as plt\n",
    "import numpy as np"
   ]
  },
  {
   "attachments": {},
   "cell_type": "markdown",
   "metadata": {},
   "source": [
    "The metric by which I would like to chart the sunflower's growth is by day, so our `x` axis can be days."
   ]
  },
  {
   "cell_type": "code",
   "execution_count": 31,
   "metadata": {},
   "outputs": [
    {
     "name": "stdout",
     "output_type": "stream",
     "text": [
      "[0 1 2 3 4 5 6 7]\n"
     ]
    },
    {
     "ename": "TypeError",
     "evalue": "scatter() missing 1 required positional argument: 'y'",
     "output_type": "error",
     "traceback": [
      "\u001b[0;31m---------------------------------------------------------------------------\u001b[0m",
      "\u001b[0;31mTypeError\u001b[0m                                 Traceback (most recent call last)",
      "Cell \u001b[0;32mIn[31], line 6\u001b[0m\n\u001b[1;32m      4\u001b[0m plt\u001b[39m.\u001b[39mxticks(ticks\u001b[39m=\u001b[39mx)\n\u001b[1;32m      5\u001b[0m plt\u001b[39m.\u001b[39myticks([])\n\u001b[0;32m----> 6\u001b[0m plt\u001b[39m.\u001b[39;49mscatter(x)\n\u001b[1;32m      8\u001b[0m \u001b[39m# We will get an error here due to a missing y value, but we'll do that next\u001b[39;00m\n",
      "\u001b[0;31mTypeError\u001b[0m: scatter() missing 1 required positional argument: 'y'"
     ]
    },
    {
     "data": {
      "image/png": "[encoded data removed]",
      "text/plain": [
       "<Figure size 640x480 with 1 Axes>"
      ]
     },
     "metadata": {},
     "output_type": "display_data"
    }
   ],
   "source": [
    "x = np.arange(0,8)\n",
    "print(x)\n",
    "plt.xlabel(\"days\")\n",
    "plt.xticks(ticks=x)\n",
    "plt.yticks([])\n",
    "plt.scatter(x)\n",
    "\n",
    "# We will get an error here due to a missing y value, but we'll do that next"
   ]
  },
  {
   "attachments": {},
   "cell_type": "markdown",
   "metadata": {},
   "source": [
    "The flower was 5cm tall when I planted it, so that is our starting `y` value, and we can infer that our `y` axis is height in cm."
   ]
  },
  {
   "cell_type": "code",
   "execution_count": null,
   "metadata": {},
   "outputs": [],
   "source": [
    "y = [\n",
    "    5, #....... more values\n",
    "]"
   ]
  },
  {
   "attachments": {},
   "cell_type": "markdown",
   "metadata": {},
   "source": [
    "#### After 3 days I noticed the Sunflower had grown massively, and I recorded its height\n",
    "\n",
    "It was now 8cm tall."
   ]
  },
  {
   "cell_type": "code",
   "execution_count": 32,
   "metadata": {},
   "outputs": [],
   "source": [
    "y = [\n",
    "    5, None, None, 8, None, None, None, None\n",
    "]"
   ]
  },
  {
   "cell_type": "code",
   "execution_count": null,
   "metadata": {},
   "outputs": [
    {
     "name": "stdout",
     "output_type": "stream",
     "text": [
      "8\n",
      "8\n"
     ]
    }
   ],
   "source": [
    "print(len(y))\n",
    "print(len(x))"
   ]
  },
  {
   "cell_type": "code",
   "execution_count": null,
   "metadata": {},
   "outputs": [
    {
     "name": "stdout",
     "output_type": "stream",
     "text": [
      "[0 1 2 3 4 5 6 7]\n"
     ]
    },
    {
     "data": {
      "image/png": "[encoded data removed]",
      "text/plain": [
       "<Figure size 640x480 with 1 Axes>"
      ]
     },
     "metadata": {},
     "output_type": "display_data"
    }
   ],
   "source": [
    "x = np.arange(0,8)\n",
    "print(x)\n",
    "plt.scatter(x, y)\n",
    "plt.xlabel(\"days\")\n",
    "plt.xticks(ticks=x)\n",
    "plt.ylabel(\"height in cm\")\n",
    "plt.yticks(ticks=np.arange(0,15))\n",
    "\n",
    "plt.show()"
   ]
  },
  {
   "attachments": {},
   "cell_type": "markdown",
   "metadata": {},
   "source": [
    "#### So now we have two data points. \n",
    "\n",
    "I'm a lazy gardener and I'm not going to measure the height of the flower each day, but assuming it continues on this trajectory we can use the equation for the line of best fit to predict how tall our flower will be in another 3 days"
   ]
  },
  {
   "attachments": {},
   "cell_type": "markdown",
   "metadata": {},
   "source": [
    "The equation is `y = m*x + c`\n",
    "\n",
    "As in, we want to know what `y` is - that is the thing we are trying to predict.\n",
    "\n",
    "So, `y` is equal to `m` times whatever `x` is at the time - so how many days it has been growing.\n",
    "\n",
    "But what is `m`? `m` is the slope, or put another way it is the value by which `y` goes up, every time `x` goes up.\n",
    "\n",
    "So if our flower started at 5cm, and after 3 days was 8cm, that meant it had grown 3cm in 3 days.\n",
    "\n",
    "So for every day our flower grew 1cm, therefore `m` is 1.\n",
    "\n",
    "Great!\n",
    "\n",
    "Now we have more of the equation.\n",
    "\n",
    "`y` the height we want to know, is equal to `m` which is 1, times how many days `x` plus `c`.\n",
    "\n",
    "But what is `c`? In this example, our flower was already 5cm when we planted it, so `c` is 5 as this is the value we need to add in order for our line to go through its beginning position."
   ]
  },
  {
   "attachments": {},
   "cell_type": "markdown",
   "metadata": {},
   "source": [
    "### Lets use this equation to make a prediction\n",
    "\n",
    "Therefore, I predict that if after 3 days our sunflower was 8cm, after 6 days (another 3 days) it will be 11cm.\n",
    "\n",
    "This is what that would look like:"
   ]
  },
  {
   "cell_type": "code",
   "execution_count": 33,
   "metadata": {},
   "outputs": [
    {
     "name": "stdout",
     "output_type": "stream",
     "text": [
      "The sunflower after 6 days will be 11cm tall.\n"
     ]
    }
   ],
   "source": [
    "x_value = 6 # days for prediction\n",
    "\n",
    "m_value = 1 # we get 1 cm growth for eery day\n",
    "\n",
    "c_value = 5 # it started at 5cm when planted\n",
    "\n",
    "y_value = m_value * x_value + c_value\n",
    "\n",
    "print(f\"The sunflower after {x_value} days will be {y_value}cm tall.\")"
   ]
  },
  {
   "attachments": {},
   "cell_type": "markdown",
   "metadata": {},
   "source": [
    "### Lets do the same thing again but give you the option to input the day\n",
    "\n"
   ]
  },
  {
   "cell_type": "code",
   "execution_count": 34,
   "metadata": {},
   "outputs": [
    {
     "name": "stdout",
     "output_type": "stream",
     "text": [
      "The sunflower after 12 days will be 17cm tall.\n"
     ]
    }
   ],
   "source": [
    "x_value = input(\"How many days has the flower been growing?\")\n",
    "\n",
    "m_value = 1 # we get 1 cm growth for eery day\n",
    "\n",
    "c_value = 5 # it started at 5cm when planted\n",
    "\n",
    "y_value = m_value * int(x_value) + c_value  # cast the x_value as an integer due to #input() str default cast\n",
    "\n",
    "print(f\"The sunflower after {x_value} days will be {y_value}cm tall.\")"
   ]
  },
  {
   "attachments": {},
   "cell_type": "markdown",
   "metadata": {},
   "source": [
    "### Lets use matplotlib and numpy to see if we are correct"
   ]
  },
  {
   "cell_type": "code",
   "execution_count": 60,
   "metadata": {},
   "outputs": [
    {
     "data": {
      "image/png": "[encoded data removed]",
      "text/plain": [
       "<Figure size 640x480 with 1 Axes>"
      ]
     },
     "metadata": {},
     "output_type": "display_data"
    }
   ],
   "source": [
    "x = np.arange(0,8) # More days\n",
    "\n",
    "y = np.array([ 5, None, None, 8, None, None, None, None]).astype(np.double)\n",
    "# Make a double of the measurements to pass into the isfinite() method\n",
    "\n",
    "idx = np.isfinite(x) & np.isfinite(y)\n",
    "# use this to pass the polyfit() funciton only \"good\" values\n",
    "\n",
    "m, c = np.polyfit(x[idx], y[idx], 1)\n",
    "# polyfit function doesn't like None or Nan values so we have to hide them and only pass real values\n",
    "\n",
    "plt.scatter(x, y)\n",
    "plt.plot(x, m*x+c)\n",
    "\n",
    "plt.xlabel(\"days\")\n",
    "plt.xticks(ticks=x)\n",
    "plt.ylabel(\"height in cm\")\n",
    "plt.yticks(ticks=np.arange(0,15))\n",
    "\n",
    "plt.show()"
   ]
  },
  {
   "attachments": {},
   "cell_type": "markdown",
   "metadata": {},
   "source": []
  }
 ],
 "metadata": {
  "kernelspec": {
   "display_name": "setup-instruction-venv",
   "language": "python",
   "name": "python3"
  },
  "language_info": {
   "codemirror_mode": {
    "name": "ipython",
    "version": 3
   },
   "file_extension": ".py",
   "mimetype": "text/x-python",
   "name": "python",
   "nbconvert_exporter": "python",
   "pygments_lexer": "ipython3",
   "version": "3.11.2"
  },
  "orig_nbformat": 4
 },
 "nbformat": 4,
 "nbformat_minor": 2
}
