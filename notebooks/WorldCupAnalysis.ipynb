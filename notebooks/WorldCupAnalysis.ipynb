{
 "cells": [
  {
   "attachments": {},
   "cell_type": "markdown",
   "metadata": {},
   "source": [
    "# WORLD CUP CSV FILE ANALYSIS"
   ]
  },
  {
   "attachments": {},
   "cell_type": "markdown",
   "metadata": {},
   "source": [
    "## The Question\n",
    "Based on previous winners, can you predict which nation is most likely to take home the FIFA World Cup in 2018?\n",
    "\n",
    "N.B. We of course know which nation really won the World Cup in 2018. Did the prediction match reality?\n",
    "As a follow up task, how does this info (World Cup results) affect the prediction for subsequent competitions?\n",
    "Who is most likely to win in 2026?"
   ]
  },
  {
   "attachments": {},
   "cell_type": "markdown",
   "metadata": {},
   "source": [
    " Analysis\n",
    "\n",
    "Tally of wins:\n",
    "Uru - 2\n",
    "Ita - 4\n",
    "Ger - 4\n",
    "Bra - 5\n",
    "Eng - 1\n",
    "Arg - 2\n",
    "Fra - 1\n",
    "Spa - 1\n",
    "\n",
    "The country who has won the most world cups so far is Brazil with Italy and Germany the second most winning countries. However, this alone does not take recent form or lower ranking performances into account. It also doesn't take into account that some teams only entered the world cup later, with the current number 32 not reached until 2002. \n",
    "\n",
    "Semi-Final appearances in last 4 World Cups:\n",
    "Brazil - 2\n",
    "Germany - 4\n",
    "Argentina - 1\n",
    "Neherlands - 2\n",
    "Spain - 1\n",
    "Uraguay - 1\n",
    "Italy - 1\n",
    "France - 1\n",
    "Portugal - 1\n",
    "Turkey - 1\n",
    "Korea - 1\n",
    "\n",
    "Taking a different approach with the country with most semi-final appearences in the last 4 world cups indicates that Germany has had the most consistant top form (4/4 semi-final appearances) in the recent past so is most likely to perform well again.\n"
   ]
  },
  {
   "attachments": {},
   "cell_type": "markdown",
   "metadata": {},
   "source": [
    "## Conclusion\n",
    "For this section, write a sentence or two in markdown inside your Jupyter Notebook. You can do this by pressing the plus symbol below the code cell and choosing markdown.\n",
    "\n",
    "Set a timer for 5 minutes.\n",
    "\n",
    "How did you arrive at your conclusion?\n",
    "What pieces of data informed your decision?\n",
    "Could the data be interpreted in another way to answer the question differently?\n",
    "These are all things we are going to cover in due course - the first step is always, asking the question. This will, undoubtedly, lead to further questions - and it is these questions where we begin to target and interrogate the data for answers."
   ]
  }
 ],
 "metadata": {
  "kernelspec": {
   "display_name": "Python 3",
   "language": "python",
   "name": "python3"
  },
  "language_info": {
   "codemirror_mode": {
    "name": "ipython",
    "version": 3
   },
   "file_extension": ".py",
   "mimetype": "text/x-python",
   "name": "python",
   "nbconvert_exporter": "python",
   "pygments_lexer": "ipython3",
   "version": "3.11.3"
  },
  "orig_nbformat": 4,
  "vscode": {
   "interpreter": {
    "hash": "b0fa6594d8f4cbf19f97940f81e996739fb7646882a419484c72d19e05852a7e"
   }
  }
 },
 "nbformat": 4,
 "nbformat_minor": 2
}
