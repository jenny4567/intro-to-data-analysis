{
 "cells": [
  {
   "attachments": {},
   "cell_type": "markdown",
   "metadata": {},
   "source": [
    "# Planets Exercise\n",
    "\n",
    "Import dataset into a DataFrame:"
   ]
  },
  {
   "cell_type": "code",
   "execution_count": 1,
   "metadata": {},
   "outputs": [
    {
     "data": {
      "text/html": [
       "<div>\n",
       "<style scoped>\n",
       "    .dataframe tbody tr th:only-of-type {\n",
       "        vertical-align: middle;\n",
       "    }\n",
       "\n",
       "    .dataframe tbody tr th {\n",
       "        vertical-align: top;\n",
       "    }\n",
       "\n",
       "    .dataframe thead th {\n",
       "        text-align: right;\n",
       "    }\n",
       "</style>\n",
       "<table border=\"1\" class=\"dataframe\">\n",
       "  <thead>\n",
       "    <tr style=\"text-align: right;\">\n",
       "      <th></th>\n",
       "      <th>Planet</th>\n",
       "      <th>Color</th>\n",
       "      <th>Mass (10^24kg)</th>\n",
       "      <th>Diameter (km)</th>\n",
       "      <th>Density (kg/m^3)</th>\n",
       "      <th>Surface Gravity(m/s^2)</th>\n",
       "      <th>Escape Velocity (km/s)</th>\n",
       "      <th>Rotation Period (hours)</th>\n",
       "      <th>Length of Day (hours)</th>\n",
       "      <th>Distance from Sun (10^6 km)</th>\n",
       "      <th>...</th>\n",
       "      <th>Orbital Period (days)</th>\n",
       "      <th>Orbital Velocity (km/s)</th>\n",
       "      <th>Orbital Inclination (degrees)</th>\n",
       "      <th>Orbital Eccentricity</th>\n",
       "      <th>Obliquity to Orbit (degrees)</th>\n",
       "      <th>Mean Temperature (C)</th>\n",
       "      <th>Surface Pressure (bars)</th>\n",
       "      <th>Number of Moons</th>\n",
       "      <th>Ring System?</th>\n",
       "      <th>Global Magnetic Field?</th>\n",
       "    </tr>\n",
       "  </thead>\n",
       "  <tbody>\n",
       "    <tr>\n",
       "      <th>0</th>\n",
       "      <td>Mercury</td>\n",
       "      <td>Grey</td>\n",
       "      <td>0.330</td>\n",
       "      <td>4879</td>\n",
       "      <td>5429</td>\n",
       "      <td>3.7</td>\n",
       "      <td>4.3</td>\n",
       "      <td>1407.6</td>\n",
       "      <td>4222.6</td>\n",
       "      <td>57.9</td>\n",
       "      <td>...</td>\n",
       "      <td>88.0</td>\n",
       "      <td>47.4</td>\n",
       "      <td>7.0</td>\n",
       "      <td>0.206</td>\n",
       "      <td>0.034</td>\n",
       "      <td>167</td>\n",
       "      <td>0</td>\n",
       "      <td>0</td>\n",
       "      <td>No</td>\n",
       "      <td>Yes</td>\n",
       "    </tr>\n",
       "    <tr>\n",
       "      <th>1</th>\n",
       "      <td>Venus</td>\n",
       "      <td>Brown and Grey</td>\n",
       "      <td>4.870</td>\n",
       "      <td>12104</td>\n",
       "      <td>5243</td>\n",
       "      <td>8.9</td>\n",
       "      <td>10.4</td>\n",
       "      <td>-5832.5</td>\n",
       "      <td>2802.0</td>\n",
       "      <td>108.2</td>\n",
       "      <td>...</td>\n",
       "      <td>224.7</td>\n",
       "      <td>35.0</td>\n",
       "      <td>3.4</td>\n",
       "      <td>0.007</td>\n",
       "      <td>177.400</td>\n",
       "      <td>464</td>\n",
       "      <td>92</td>\n",
       "      <td>0</td>\n",
       "      <td>No</td>\n",
       "      <td>No</td>\n",
       "    </tr>\n",
       "    <tr>\n",
       "      <th>2</th>\n",
       "      <td>Earth</td>\n",
       "      <td>Blue, Brown Green and White</td>\n",
       "      <td>5.970</td>\n",
       "      <td>12756</td>\n",
       "      <td>5514</td>\n",
       "      <td>9.8</td>\n",
       "      <td>11.2</td>\n",
       "      <td>23.9</td>\n",
       "      <td>24.0</td>\n",
       "      <td>149.6</td>\n",
       "      <td>...</td>\n",
       "      <td>365.2</td>\n",
       "      <td>29.8</td>\n",
       "      <td>0.0</td>\n",
       "      <td>0.017</td>\n",
       "      <td>23.400</td>\n",
       "      <td>15</td>\n",
       "      <td>1</td>\n",
       "      <td>1</td>\n",
       "      <td>No</td>\n",
       "      <td>Yes</td>\n",
       "    </tr>\n",
       "    <tr>\n",
       "      <th>3</th>\n",
       "      <td>Mars</td>\n",
       "      <td>Red, Brown and Tan</td>\n",
       "      <td>0.642</td>\n",
       "      <td>6792</td>\n",
       "      <td>3934</td>\n",
       "      <td>3.7</td>\n",
       "      <td>5.0</td>\n",
       "      <td>24.6</td>\n",
       "      <td>24.7</td>\n",
       "      <td>228.0</td>\n",
       "      <td>...</td>\n",
       "      <td>687.0</td>\n",
       "      <td>24.1</td>\n",
       "      <td>1.8</td>\n",
       "      <td>0.094</td>\n",
       "      <td>25.200</td>\n",
       "      <td>-65</td>\n",
       "      <td>0.01</td>\n",
       "      <td>2</td>\n",
       "      <td>No</td>\n",
       "      <td>No</td>\n",
       "    </tr>\n",
       "    <tr>\n",
       "      <th>4</th>\n",
       "      <td>Jupiter</td>\n",
       "      <td>Brown, Orange and Tan, with White cloud stripes</td>\n",
       "      <td>1898.000</td>\n",
       "      <td>142984</td>\n",
       "      <td>1326</td>\n",
       "      <td>23.1</td>\n",
       "      <td>59.5</td>\n",
       "      <td>9.9</td>\n",
       "      <td>9.9</td>\n",
       "      <td>778.5</td>\n",
       "      <td>...</td>\n",
       "      <td>4331.0</td>\n",
       "      <td>13.1</td>\n",
       "      <td>1.3</td>\n",
       "      <td>0.049</td>\n",
       "      <td>3.100</td>\n",
       "      <td>-110</td>\n",
       "      <td>Unknown</td>\n",
       "      <td>79</td>\n",
       "      <td>Yes</td>\n",
       "      <td>Yes</td>\n",
       "    </tr>\n",
       "    <tr>\n",
       "      <th>5</th>\n",
       "      <td>Saturn</td>\n",
       "      <td>Golden, Brown, and Blue-Grey</td>\n",
       "      <td>568.000</td>\n",
       "      <td>120536</td>\n",
       "      <td>687</td>\n",
       "      <td>9.0</td>\n",
       "      <td>35.5</td>\n",
       "      <td>10.7</td>\n",
       "      <td>10.7</td>\n",
       "      <td>1432.0</td>\n",
       "      <td>...</td>\n",
       "      <td>10747.0</td>\n",
       "      <td>9.7</td>\n",
       "      <td>2.5</td>\n",
       "      <td>0.052</td>\n",
       "      <td>26.700</td>\n",
       "      <td>-140</td>\n",
       "      <td>Unknown</td>\n",
       "      <td>82</td>\n",
       "      <td>Yes</td>\n",
       "      <td>Yes</td>\n",
       "    </tr>\n",
       "    <tr>\n",
       "      <th>6</th>\n",
       "      <td>Uranus</td>\n",
       "      <td>Blue-Green</td>\n",
       "      <td>86.800</td>\n",
       "      <td>51118</td>\n",
       "      <td>1270</td>\n",
       "      <td>8.7</td>\n",
       "      <td>21.3</td>\n",
       "      <td>-17.2</td>\n",
       "      <td>17.2</td>\n",
       "      <td>2867.0</td>\n",
       "      <td>...</td>\n",
       "      <td>30589.0</td>\n",
       "      <td>6.8</td>\n",
       "      <td>0.8</td>\n",
       "      <td>0.047</td>\n",
       "      <td>97.800</td>\n",
       "      <td>-195</td>\n",
       "      <td>Unknown</td>\n",
       "      <td>27</td>\n",
       "      <td>Yes</td>\n",
       "      <td>Yes</td>\n",
       "    </tr>\n",
       "    <tr>\n",
       "      <th>7</th>\n",
       "      <td>Neptune</td>\n",
       "      <td>Blue</td>\n",
       "      <td>102.000</td>\n",
       "      <td>49528</td>\n",
       "      <td>1638</td>\n",
       "      <td>11.0</td>\n",
       "      <td>23.5</td>\n",
       "      <td>16.1</td>\n",
       "      <td>16.1</td>\n",
       "      <td>4515.0</td>\n",
       "      <td>...</td>\n",
       "      <td>59800.0</td>\n",
       "      <td>5.4</td>\n",
       "      <td>1.8</td>\n",
       "      <td>0.010</td>\n",
       "      <td>28.300</td>\n",
       "      <td>-200</td>\n",
       "      <td>Unknown</td>\n",
       "      <td>14</td>\n",
       "      <td>Yes</td>\n",
       "      <td>Yes</td>\n",
       "    </tr>\n",
       "  </tbody>\n",
       "</table>\n",
       "<p>8 rows × 22 columns</p>\n",
       "</div>"
      ],
      "text/plain": [
       "    Planet                                            Color  Mass (10^24kg)  \\\n",
       "0  Mercury                                             Grey           0.330   \n",
       "1    Venus                                   Brown and Grey           4.870   \n",
       "2    Earth                      Blue, Brown Green and White           5.970   \n",
       "3     Mars                               Red, Brown and Tan           0.642   \n",
       "4  Jupiter  Brown, Orange and Tan, with White cloud stripes        1898.000   \n",
       "5   Saturn                     Golden, Brown, and Blue-Grey         568.000   \n",
       "6   Uranus                                       Blue-Green          86.800   \n",
       "7  Neptune                                             Blue         102.000   \n",
       "\n",
       "   Diameter (km)  Density (kg/m^3)  Surface Gravity(m/s^2)  \\\n",
       "0           4879              5429                     3.7   \n",
       "1          12104              5243                     8.9   \n",
       "2          12756              5514                     9.8   \n",
       "3           6792              3934                     3.7   \n",
       "4         142984              1326                    23.1   \n",
       "5         120536               687                     9.0   \n",
       "6          51118              1270                     8.7   \n",
       "7          49528              1638                    11.0   \n",
       "\n",
       "   Escape Velocity (km/s)  Rotation Period (hours)  Length of Day (hours)  \\\n",
       "0                     4.3                   1407.6                 4222.6   \n",
       "1                    10.4                  -5832.5                 2802.0   \n",
       "2                    11.2                     23.9                   24.0   \n",
       "3                     5.0                     24.6                   24.7   \n",
       "4                    59.5                      9.9                    9.9   \n",
       "5                    35.5                     10.7                   10.7   \n",
       "6                    21.3                    -17.2                   17.2   \n",
       "7                    23.5                     16.1                   16.1   \n",
       "\n",
       "   Distance from Sun (10^6 km)  ...  Orbital Period (days)  \\\n",
       "0                         57.9  ...                   88.0   \n",
       "1                        108.2  ...                  224.7   \n",
       "2                        149.6  ...                  365.2   \n",
       "3                        228.0  ...                  687.0   \n",
       "4                        778.5  ...                 4331.0   \n",
       "5                       1432.0  ...                10747.0   \n",
       "6                       2867.0  ...                30589.0   \n",
       "7                       4515.0  ...                59800.0   \n",
       "\n",
       "   Orbital Velocity (km/s)  Orbital Inclination (degrees)  \\\n",
       "0                     47.4                            7.0   \n",
       "1                     35.0                            3.4   \n",
       "2                     29.8                            0.0   \n",
       "3                     24.1                            1.8   \n",
       "4                     13.1                            1.3   \n",
       "5                      9.7                            2.5   \n",
       "6                      6.8                            0.8   \n",
       "7                      5.4                            1.8   \n",
       "\n",
       "   Orbital Eccentricity  Obliquity to Orbit (degrees)  Mean Temperature (C)  \\\n",
       "0                 0.206                         0.034                   167   \n",
       "1                 0.007                       177.400                   464   \n",
       "2                 0.017                        23.400                    15   \n",
       "3                 0.094                        25.200                   -65   \n",
       "4                 0.049                         3.100                  -110   \n",
       "5                 0.052                        26.700                  -140   \n",
       "6                 0.047                        97.800                  -195   \n",
       "7                 0.010                        28.300                  -200   \n",
       "\n",
       "   Surface Pressure (bars)  Number of Moons Ring System?  \\\n",
       "0                        0                0           No   \n",
       "1                       92                0           No   \n",
       "2                        1                1           No   \n",
       "3                     0.01                2           No   \n",
       "4                  Unknown               79          Yes   \n",
       "5                  Unknown               82          Yes   \n",
       "6                  Unknown               27          Yes   \n",
       "7                  Unknown               14          Yes   \n",
       "\n",
       "   Global Magnetic Field?  \n",
       "0                     Yes  \n",
       "1                      No  \n",
       "2                     Yes  \n",
       "3                      No  \n",
       "4                     Yes  \n",
       "5                     Yes  \n",
       "6                     Yes  \n",
       "7                     Yes  \n",
       "\n",
       "[8 rows x 22 columns]"
      ]
     },
     "execution_count": 1,
     "metadata": {},
     "output_type": "execute_result"
    }
   ],
   "source": [
    "import pandas as pd\n",
    "\n",
    "planets_df = pd.read_csv('../data/smaller-datasets/planets.csv')\n",
    "planets_df"
   ]
  },
  {
   "attachments": {},
   "cell_type": "markdown",
   "metadata": {},
   "source": [
    "List all the planets which have a greater mass than Earth."
   ]
  },
  {
   "cell_type": "code",
   "execution_count": 2,
   "metadata": {},
   "outputs": [
    {
     "data": {
      "text/plain": [
       "4    Jupiter\n",
       "5     Saturn\n",
       "6     Uranus\n",
       "7    Neptune\n",
       "Name: Planet, dtype: object"
      ]
     },
     "execution_count": 2,
     "metadata": {},
     "output_type": "execute_result"
    }
   ],
   "source": [
    "earths_mass = planets_df.loc[2,'Mass (10^24kg)']\n",
    "\n",
    "big_planets = planets_df.loc[planets_df['Mass (10^24kg)'] > earths_mass]['Planet']\n",
    "big_planets"
   ]
  },
  {
   "attachments": {},
   "cell_type": "markdown",
   "metadata": {},
   "source": [
    "List all the planets which have a Ring System around them."
   ]
  },
  {
   "cell_type": "code",
   "execution_count": 3,
   "metadata": {},
   "outputs": [
    {
     "name": "stdout",
     "output_type": "stream",
     "text": [
      "4    Jupiter\n",
      "5     Saturn\n",
      "6     Uranus\n",
      "7    Neptune\n",
      "Name: Planet, dtype: object\n"
     ]
    }
   ],
   "source": [
    "ringed_planets = planets_df.loc[planets_df['Ring System?'] == 'Yes']['Planet']\n",
    "print(ringed_planets)"
   ]
  },
  {
   "attachments": {},
   "cell_type": "markdown",
   "metadata": {},
   "source": [
    "Find the maximum surface gravity value for a planet in our solar system. Which planet is it?"
   ]
  },
  {
   "cell_type": "code",
   "execution_count": 4,
   "metadata": {},
   "outputs": [
    {
     "name": "stdout",
     "output_type": "stream",
     "text": [
      "The maximum surface gravity is 23.1 on planet 4    Jupiter\n",
      "Name: Planet, dtype: object\n"
     ]
    }
   ],
   "source": [
    "max_surf_grav = planets_df['Surface Gravity(m/s^2)'].max()\n",
    "max_surf_grav_planet = planets_df.loc[planets_df['Surface Gravity(m/s^2)'] == max_surf_grav]['Planet']\n",
    "print(f\"The maximum surface gravity is {max_surf_grav} on planet {max_surf_grav_planet}\")"
   ]
  },
  {
   "attachments": {},
   "cell_type": "markdown",
   "metadata": {},
   "source": [
    "Find the total mass of all the planets in our solar system. Is this greater than the Sun?"
   ]
  },
  {
   "cell_type": "code",
   "execution_count": 5,
   "metadata": {},
   "outputs": [
    {
     "name": "stdout",
     "output_type": "stream",
     "text": [
      "Mass (10^24kg)    2666.612\n",
      "dtype: float64\n"
     ]
    }
   ],
   "source": [
    "total_planets_mass = planets_df[['Mass (10^24kg)']].sum()\n",
    "print(total_planets_mass)"
   ]
  },
  {
   "attachments": {},
   "cell_type": "markdown",
   "metadata": {},
   "source": [
    "The sun's mass is 1.989 × 10^30 kg so much greater than the sum of the planets."
   ]
  },
  {
   "attachments": {},
   "cell_type": "markdown",
   "metadata": {},
   "source": [
    "For an extra stretch goal, revisit with matplotlib, and chart the planets distance from the Sun against their Diameter."
   ]
  },
  {
   "cell_type": "code",
   "execution_count": 7,
   "metadata": {},
   "outputs": [
    {
     "data": {
      "text/plain": [
       "<function matplotlib.pyplot.show(close=None, block=None)>"
      ]
     },
     "execution_count": 7,
     "metadata": {},
     "output_type": "execute_result"
    },
    {
     "data": {
      "image/png": "[encoded data removed]",
      "text/plain": [
       "<Figure size 640x480 with 1 Axes>"
      ]
     },
     "metadata": {},
     "output_type": "display_data"
    }
   ],
   "source": [
    "import matplotlib.pyplot as plt\n",
    "\n",
    "\n",
    "planet_dists = planets_df['Distance from Sun (10^6 km)']\n",
    "planet_diams = planets_df['Diameter (km)']\n",
    "planet_names = planets_df['Planet']\n",
    "plt.scatter(planet_dists, planet_diams)\n",
    "plt.xlabel('Distance from Sun (10^6 km)')\n",
    "plt.ylabel('Planet Diameter (km)')\n",
    "for i, txt in enumerate(planet_names):\n",
    "    plt.annotate(txt, (planet_dists[i], planet_diams[i]))\n",
    "plt.show"
   ]
  }
 ],
 "metadata": {
  "kernelspec": {
   "display_name": "intro_data_clone_venv",
   "language": "python",
   "name": "python3"
  },
  "language_info": {
   "codemirror_mode": {
    "name": "ipython",
    "version": 3
   },
   "file_extension": ".py",
   "mimetype": "text/x-python",
   "name": "python",
   "nbconvert_exporter": "python",
   "pygments_lexer": "ipython3",
   "version": "3.11.3"
  },
  "orig_nbformat": 4
 },
 "nbformat": 4,
 "nbformat_minor": 2
}
