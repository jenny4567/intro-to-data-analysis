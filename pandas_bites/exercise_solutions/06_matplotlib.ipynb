{
 "cells": [
  {
   "cell_type": "code",
   "execution_count": null,
   "metadata": {},
   "outputs": [],
   "source": [
    "import matplotlib.pyplot as plt\n",
    "# use plt as an alias \n",
    "plt.plot([1,2,3], [1,2,3])\n",
    "# simple plot of two vectors, both exactly alike\n",
    "plt.plot([1,2,3], [1,3,5])\n",
    "# line two in orange\n",
    "plt.show()\n",
    "# this will execute the plot in our notebooks"
   ]
  },
  {
   "cell_type": "code",
   "execution_count": null,
   "metadata": {},
   "outputs": [],
   "source": [
    "import matplotlib.pyplot as plt\n",
    "\n",
    "# Favourite Types of Pie!\n",
    "\n",
    "labels = ['Chocolate', 'Broccoli', 'Blueberries', 'Raspberries']\n",
    "sizes = [9, 3, 7, 6] # Assuming 27 people voted\n",
    "colors = ['brown', 'green', 'purple', 'pink']\n",
    "\n",
    "plt.pie(sizes, labels=labels, colors=colors)\n",
    "plt.title(\"Food Pie Chart\")\n",
    "plt.show()"
   ]
  },
  {
   "cell_type": "code",
   "execution_count": null,
   "metadata": {},
   "outputs": [],
   "source": [
    "import matplotlib.pyplot as plt\n",
    "\n",
    "pie_flavours = ['Chocolate', 'Broccoli', 'Blueberries', 'Raspberries']\n",
    "\n",
    "sold_per_day_avg = [[3, 6, 4, 5], [3, 4, 8, 2]]\n",
    "\n",
    "plt.bar(pie_flavours, sold_per_day_avg[0], label=\"Monday\")\n",
    "plt.bar(pie_flavours, sold_per_day_avg[1], width=0.6, label=\"Tuesday\")\n",
    "plt.title(\"Pies Sold Per Day\")\n",
    "plt.legend(loc=\"upper left\" )\n",
    "plt.show()"
   ]
  }
 ],
 "metadata": {
  "kernelspec": {
   "display_name": "Python 3",
   "language": "python",
   "name": "python3"
  },
  "language_info": {
   "codemirror_mode": {
    "name": "ipython",
    "version": 3
   },
   "file_extension": ".py",
   "mimetype": "text/x-python",
   "name": "python",
   "nbconvert_exporter": "python",
   "pygments_lexer": "ipython3",
   "version": "3.10.8"
  },
  "orig_nbformat": 4
 },
 "nbformat": 4,
 "nbformat_minor": 2
}
