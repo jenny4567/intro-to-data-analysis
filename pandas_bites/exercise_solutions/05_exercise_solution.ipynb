{
 "cells": [
  {
   "attachments": {},
   "cell_type": "markdown",
   "metadata": {},
   "source": [
    "### Let's look at the World Happiness Data once again, and if we load up the 2017 data, you might notice that there are some values missing. We can quickly check this with the #isnull() method."
   ]
  },
  {
   "cell_type": "code",
   "execution_count": 1,
   "metadata": {},
   "outputs": [],
   "source": [
    "import pandas as pd"
   ]
  },
  {
   "cell_type": "code",
   "execution_count": 2,
   "metadata": {},
   "outputs": [
    {
     "name": "stdout",
     "output_type": "stream",
     "text": [
      "        Country  Happiness.Score\n",
      "0        Norway              NaN\n",
      "7   New Zealand              NaN\n",
      "19        Chile              NaN\n",
      "30       France              NaN\n"
     ]
    }
   ],
   "source": [
    "hap15 = pd.read_csv(\"./happiness_data/2015.csv\")\n",
    "hap16 = pd.read_csv(\"./happiness_data/2016.csv\")\n",
    "hap17 = pd.read_csv(\"./happiness_data/2017_missing.csv\")\n",
    "hap18 = pd.read_csv(\"./happiness_data/2018.csv\")\n",
    "hap19 = pd.read_csv(\"./happiness_data/2019.csv\")\n",
    "\n",
    "missing_countries = hap17[['Country', 'Happiness.Score']].loc[hap17['Happiness.Score'].isnull()]\n",
    "\n",
    "print(missing_countries)"
   ]
  },
  {
   "cell_type": "code",
   "execution_count": 3,
   "metadata": {},
   "outputs": [
    {
     "name": "stdout",
     "output_type": "stream",
     "text": [
      "        Country  Happiness.Score\n",
      "0        Norway              NaN\n",
      "7   New Zealand              NaN\n",
      "19        Chile              NaN\n",
      "30       France              NaN\n"
     ]
    }
   ],
   "source": [
    "missing_countries = hap17[['Country', 'Happiness.Score']].loc[hap17['Happiness.Score'].isnull()]\n",
    "\n",
    "print(missing_countries)"
   ]
  },
  {
   "attachments": {},
   "cell_type": "markdown",
   "metadata": {},
   "source": [
    "Now complete the solution to replacing those missing pieces of data:"
   ]
  },
  {
   "cell_type": "code",
   "execution_count": 4,
   "metadata": {},
   "outputs": [
    {
     "name": "stdout",
     "output_type": "stream",
     "text": [
      "Norway\n",
      "New Zealand\n",
      "Chile\n",
      "France\n"
     ]
    },
    {
     "data": {
      "text/plain": [
       "{'Norway': 7.522, 'New Zealand': 7.286, 'Chile': 6.67, 'France': 6.575}"
      ]
     },
     "execution_count": 4,
     "metadata": {},
     "output_type": "execute_result"
    }
   ],
   "source": [
    "average_dict = {}\n",
    "\n",
    "for country in missing_countries['Country']:\n",
    "    print(country)\n",
    "    country_mean = [hap15['Happiness Score'].loc[hap15['Country']==country],\n",
    "        hap16['Happiness Score'].loc[hap15['Country']==country],\n",
    "        hap18['Score'].loc[hap15['Country']==country],\n",
    "        hap19['Score'].loc[hap15['Country']==country]]\n",
    "    \n",
    "    average_dict[country] = country_mean[0].mean()\n",
    "    \n",
    "average_dict"
   ]
  },
  {
   "cell_type": "code",
   "execution_count": null,
   "metadata": {},
   "outputs": [],
   "source": [
    "missing_series = pd.Series(average_dict)\n",
    "\n",
    "hap17['Happiness.Score'] = hap17['Happiness.Score'].fillna(hap17['Country'].map(missing_series))\n",
    "\n",
    "hap17"
   ]
  }
 ],
 "metadata": {
  "kernelspec": {
   "display_name": "setup-instruction-venv",
   "language": "python",
   "name": "python3"
  },
  "language_info": {
   "codemirror_mode": {
    "name": "ipython",
    "version": 3
   },
   "file_extension": ".py",
   "mimetype": "text/x-python",
   "name": "python",
   "nbconvert_exporter": "python",
   "pygments_lexer": "ipython3",
   "version": "3.11.2"
  },
  "orig_nbformat": 4
 },
 "nbformat": 4,
 "nbformat_minor": 2
}
