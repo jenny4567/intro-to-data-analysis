{
 "cells": [
  {
   "cell_type": "code",
   "execution_count": null,
   "id": "59347c67-b78e-4829-914d-37492334ebfe",
   "metadata": {},
   "outputs": [],
   "source": [
    "import pandas as pd\n",
    "\n",
    "# Assuming you have a DataFrame named 'df' with an 'Age' column\n",
    "df = pd.read_csv('./datasets/anonymised_hospital_data.csv')\n",
    "# Define the bin edges for the age ranges\n",
    "bins = [18, 26, 36, 46, 56]\n",
    "\n",
    "# Define the labels for the age ranges\n",
    "labels = ['18-25', '26-35', '36-45', '46-55']\n",
    "\n",
    "# Create the 'Age Group' column using pd.cut()\n",
    "df['Age Group'] = pd.cut(df['Age'], bins=bins, labels=labels, right=False)\n",
    "df"
   ]
  }
 ],
 "metadata": {
  "kernelspec": {
   "display_name": "Python 3 (ipykernel)",
   "language": "python",
   "name": "python3"
  },
  "language_info": {
   "codemirror_mode": {
    "name": "ipython",
    "version": 3
   },
   "file_extension": ".py",
   "mimetype": "text/x-python",
   "name": "python",
   "nbconvert_exporter": "python",
   "pygments_lexer": "ipython3",
   "version": "3.9.7"
  }
 },
 "nbformat": 4,
 "nbformat_minor": 5
}
