{
 "cells": [
  {
   "cell_type": "markdown",
   "id": "4c56c2cf-7db6-49b0-8ad8-0f16a745aea9",
   "metadata": {
    "tags": []
   },
   "source": [
    "# Anonymisation\n",
    "---\n",
    "\n",
    "There a different ways how you can anonymise sensitive data. In this example we are using **Faker**, a Python library that allows you to generate realistic fake data for a variety of purposes. You can find the documentation **[here](https://faker.readthedocs.io/en/master/)**.\n",
    "\n",
    "Faker allows you to:\n",
    "- Generate test data\\\n",
    "Faker can be used to create large volumes of realistic test data for software development and testing purposes. Whether you need fake names, addresses, phone numbers, or other types of data, Faker can generate it for you.\n",
    "\n",
    "- Anonymise data\\\n",
    "When sharing data for research or analysis purposes, privacy concerns may arise. Faker can be used to anonymise sensitive data by replacing personal information with fake but realistic alternatives. This allows you to share datasets without compromising individual privacy."
   ]
  },
  {
   "cell_type": "code",
   "execution_count": null,
   "id": "171a9962-b20e-4d70-beae-5c288fcd7b50",
   "metadata": {},
   "outputs": [],
   "source": [
    "# remember to have the faker libraries installed\n",
    "# !pip install faker\n",
    "\n",
    "import pandas as pd\n",
    "from faker import Faker\n",
    "from datetime import datetime\n",
    "\n",
    "faker = Faker('en_GB')\n",
    "\n",
    "def anonymise_data(input_file, output_file):\n",
    "    df = pd.read_csv(input_file)\n",
    "    \n",
    "    # Overwrite Name with Patient1..Patientx\n",
    "    df['Name'] = ['Patient{}'.format(i) for i in range(1, len(df) + 1)]\n",
    "    \n",
    "    # Convert the Date_of_Birth column to datetime amd calculate the age based on the Date_of_Birth\n",
    "    df['Date_of_Birth'] = pd.to_datetime(df['Date_of_Birth'])\n",
    "    current_year = datetime.now().year\n",
    "    df['Age'] = current_year - df['Date_of_Birth'].dt.year\n",
    "    \n",
    "    # Replace postcode with faker data\n",
    "    df['Postcode'] = [faker.postcode() for _ in range(len(df))]\n",
    "       \n",
    "    # Export relevant columns to csv\n",
    "    df = df[['Name','Gender','Age','Postcode']]\n",
    "    df.to_csv(output_file, index=False)\n",
    "    \n",
    "anonymise_data('./datasets/hospital_data.csv','./datasets/anonymised_hospital_data.csv')"
   ]
  }
 ],
 "metadata": {
  "kernelspec": {
   "display_name": "Python 3 (ipykernel)",
   "language": "python",
   "name": "python3"
  },
  "language_info": {
   "codemirror_mode": {
    "name": "ipython",
    "version": 3
   },
   "file_extension": ".py",
   "mimetype": "text/x-python",
   "name": "python",
   "nbconvert_exporter": "python",
   "pygments_lexer": "ipython3",
   "version": "3.9.7"
  }
 },
 "nbformat": 4,
 "nbformat_minor": 5
}
