{
 "cells": [
  {
   "cell_type": "markdown",
   "id": "13972391-7441-4712-8a01-2b4a27212b5a",
   "metadata": {},
   "source": [
    "# Explorative Data Analysis - Example\n",
    "---\n",
    "Below you see an example of an EDA.\n",
    "- Import packages\n",
    "- Read the dataset\n",
    "- Display the first few rows of the DataFrame\n",
    "- Get information about the DataFrame\n",
    "- Create a summary statistics of the numerical data\n",
    "- Count non-null value\n",
    "- Show the correlation between variables\n",
    "- Visualise the data with heatmaps, histograms and boxplots\n",
    "\n",
    "Run the code cells one after the other and see what you learn with each step about your data."
   ]
  },
  {
   "cell_type": "code",
   "execution_count": null,
   "id": "ce263925-5ecf-41a1-bb16-57a0ce3ad605",
   "metadata": {},
   "outputs": [],
   "source": [
    "# import packages \n",
    "import pandas as pd\n",
    "import matplotlib.pyplot as plt\n",
    "import seaborn as sns"
   ]
  },
  {
   "cell_type": "code",
   "execution_count": null,
   "id": "ca787557-0a6f-4384-a211-18df3e2d6bbe",
   "metadata": {},
   "outputs": [],
   "source": [
    "# Read the dataset\n",
    "df = pd.read_csv('../datasets/eda_exercise.csv')"
   ]
  },
  {
   "cell_type": "code",
   "execution_count": null,
   "id": "3033b242-29c8-4686-bece-b4e6f32805a2",
   "metadata": {},
   "outputs": [],
   "source": [
    "# Display the first few rows of the DataFrame\n",
    "df.head()"
   ]
  },
  {
   "cell_type": "code",
   "execution_count": null,
   "id": "4999fc32-d2f2-43b7-8dee-019849ba07f4",
   "metadata": {},
   "outputs": [],
   "source": [
    "# Get information about the DataFrame\n",
    "df.info()"
   ]
  },
  {
   "cell_type": "code",
   "execution_count": null,
   "id": "686fa9f2-e3be-4c62-aa2f-cb6e9f4f0d0f",
   "metadata": {},
   "outputs": [],
   "source": [
    "# Summary statistics of numerical columns\n",
    "df.describe()"
   ]
  },
  {
   "cell_type": "code",
   "execution_count": null,
   "id": "26bcc27f-dfa9-41b1-985d-d08f4435681e",
   "metadata": {},
   "outputs": [],
   "source": [
    "# Count of non-null values for each column\n",
    "df.count()"
   ]
  },
  {
   "cell_type": "code",
   "execution_count": null,
   "id": "991df67e-ddc2-46a7-a022-321308fa9253",
   "metadata": {},
   "outputs": [],
   "source": [
    "# Correlation matrix\n",
    "correlation_matrix = df.corr()\n",
    "correlation_matrix"
   ]
  },
  {
   "cell_type": "code",
   "execution_count": null,
   "id": "f21c39c0-2e68-4986-b19f-c2ecee76cebe",
   "metadata": {},
   "outputs": [],
   "source": [
    "# Plot correlation matrix using a heatmap\n",
    "plt.figure(figsize=(10, 8))\n",
    "sns.heatmap(correlation_matrix, annot=True, cmap='coolwarm')\n",
    "plt.title(\"Correlation Matrix\")"
   ]
  },
  {
   "cell_type": "code",
   "execution_count": null,
   "id": "059eaba0-a95e-406d-b52f-5b5efc1a2223",
   "metadata": {},
   "outputs": [],
   "source": [
    "# Plot histograms for numerical variables\n",
    "numerical_variables = ['Avg. Session Length', 'Time on App','Time on Website', 'Length of Membership', 'Yearly Amount Spent']\n",
    "for variable in numerical_variables:\n",
    "    plt.figure(figsize=(6, 4))\n",
    "    plt.hist(df[variable], bins=10)\n",
    "    plt.title(f\"Histogram of {variable}\")\n",
    "    plt.xlabel(variable)\n",
    "    plt.ylabel(\"Frequency\")"
   ]
  },
  {
   "cell_type": "code",
   "execution_count": null,
   "id": "4c1afc39-5894-424e-86cb-8c4352f309aa",
   "metadata": {},
   "outputs": [],
   "source": [
    "# Box plots for numerical variables\n",
    "for variable in numerical_variables:\n",
    "    plt.figure(figsize=(6, 4))\n",
    "    sns.boxplot(x=df[variable])\n",
    "    plt.title(f\"Boxplot of {variable}\")"
   ]
  },
  {
   "cell_type": "code",
   "execution_count": null,
   "id": "52d82a5d-5846-4aac-b483-c9cfeec8f41b",
   "metadata": {},
   "outputs": [],
   "source": [
    "# Scatter plot between two numerical variables\n",
    "plt.figure(figsize=(6, 4))\n",
    "sns.scatterplot(x=df['Yearly Amount Spent'], y=df['Time on App'])\n",
    "\n",
    "# Display the plots\n",
    "plt.show()"
   ]
  },
  {
   "cell_type": "code",
   "execution_count": null,
   "id": "8b396783-016d-4248-bba2-0386049c5c36",
   "metadata": {},
   "outputs": [],
   "source": [
    "# Seaborns pairplot allow us to see scatterplots and histograms for all numerical variables in one visualisation\n",
    "sns.pairplot(df)\n",
    "plt.title('Pairwise plot')"
   ]
  }
 ],
 "metadata": {
  "kernelspec": {
   "display_name": "Python 3 (ipykernel)",
   "language": "python",
   "name": "python3"
  },
  "language_info": {
   "codemirror_mode": {
    "name": "ipython",
    "version": 3
   },
   "file_extension": ".py",
   "mimetype": "text/x-python",
   "name": "python",
   "nbconvert_exporter": "python",
   "pygments_lexer": "ipython3",
   "version": "3.9.7"
  }
 },
 "nbformat": 4,
 "nbformat_minor": 5
}
